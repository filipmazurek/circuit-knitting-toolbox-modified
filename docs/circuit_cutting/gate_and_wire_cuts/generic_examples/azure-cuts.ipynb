{
 "cells": [
  {
   "cell_type": "markdown",
   "metadata": {},
   "source": [
    "# Circuit Decomposition \n",
    "Edge and gate decomposition with zero classical communication."
   ]
  },
  {
   "cell_type": "markdown",
   "metadata": {},
   "source": [
    "Prerequisites: \n",
    "\n",
    "1. Create a new Conda environment\n",
    "```shell\n",
    "conda create --name azure-knitting python=3.9.17\n",
    "conda activate azure-knitting\n",
    "```\n",
    "\n",
    "1. Install everything needed to run the `modified-circuit-knitting-toolbox` locally: \n",
    "```shell\n",
    "cd modified-circuit-knitting-toolbox\n",
    "python -m pip install -e .\n",
    "python -m pip install 'docplex>=2.23.222' 'cplex>=22.1.0.0' 'gurobipy==11.0.0'\n",
    "```\n",
    "\n",
    "1. Install everything needed to run on Azure:\n",
    "```shell\n",
    "python -m pip install --upgrade 'azure-quantum[qiskit]==1.2.1'\n",
    "# python -m pip install qiskit-aer==0.12.1\n",
    "```\n",
    "\n",
    "### Documentation\n",
    "Running on Azure: [instructions](https://learn.microsoft.com/en-us/azure/quantum/quickstart-microsoft-qiskit?tabs=tabid-quantinuum&pivots=platform-local#prerequisites)\n"
   ]
  },
  {
   "cell_type": "markdown",
   "metadata": {},
   "source": [
    "First, enable communication with the instance"
   ]
  },
  {
   "cell_type": "code",
   "execution_count": 1,
   "metadata": {},
   "outputs": [],
   "source": [
    "# Prevent from overriding already run experiments\n",
    "exit()"
   ]
  },
  {
   "cell_type": "code",
   "execution_count": 1,
   "metadata": {
    "ExecuteTime": {
     "end_time": "2024-05-10T20:40:24.100721Z",
     "start_time": "2024-05-10T20:40:21.811724Z"
    }
   },
   "outputs": [],
   "source": [
    "from azure.quantum import Workspace\n",
    "from azure.quantum.qiskit import AzureQuantumProvider\n",
    "\n",
    "\n",
    "workspace = Workspace(\n",
    "            resource_id = \"/subscriptions/4ed1f7fd-7d9e-4c61-9fac-521649937e65/resourceGroups/Cutting/providers/Microsoft.Quantum/Workspaces/Cutting\",\n",
    "            location = \"eastus\")\n",
    "\n",
    "\n",
    "provider = AzureQuantumProvider(workspace)"
   ]
  },
  {
   "cell_type": "markdown",
   "metadata": {},
   "source": [
    "Check what Azure targets are available. Note that Quantinuum may need to be enabled in your workspace."
   ]
  },
  {
   "cell_type": "code",
   "execution_count": 2,
   "metadata": {},
   "outputs": [
    {
     "name": "stdout",
     "output_type": "stream",
     "text": [
      "This workspace's targets:\n",
      "- quantinuum.sim.h1-1sc\n",
      "- quantinuum.sim.h1-1sc\n",
      "- quantinuum.sim.h1-1e\n",
      "- quantinuum.sim.h1-1e\n",
      "- quantinuum.qpu.h1-1\n",
      "- quantinuum.qpu.h1-1\n"
     ]
    }
   ],
   "source": [
    "print(\"This workspace's targets:\")\n",
    "for backend in provider.backends():\n",
    "    print(\"- \" + backend.name())"
   ]
  },
  {
   "cell_type": "code",
   "execution_count": 3,
   "metadata": {},
   "outputs": [
    {
     "name": "stdout",
     "output_type": "stream",
     "text": [
      "global phase: 3.8832\n",
      "     ┌─────────────┐┌─────────────┐                    ┌─────────────┐»\n",
      "q_0: ┤ U3(0.8,0,0) ├┤ U3(0,0,0.8) ├────────────■───────┤ U3(0.8,0,0) ├»\n",
      "     ├─────────────┤├─────────────┤          ┌─┴─┐     ├─────────────┤»\n",
      "q_1: ┤ U3(0.8,0,0) ├┤ U3(0,0,0.8) ├──■───────┤ X ├─────┤ U3(0.8,0,0) ├»\n",
      "     ├─────────────┤├─────────────┤┌─┴─┐┌────┴───┴────┐├─────────────┤»\n",
      "q_2: ┤ U3(0.8,0,0) ├┤ U3(0,0,0.8) ├┤ X ├┤ U3(0.8,0,0) ├┤ U3(0,0,0.8) ├»\n",
      "     └─────────────┘└─────────────┘└───┘└─────────────┘└─────────────┘»\n",
      "«     ┌─────────────┐\n",
      "«q_0: ┤ U3(0,0,0.8) ├\n",
      "«     ├─────────────┤\n",
      "«q_1: ┤ U3(0,0,0.8) ├\n",
      "«     └─────────────┘\n",
      "«q_2: ───────────────\n",
      "«                    \n"
     ]
    }
   ],
   "source": [
    "from qiskit_nature.second_q.mappers import JordanWignerMapper\n",
    "from qiskit.circuit.library import EfficientSU2\n",
    "\n",
    "# Create a quantum circuit to cut. We create a simple ansatz\n",
    "mapper = JordanWignerMapper()\n",
    "ansatz = EfficientSU2(3, reps=1)\n",
    "# Decompose to the actual individual gates\n",
    "circuit = ansatz.decompose(reps=3)\n",
    "# Set some arbitrary parameters\n",
    "circuit.assign_parameters([0.8] * len(circuit.parameters), inplace=True)\n",
    "\n",
    "print(circuit)"
   ]
  },
  {
   "cell_type": "markdown",
   "metadata": {},
   "source": [
    "Create a list of observables to use, and automatically find cut locations."
   ]
  },
  {
   "cell_type": "code",
   "execution_count": 5,
   "metadata": {},
   "outputs": [
    {
     "name": "stdout",
     "output_type": "stream",
     "text": [
      "Warning: Relaxation of model `docplex_cutter` found one relaxed solution, but no relaxed constraints - check\n",
      "MIP MODEL CUT WIRES:  []\n"
     ]
    }
   ],
   "source": [
    "from circuit_knitting.cutting.gate_and_wire_cutting.frontend import cut_wires_and_gates_to_subcircuits\n",
    "\n",
    "observables = [\"ZZI\", \"IZZ\", \"IIZ\", \"XIX\", \"ZIZ\", \"IXI\"]\n",
    "\n",
    "subcircuits, subobservables, _, _ = cut_wires_and_gates_to_subcircuits(\n",
    "    circuit=circuit,\n",
    "    observables=observables,\n",
    "    method='automatic',\n",
    "    max_subcircuit_width=2,\n",
    "    max_cuts=9,\n",
    "    num_subcircuits=[2]\n",
    ")"
   ]
  },
  {
   "cell_type": "code",
   "execution_count": 6,
   "metadata": {},
   "outputs": [
    {
     "name": "stdout",
     "output_type": "stream",
     "text": [
      "      ┌─────────────┐┌─────────────┐                 ┌─────────────┐»\n",
      "q5_0: ┤ U3(0.8,0,0) ├┤ U3(0,0,0.8) ├──────────────■──┤ U3(0.8,0,0) ├»\n",
      "      ├─────────────┤├─────────────┤┌──────────┐┌─┴─┐├─────────────┤»\n",
      "q5_1: ┤ U3(0.8,0,0) ├┤ U3(0,0,0.8) ├┤ cut_cx_0 ├┤ X ├┤ U3(0.8,0,0) ├»\n",
      "      └─────────────┘└─────────────┘└──────────┘└───┘└─────────────┘»\n",
      "«      ┌─────────────┐\n",
      "«q5_0: ┤ U3(0,0,0.8) ├\n",
      "«      ├─────────────┤\n",
      "«q5_1: ┤ U3(0,0,0.8) ├\n",
      "«      └─────────────┘\n",
      "    ┌─────────────┐┌─────────────┐┌──────────┐┌─────────────┐┌─────────────┐\n",
      "q6: ┤ U3(0.8,0,0) ├┤ U3(0,0,0.8) ├┤ cut_cx_0 ├┤ U3(0.8,0,0) ├┤ U3(0,0,0.8) ├\n",
      "    └─────────────┘└─────────────┘└──────────┘└─────────────┘└─────────────┘\n"
     ]
    }
   ],
   "source": [
    "# Visualize the subcircuits. Note the decomposed 2-qubit gates marked 'cut_cx_0'\n",
    "for key in subcircuits.keys():\n",
    "    print(subcircuits[key])"
   ]
  },
  {
   "cell_type": "code",
   "execution_count": 7,
   "metadata": {},
   "outputs": [],
   "source": [
    "from circuit_knitting.cutting.gate_and_wire_cutting.evaluation import azure_queue_experiments\n",
    "\n",
    "\n",
    "# Use the Quantinuum emulator backend\n",
    "# FIXME: use syntax checker for early testing\n",
    "backend_str = 'quantinuum.sim.h1-1e'\n",
    "backend = provider.get_backend(backend_str)\n",
    "\n",
    "# Submit the subcircuits to Azure Quantum\n",
    "job_list, qpd_list, coefficients, subexperiments = azure_queue_experiments(\n",
    "    circuits=subcircuits,\n",
    "    subobservables=subobservables,\n",
    "    num_samples=8,  # 8 unique samples to get some statistics\n",
    "    backend = backend,\n",
    "    # provider = provider,\n",
    "    shots=128  # Balance of cost and accuracy\n",
    ")"
   ]
  },
  {
   "cell_type": "markdown",
   "metadata": {},
   "source": [
    "Check on the actual results from run on Quantinuum."
   ]
  },
  {
   "cell_type": "code",
   "execution_count": 8,
   "metadata": {},
   "outputs": [
    {
     "name": "stdout",
     "output_type": "stream",
     "text": [
      "............"
     ]
    },
    {
     "data": {
      "text/plain": [
       "CuttingExperimentResults(quasi_dists=[[[({0: 0.34375, 1: 0.1015625, 2: 0.28125, 3: 0.2734375}, 0), ({2: 0.0625, 0: 0.5234375, 3: 0.0546875, 1: 0.359375}, 0)], [({0: 0.0859375, 1: 0.9140625}, 0), ({0: 0.28125, 1: 0.71875}, 0)]], [[({0: 0.84375, 1: 0.0703125, 3: 0.0859375}, 0), ({2: 0.578125, 0: 0.171875, 3: 0.0234375, 1: 0.2265625}, 0)], [({0: 0.4921875, 1: 0.5078125}, 0), ({0: 0.9921875, 1: 0.0078125}, 0)]], [[({5: 0.09375, 2: 0.078125, 6: 0.15625, 4: 0.1015625, 0: 0.5625, 7: 0.0078125}, 1), ({5: 0.0546875, 2: 0.21875, 4: 0.3046875, 0: 0.34375, 1: 0.015625, 3: 0.0078125, 7: 0.0546875}, 1)], [({0: 0.5625, 1: 0.4375}, 0), ({0: 0.6328125, 1: 0.3671875}, 0)]], [[({5: 0.078125, 2: 0.0546875, 6: 0.1796875, 4: 0.0703125, 0: 0.5703125, 1: 0.015625, 3: 0.0078125, 7: 0.0234375}, 1), ({5: 0.0546875, 2: 0.203125, 6: 0.015625, 4: 0.265625, 0: 0.359375, 1: 0.015625, 7: 0.0859375}, 1)], [({0: 0.0625, 1: 0.9375}, 0), ({0: 0.671875, 1: 0.328125}, 0)]], [[({0: 0.4765625, 1: 0.0390625, 2: 0.2578125, 3: 0.2265625}, 0), ({0: 0.3125, 2: 0.2890625, 3: 0.0078125, 1: 0.390625}, 0)], [({2: 0.5703125, 0: 0.125, 3: 0.2265625, 1: 0.078125}, 1), ({0: 0.6171875, 1: 0.0078125, 2: 0.15625, 3: 0.21875}, 1)]], [[({0: 0.703125, 2: 0.109375, 3: 0.0625, 1: 0.125}, 0), ({2: 0.2890625, 0: 0.390625, 3: 0.1015625, 1: 0.21875}, 0)], [({0: 0.1015625, 2: 0.65625, 3: 0.1796875, 1: 0.0625}, 1), ({0: 0.53125, 1: 0.0234375, 2: 0.1953125, 3: 0.25}, 1)]]], coeffs=[(0.5, <WeightType.EXACT: 1>), (0.5, <WeightType.EXACT: 1>), (0.5, <WeightType.EXACT: 1>), (-0.5, <WeightType.EXACT: 1>), (0.5, <WeightType.EXACT: 1>), (-0.5, <WeightType.EXACT: 1>)])"
      ]
     },
     "execution_count": 8,
     "metadata": {},
     "output_type": "execute_result"
    }
   ],
   "source": [
    "from circuit_knitting.cutting.gate_and_wire_cutting.evaluation import get_experiment_results_from_jobs\n",
    "\n",
    "experiment_results = get_experiment_results_from_jobs(job_list, qpd_list, coefficients)\n",
    "experiment_results"
   ]
  },
  {
   "cell_type": "markdown",
   "metadata": {},
   "source": [
    "Now check the actual expectation values from the observables."
   ]
  },
  {
   "cell_type": "code",
   "execution_count": 9,
   "metadata": {
    "ExecuteTime": {
     "end_time": "2024-05-10T20:40:04.176631Z",
     "start_time": "2024-05-10T20:39:57.337749Z"
    }
   },
   "outputs": [
    {
     "data": {
      "text/plain": [
       "[0.40625,\n",
       " 0.4658203125,\n",
       " 0.399169921875,\n",
       " 0.1591796875,\n",
       " 0.130126953125,\n",
       " 0.27294921875]"
      ]
     },
     "execution_count": 9,
     "metadata": {},
     "output_type": "execute_result"
    }
   ],
   "source": [
    "from circuit_knitting.cutting.cutting_reconstruction import reconstruct_expectation_values\n",
    "\n",
    "quantinuum_expvals = reconstruct_expectation_values(*experiment_results, subobservables)\n",
    "quantinuum_expvals"
   ]
  },
  {
   "cell_type": "code",
   "execution_count": 10,
   "metadata": {},
   "outputs": [
    {
     "data": {
      "text/plain": [
       "array([0.50390696, 0.57454157, 0.39584538, 0.09798816, 0.18481229,\n",
       "       0.23530298])"
      ]
     },
     "execution_count": 10,
     "metadata": {},
     "output_type": "execute_result"
    }
   ],
   "source": [
    "# Create ideal results\n",
    "from circuit_knitting.cutting.gate_and_wire_cutting.frontend import exact_observables\n",
    "\n",
    "ideal_expvals = exact_observables(circuit, observables)\n",
    "ideal_expvals"
   ]
  },
  {
   "cell_type": "code",
   "execution_count": 11,
   "metadata": {},
   "outputs": [
    {
     "name": "stdout",
     "output_type": "stream",
     "text": [
      "Simulated expectation values: [0.40625, 0.46582031, 0.39916992, 0.15917969, 0.13012695, 0.27294922]\n",
      "Exact expectation values: [0.50390696, 0.57454157, 0.39584538, 0.09798816, 0.18481229, 0.23530298]\n",
      "Errors in estimation: [-0.09765696, -0.10872126, 0.00332454, 0.06119152, -0.05468534, 0.03764624]\n",
      "Relative errors in estimation: [-0.19379959, -0.18923132, 0.00839858, 0.62447874, -0.29589666, 0.15999051]\n"
     ]
    },
    {
     "data": {
      "text/plain": [
       "([-0.09765696, -0.10872126, 0.00332454, 0.06119152, -0.05468534, 0.03764624],\n",
       " [-0.19379959, -0.18923132, 0.00839858, 0.62447874, -0.29589666, 0.15999051])"
      ]
     },
     "execution_count": 11,
     "metadata": {},
     "output_type": "execute_result"
    }
   ],
   "source": [
    "# Compare the error between results\n",
    "from circuit_knitting.cutting.gate_and_wire_cutting.frontend import compare_results\n",
    "\n",
    "compare_results(quantinuum_expvals, ideal_expvals)"
   ]
  },
  {
   "cell_type": "markdown",
   "metadata": {},
   "source": [
    "The below is a cost estimator for the circuits run - make sure to add up for all subcircuits run."
   ]
  },
  {
   "cell_type": "code",
   "execution_count": 12,
   "metadata": {},
   "outputs": [
    {
     "name": "stdout",
     "output_type": "stream",
     "text": [
      "Estimated cost: 133.8752 HQC\n"
     ]
    }
   ],
   "source": [
    "cost_backend = provider.get_backend('quantinuum.qpu.h1-1')\n",
    "total_cost = 0\n",
    "for sample in subexperiments:\n",
    "    for partition in sample:\n",
    "        for subexperiment in partition:\n",
    "            cost = cost_backend.estimate_cost(subexperiment, shots=128)\n",
    "            total_cost += cost.estimated_total\n",
    "print(f'Estimated cost: {total_cost} {cost.currency_code}')"
   ]
  },
  {
   "cell_type": "code",
   "execution_count": null,
   "metadata": {},
   "outputs": [],
   "source": []
  }
 ],
 "metadata": {
  "kernelspec": {
   "display_name": "test-azure",
   "language": "python",
   "name": "python3"
  },
  "language_info": {
   "codemirror_mode": {
    "name": "ipython",
    "version": 3
   },
   "file_extension": ".py",
   "mimetype": "text/x-python",
   "name": "python",
   "nbconvert_exporter": "python",
   "pygments_lexer": "ipython3",
   "version": "3.9.17"
  }
 },
 "nbformat": 4,
 "nbformat_minor": 2
}
