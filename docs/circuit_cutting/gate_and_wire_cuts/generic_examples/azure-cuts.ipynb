{
 "cells": [
  {
   "cell_type": "markdown",
   "metadata": {},
   "source": [
    "# Circuit Decomposition \n",
    "Edge and gate decomposition with zero classical communication."
   ]
  },
  {
   "cell_type": "markdown",
   "metadata": {},
   "source": [
    "Prerequisites: \n",
    "\n",
    "1. Create a new Conda environment\n",
    "```shell\n",
    "conda create --name azure-knitting python=3.9.17\n",
    "conda activate azure-knitting\n",
    "```\n",
    "\n",
    "1. Install everything needed to run the `modified-circuit-knitting-toolbox` locally: \n",
    "```shell\n",
    "cd modified-circuit-knitting-toolbox\n",
    "python -m pip install -e .\n",
    "python -m pip install 'docplex>=2.23.222' 'cplex>=22.1.0.0' 'gurobipy==11.0.0'\n",
    "```\n",
    "\n",
    "1. Install everything needed to run on Azure:\n",
    "```shell\n",
    "python -m pip install --upgrade 'azure-quantum[qiskit]==1.2.1'\n",
    "# python -m pip install qiskit-aer==0.12.1\n",
    "```\n",
    "\n",
    "### Documentation\n",
    "Running on Azure: [instructions](https://learn.microsoft.com/en-us/azure/quantum/quickstart-microsoft-qiskit?tabs=tabid-quantinuum&pivots=platform-local#prerequisites)\n"
   ]
  },
  {
   "cell_type": "markdown",
   "metadata": {},
   "source": [
    "First, we enable communication with our Azure instance"
   ]
  },
  {
   "cell_type": "code",
   "execution_count": 13,
   "metadata": {},
   "outputs": [],
   "source": [
    "# Prevent from overriding already run experiments\n",
    "# exit()"
   ]
  },
  {
   "cell_type": "code",
   "execution_count": 14,
   "metadata": {
    "ExecuteTime": {
     "end_time": "2024-05-10T20:40:24.100721Z",
     "start_time": "2024-05-10T20:40:21.811724Z"
    }
   },
   "outputs": [],
   "source": [
    "from azure.quantum import Workspace\n",
    "from azure.quantum.qiskit import AzureQuantumProvider\n",
    "\n",
    "\n",
    "workspace = Workspace(\n",
    "            resource_id = \"/subscriptions/4ed1f7fd-7d9e-4c61-9fac-521649937e65/resourceGroups/Cutting/providers/Microsoft.Quantum/Workspaces/Cutting\",\n",
    "            location = \"eastus\")\n",
    "\n",
    "\n",
    "provider = AzureQuantumProvider(workspace)"
   ]
  },
  {
   "cell_type": "markdown",
   "metadata": {},
   "source": [
    "Check what Azure targets are available. Note that Quantinuum may need to be enabled in your workspace."
   ]
  },
  {
   "cell_type": "code",
   "execution_count": 15,
   "metadata": {},
   "outputs": [
    {
     "name": "stdout",
     "output_type": "stream",
     "text": [
      "This workspace's targets:\n",
      "- quantinuum.sim.h1-1sc\n",
      "- quantinuum.sim.h1-1sc\n",
      "- quantinuum.sim.h1-1e\n",
      "- quantinuum.sim.h1-1e\n",
      "- quantinuum.qpu.h1-1\n",
      "- quantinuum.qpu.h1-1\n"
     ]
    }
   ],
   "source": [
    "print(\"This workspace's targets:\")\n",
    "for backend in provider.backends():\n",
    "    print(\"- \" + backend.name())"
   ]
  },
  {
   "cell_type": "code",
   "execution_count": 16,
   "metadata": {},
   "outputs": [
    {
     "name": "stdout",
     "output_type": "stream",
     "text": [
      "global phase: 3.8832\n",
      "     ┌─────────────┐┌─────────────┐                    ┌─────────────┐»\n",
      "q_0: ┤ U3(0.8,0,0) ├┤ U3(0,0,0.8) ├────────────■───────┤ U3(0.8,0,0) ├»\n",
      "     ├─────────────┤├─────────────┤          ┌─┴─┐     ├─────────────┤»\n",
      "q_1: ┤ U3(0.8,0,0) ├┤ U3(0,0,0.8) ├──■───────┤ X ├─────┤ U3(0.8,0,0) ├»\n",
      "     ├─────────────┤├─────────────┤┌─┴─┐┌────┴───┴────┐├─────────────┤»\n",
      "q_2: ┤ U3(0.8,0,0) ├┤ U3(0,0,0.8) ├┤ X ├┤ U3(0.8,0,0) ├┤ U3(0,0,0.8) ├»\n",
      "     └─────────────┘└─────────────┘└───┘└─────────────┘└─────────────┘»\n",
      "«     ┌─────────────┐\n",
      "«q_0: ┤ U3(0,0,0.8) ├\n",
      "«     ├─────────────┤\n",
      "«q_1: ┤ U3(0,0,0.8) ├\n",
      "«     └─────────────┘\n",
      "«q_2: ───────────────\n",
      "«                    \n"
     ]
    }
   ],
   "source": [
    "from qiskit_nature.second_q.mappers import JordanWignerMapper\n",
    "from qiskit.circuit.library import EfficientSU2\n",
    "\n",
    "# Create a quantum circuit to cut. We create a simple ansatz\n",
    "mapper = JordanWignerMapper()\n",
    "ansatz = EfficientSU2(3, reps=1)\n",
    "# Decompose to the actual individual gates\n",
    "circuit = ansatz.decompose(reps=3)\n",
    "# Set some arbitrary parameters\n",
    "circuit.assign_parameters([0.8] * len(circuit.parameters), inplace=True)\n",
    "\n",
    "print(circuit)"
   ]
  },
  {
   "cell_type": "markdown",
   "metadata": {},
   "source": [
    "Create a list of observables to use, and automatically find cut locations."
   ]
  },
  {
   "cell_type": "code",
   "execution_count": 17,
   "metadata": {},
   "outputs": [
    {
     "name": "stdout",
     "output_type": "stream",
     "text": [
      "Exporting as a LP file to let you check the model that will be solved :  inf <class 'float'>\n",
      "Version identifier: 22.1.1.0 | 2023-06-15 | d64d5bd77\n",
      "CPXPARAM_Read_DataCheck                          1\n",
      "CPXPARAM_TimeLimit                               300\n",
      "Warning:  Non-integral bounds for integer variables rounded.\n",
      "Tried aggregator 2 times.\n",
      "MIP Presolve eliminated 19 rows and 7 columns.\n",
      "MIP Presolve modified 3 coefficients.\n",
      "Aggregator did 24 substitutions.\n",
      "Reduced MIP has 11 rows, 8 columns, and 35 nonzeros.\n",
      "Reduced MIP has 5 binaries, 3 generals, 0 SOSs, and 0 indicators.\n",
      "Presolve time = 0.01 sec. (0.12 ticks)\n",
      "Found incumbent of value 2.000000 after 0.01 sec. (0.13 ticks)\n",
      "Probing time = 0.00 sec. (0.00 ticks)\n",
      "Tried aggregator 1 time.\n",
      "Detecting symmetries...\n",
      "Reduced MIP has 11 rows, 8 columns, and 35 nonzeros.\n",
      "Reduced MIP has 5 binaries, 3 generals, 0 SOSs, and 0 indicators.\n",
      "Presolve time = 0.00 sec. (0.02 ticks)\n",
      "Probing time = 0.00 sec. (0.00 ticks)\n",
      "Clique table members: 1.\n",
      "MIP emphasis: balance optimality and feasibility.\n",
      "MIP search method: dynamic search.\n",
      "Parallel mode: deterministic, using up to 8 threads.\n",
      "Root relaxation solution time = 0.00 sec. (0.02 ticks)\n",
      "\n",
      "        Nodes                                         Cuts/\n",
      "   Node  Left     Objective  IInf  Best Integer    Best Bound    ItCnt     Gap\n",
      "\n",
      "*     0+    0                            2.0000        0.0000           100.00%\n",
      "*     0     0      integral     0        1.0000        1.0000        3    0.00%\n",
      "Elapsed time = 0.02 sec. (0.20 ticks, tree = 0.00 MB, solutions = 2)\n",
      "\n",
      "Root node processing (before b&c):\n",
      "  Real time             =    0.03 sec. (0.20 ticks)\n",
      "Parallel b&c, 8 threads:\n",
      "  Real time             =    0.00 sec. (0.00 ticks)\n",
      "  Sync time (average)   =    0.00 sec.\n",
      "  Wait time (average)   =    0.00 sec.\n",
      "                          ------------\n",
      "Total (root+branch&cut) =    0.03 sec. (0.20 ticks)\n",
      "Warning: Relaxation of model `docplex_cutter` found one relaxed solution, but no relaxed constraints - check\n",
      "* number of relaxations: 0\n",
      "* total absolute relaxation: 0\n",
      "solution for: docplex_cutter\n",
      "objective: 1\n",
      "status: OPTIMAL_SOLUTION(2)\n",
      "bin_wire_cut_on_qubit_sc0_q1 = 1\n",
      "bin_wire_cut_on_qubit_sc0_q2 = 1\n",
      "bin_wire_cut_on_qubit_sc1_q0 = 1\n",
      "num_vertices_per_qubit_sc0_q1 = 1\n",
      "num_vertices_per_qubit_sc0_q2 = 2\n",
      "num_vertices_per_qubit_sc1_q0 = 1\n",
      "total_num_gate_cuts = 1\n",
      "weighted_total_cuts = 1\n",
      "bin_sc_0_vx_0 = 1\n",
      "bin_sc_0_vx_2 = 1\n",
      "bin_sc_0_vx_3 = 1\n",
      "bin_sc_1_vx_1 = 1\n",
      "bin_sc_0_edg_0 = 1\n",
      "bin_sc_1_edg_0 = 1\n",
      "num_cuts = 1\n",
      "d_0 = 2\n",
      "d_1 = 1\n",
      "MIP MODEL CUT EDGES:  [('q[1]0', 'q[2]0')]\n"
     ]
    }
   ],
   "source": [
    "from circuit_knitting.cutting.gate_and_wire_cutting.frontend import cut_wires_and_gates_to_subcircuits\n",
    "\n",
    "observables = [\"ZZI\", \"IZZ\", \"IIZ\", \"XIX\", \"ZIZ\", \"IXI\"]\n",
    "\n",
    "subcircuits, subobservables = cut_wires_and_gates_to_subcircuits(\n",
    "    circuit=circuit,\n",
    "    observables=observables,\n",
    "    method='automatic',\n",
    "    max_subcircuit_width=2,\n",
    "    max_cuts=9,\n",
    "    num_subcircuits=[2]\n",
    ")"
   ]
  },
  {
   "cell_type": "code",
   "execution_count": 18,
   "metadata": {
    "collapsed": false
   },
   "outputs": [
    {
     "name": "stdout",
     "output_type": "stream",
     "text": [
      "      ┌─────────────┐┌─────────────┐                 ┌─────────────┐»\n",
      "q9_0: ┤ U3(0.8,0,0) ├┤ U3(0,0,0.8) ├──────────────■──┤ U3(0.8,0,0) ├»\n",
      "      ├─────────────┤├─────────────┤┌──────────┐┌─┴─┐├─────────────┤»\n",
      "q9_1: ┤ U3(0.8,0,0) ├┤ U3(0,0,0.8) ├┤ cut_cx_0 ├┤ X ├┤ U3(0.8,0,0) ├»\n",
      "      └─────────────┘└─────────────┘└──────────┘└───┘└─────────────┘»\n",
      "«      ┌─────────────┐\n",
      "«q9_0: ┤ U3(0,0,0.8) ├\n",
      "«      ├─────────────┤\n",
      "«q9_1: ┤ U3(0,0,0.8) ├\n",
      "«      └─────────────┘\n",
      "     ┌─────────────┐┌─────────────┐┌──────────┐┌─────────────┐┌─────────────┐\n",
      "q10: ┤ U3(0.8,0,0) ├┤ U3(0,0,0.8) ├┤ cut_cx_0 ├┤ U3(0.8,0,0) ├┤ U3(0,0,0.8) ├\n",
      "     └─────────────┘└─────────────┘└──────────┘└─────────────┘└─────────────┘\n"
     ]
    }
   ],
   "source": [
    "# Visualize the subcircuits. Note the decomposed 2-qubit gates marked 'cut_cx_0'\n",
    "for key in subcircuits.keys():\n",
    "    print(subcircuits[key])"
   ]
  },
  {
   "cell_type": "code",
   "execution_count": 19,
   "metadata": {},
   "outputs": [],
   "source": [
    "from circuit_knitting.cutting.gate_and_wire_cutting.evaluation import azure_queue_experiments\n",
    "\n",
    "\n",
    "# Use the Quantinuum emulator backend\n",
    "# FIXME: use syntax checker for early testing\n",
    "backend_str = 'quantinuum.sim.h1-1e'\n",
    "backend = provider.get_backend(backend_str)\n",
    "\n",
    "# Submit the subcircuits to Azure Quantum\n",
    "job_list, qpd_list, coefficients, subexperiments = azure_queue_experiments(\n",
    "    circuits=subcircuits,\n",
    "    subobservables=subobservables,\n",
    "    num_samples=8,  # 8 unique samples to get some statistics\n",
    "    backend = backend,\n",
    "    # provider = provider,\n",
    "    shots=128  # Balance of cost and accuracy\n",
    ")"
   ]
  },
  {
   "cell_type": "markdown",
   "metadata": {},
   "source": [
    "Check on the actual results from run on Quantinuum."
   ]
  },
  {
   "cell_type": "code",
   "execution_count": 20,
   "metadata": {},
   "outputs": [
    {
     "name": "stdout",
     "output_type": "stream",
     "text": [
      ".............................................."
     ]
    },
    {
     "data": {
      "text/plain": [
       "CuttingExperimentResults(quasi_dists=[[[({2: 0.28125, 0: 0.34375, 3: 0.2890625, 1: 0.0859375}, 0), ({2: 0.0859375, 0: 0.5234375, 3: 0.0390625, 1: 0.3515625}, 0)], [({0: 0.1015625, 1: 0.8984375}, 0), ({0: 0.2578125, 1: 0.7421875}, 0)]], [[({2: 0.0234375, 0: 0.7890625, 3: 0.15625, 1: 0.03125}, 0), ({2: 0.6015625, 0: 0.09375, 3: 0.09375, 1: 0.2109375}, 0)], [({0: 0.34375, 1: 0.65625}, 0), ({0: 1.0}, 0)]], [[({5: 0.1328125, 2: 0.0625, 4: 0.0703125, 6: 0.171875, 1: 0.0078125, 7: 0.0234375, 0: 0.53125}, 1), ({5: 0.046875, 6: 0.03125, 2: 0.265625, 4: 0.2734375, 1: 0.0390625, 3: 0.0078125, 7: 0.078125, 0: 0.2578125}, 1)], [({0: 0.5703125, 1: 0.4296875}, 0), ({0: 0.6484375, 1: 0.3515625}, 0)]], [[({5: 0.125, 4: 0.015625, 2: 0.0703125, 6: 0.1640625, 7: 0.015625, 0: 0.609375}, 1), ({5: 0.0234375, 4: 0.25, 2: 0.296875, 6: 0.015625, 1: 0.015625, 7: 0.0625, 0: 0.3359375}, 1)], [({0: 0.1171875, 1: 0.8828125}, 0), ({0: 0.640625, 1: 0.359375}, 0)]], [[({2: 0.2265625, 0: 0.484375, 3: 0.2890625}, 0), ({2: 0.375, 0: 0.2734375, 3: 0.0234375, 1: 0.328125}, 0)], [({2: 0.6015625, 0: 0.1171875, 3: 0.25, 1: 0.03125}, 1), ({2: 0.1796875, 0: 0.5859375, 3: 0.21875, 1: 0.015625}, 1)]], [[({2: 0.1328125, 0: 0.6875, 3: 0.046875, 1: 0.1328125}, 0), ({2: 0.296875, 0: 0.34375, 3: 0.140625, 1: 0.21875}, 0)], [({2: 0.6015625, 0: 0.15625, 3: 0.21875, 1: 0.0234375}, 1), ({2: 0.1640625, 0: 0.59375, 3: 0.2265625, 1: 0.015625}, 1)]]], coeffs=[(0.5, <WeightType.EXACT: 1>), (0.5, <WeightType.EXACT: 1>), (0.5, <WeightType.EXACT: 1>), (-0.5, <WeightType.EXACT: 1>), (0.5, <WeightType.EXACT: 1>), (-0.5, <WeightType.EXACT: 1>)])"
      ]
     },
     "execution_count": 20,
     "metadata": {},
     "output_type": "execute_result"
    }
   ],
   "source": [
    "from circuit_knitting.cutting.gate_and_wire_cutting.evaluation import get_experiment_results_from_jobs\n",
    "\n",
    "experiment_results = get_experiment_results_from_jobs(job_list, qpd_list, coefficients)\n",
    "experiment_results"
   ]
  },
  {
   "cell_type": "markdown",
   "metadata": {},
   "source": [
    "Now check the actual expectation values from the observables."
   ]
  },
  {
   "cell_type": "code",
   "execution_count": 21,
   "metadata": {
    "ExecuteTime": {
     "end_time": "2024-05-10T20:40:04.176631Z",
     "start_time": "2024-05-10T20:39:57.337749Z"
    }
   },
   "outputs": [
    {
     "data": {
      "text/plain": [
       "[0.320556640625,\n",
       " 0.514404296875,\n",
       " 0.3489990234375,\n",
       " 0.1357421875,\n",
       " -0.0479736328125,\n",
       " 0.12158203125]"
      ]
     },
     "execution_count": 21,
     "metadata": {},
     "output_type": "execute_result"
    }
   ],
   "source": [
    "from circuit_knitting.cutting.cutting_reconstruction import reconstruct_expectation_values\n",
    "\n",
    "quantinuum_expvals = reconstruct_expectation_values(*experiment_results, subobservables)\n",
    "quantinuum_expvals"
   ]
  },
  {
   "cell_type": "code",
   "execution_count": 22,
   "metadata": {},
   "outputs": [
    {
     "data": {
      "text/plain": [
       "array([0.50390696, 0.57454157, 0.39584538, 0.09798816, 0.18481229,\n",
       "       0.23530298])"
      ]
     },
     "execution_count": 22,
     "metadata": {},
     "output_type": "execute_result"
    }
   ],
   "source": [
    "# Create ideal results\n",
    "from circuit_knitting.cutting.gate_and_wire_cutting.frontend import exact_observables\n",
    "\n",
    "ideal_expvals = exact_observables(circuit, observables)\n",
    "ideal_expvals"
   ]
  },
  {
   "cell_type": "code",
   "execution_count": 23,
   "metadata": {},
   "outputs": [
    {
     "name": "stdout",
     "output_type": "stream",
     "text": [
      "Simulated expectation values: [0.32055664, 0.5144043, 0.34899902, 0.13574219, -0.04797363, 0.12158203]\n",
      "Exact expectation values: [0.50390696, 0.57454157, 0.39584538, 0.09798816, 0.18481229, 0.23530298]\n",
      "Errors in estimation: [-0.18335032, -0.06013727, -0.04684636, 0.03775402, -0.23278593, -0.11372094]\n",
      "Relative errors in estimation: [-0.36385749, -0.10467001, -0.1183451, 0.38529168, -1.25958031, -0.48329582]\n"
     ]
    }
   ],
   "source": [
    "# Compare the error between results\n",
    "from circuit_knitting.cutting.gate_and_wire_cutting.frontend import compare_results\n",
    "\n",
    "compare_results(quantinuum_expvals, ideal_expvals)"
   ]
  },
  {
   "cell_type": "markdown",
   "metadata": {},
   "source": [
    "The below is a cost estimator for the circuits run - make sure to add up for all subcircuits run."
   ]
  },
  {
   "cell_type": "code",
   "execution_count": 24,
   "metadata": {},
   "outputs": [
    {
     "name": "stdout",
     "output_type": "stream",
     "text": [
      "Estimated cost: 133.8752 HQC\n"
     ]
    }
   ],
   "source": [
    "cost_backend = provider.get_backend('quantinuum.qpu.h1-1')\n",
    "total_cost = 0\n",
    "for sample in subexperiments:\n",
    "    for partition in sample:\n",
    "        for subexperiment in partition:\n",
    "            cost = cost_backend.estimate_cost(subexperiment, shots=128)\n",
    "            total_cost += cost.estimated_total\n",
    "print(f'Estimated cost: {total_cost} {cost.currency_code}')"
   ]
  }
 ],
 "metadata": {
  "kernelspec": {
   "display_name": "azure",
   "language": "python",
   "name": "python3"
  },
  "language_info": {
   "codemirror_mode": {
    "name": "ipython",
    "version": 3
   },
   "file_extension": ".py",
   "mimetype": "text/x-python",
   "name": "python",
   "nbconvert_exporter": "python",
   "pygments_lexer": "ipython3",
   "version": "3.9.17"
  }
 },
 "nbformat": 4,
 "nbformat_minor": 2
}
