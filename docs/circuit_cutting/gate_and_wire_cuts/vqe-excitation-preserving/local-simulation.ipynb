{
 "cells": [
  {
   "cell_type": "code",
   "execution_count": 1,
   "id": "initial_id",
   "metadata": {
    "ExecuteTime": {
     "end_time": "2024-10-23T18:59:24.988243Z",
     "start_time": "2024-10-23T18:59:16.426086Z"
    },
    "collapsed": true
   },
   "outputs": [],
   "source": [
    "from qiskit.primitives import Estimator\n",
    "from qiskit.circuit.library import ExcitationPreserving\n",
    "from qiskit.quantum_info import SparsePauliOp\n",
    "from qiskit_algorithms.minimum_eigensolvers import VQE\n",
    "from qiskit_algorithms.optimizers import COBYLA\n",
    "\n",
    "from circuit_knitting.cutting.gate_and_wire_cutting.algorithms.cut_vqe import CutVQE"
   ]
  },
  {
   "cell_type": "code",
   "execution_count": 2,
   "id": "980dfd1dad271e67",
   "metadata": {
    "collapsed": false
   },
   "outputs": [],
   "source": [
    "# Use a list of H2 observables from the PySCF driver\n",
    "H2_op_list = [('II', -1.0523732457728596),\n",
    "             ('IZ', 0.39793742484317934),\n",
    "             ('XX', 0.18093119978423144),\n",
    "             ('ZI', -0.39793742484317934),\n",
    "             ('ZZ', -0.011280104256235268)]\n",
    "\n",
    "# Problem specification. Hamiltonian for H2 at 0.735A interatomic distance.\n",
    "H2_op = SparsePauliOp.from_list(H2_op_list)"
   ]
  },
  {
   "cell_type": "code",
   "execution_count": 3,
   "id": "b84881f41abbcde3",
   "metadata": {
    "collapsed": false
   },
   "outputs": [],
   "source": [
    "num_qubits = 2\n",
    "circuit = ExcitationPreserving(num_qubits, flatten=True, reps=2, skip_final_rotation_layer=True).decompose(reps=2)"
   ]
  },
  {
   "cell_type": "code",
   "execution_count": 4,
   "id": "6d3f52960fdb2982",
   "metadata": {
    "collapsed": false
   },
   "outputs": [
    {
     "name": "stdout",
     "output_type": "stream",
     "text": [
      "Num parameters: 6\n",
      "Observables: ['II', 'IZ', 'XX', 'ZI', 'ZZ']\n"
     ]
    }
   ],
   "source": [
    "# See how many parameters are in the ansatz\n",
    "num_params = circuit.num_parameters\n",
    "print(f'Num parameters: {num_params}')\n",
    "\n",
    "# List the observables\n",
    "observables = H2_op.paulis\n",
    "print(f'Observables: {observables}')"
   ]
  },
  {
   "cell_type": "code",
   "execution_count": 5,
   "id": "7059f34e79be3ae4",
   "metadata": {
    "collapsed": false
   },
   "outputs": [],
   "source": [
    "# Create a callback function that will be used to get VQE data during the run \n",
    "def callback(eval_count, parameters, mean, std):\n",
    "    print(f\"Round num: {eval_count}, energy: {mean}, parameters: {parameters}\")"
   ]
  },
  {
   "cell_type": "code",
   "execution_count": null,
   "id": "93fb6ff233aa0195",
   "metadata": {
    "collapsed": false
   },
   "outputs": [
    {
     "name": "stdout",
     "output_type": "stream",
     "text": [
      "Set parameter Username\n",
      "Academic license - for non-commercial use only - expires 2025-01-10\n",
      "Set parameter TimeLimit to value 300\n",
      "Set parameter Cutoff to value 1e+100\n",
      "Gurobi Optimizer version 11.0.0 build v11.0.0rc2 (mac64[x86] - Darwin 23.0.0 23A344)\n",
      "\n",
      "CPU model: Intel(R) Core(TM) i5-1038NG7 CPU @ 2.00GHz\n",
      "Thread count: 4 physical cores, 8 logical processors, using up to 8 threads\n",
      "\n",
      "Optimize a model with 213 rows, 91 columns and 718 nonzeros\n",
      "Model fingerprint: 0x965564a0\n",
      "Variable types: 0 continuous, 91 integer (80 binary)\n",
      "Coefficient statistics:\n",
      "  Matrix range     [1e-02, 2e+00]\n",
      "  Objective range  [1e+00, 1e+00]\n",
      "  Bounds range     [1e+00, 2e+01]\n",
      "  RHS range        [1e+00, 2e+00]\n",
      "Found heuristic solution: objective 8.0000000\n",
      "Presolve removed 213 rows and 91 columns\n",
      "Presolve time: 0.01s\n",
      "Presolve: All rows and columns removed\n",
      "\n",
      "Explored 0 nodes (0 simplex iterations) in 0.05 seconds (0.00 work units)\n",
      "Thread count was 1 (of 8 available processors)\n",
      "\n",
      "Solution count 1: 8 \n",
      "\n",
      "Optimal solution found (tolerance 1.00e-04)\n",
      "Best objective 8.000000000000e+00, best bound 8.000000000000e+00, gap 0.0000%\n",
      "CUTS LIST: [('q[0]0', 'q[1]0'), ('q[0]1', 'q[1]1'), ('q[0]2', 'q[1]2'), ('q[0]3', 'q[1]3'), ('q[0]4', 'q[1]4'), ('q[0]5', 'q[1]5'), ('q[0]6', 'q[1]6'), ('q[0]7', 'q[1]7')]\n",
      "WIRE CUTS: []\n",
      "GATE CUTS: [('q[0]0', 'q[1]0'), ('q[0]1', 'q[1]1'), ('q[0]2', 'q[1]2'), ('q[0]3', 'q[1]3'), ('q[0]4', 'q[1]4'), ('q[0]5', 'q[1]5'), ('q[0]6', 'q[1]6'), ('q[0]7', 'q[1]7')]\n",
      "Round num: 1, energy: -52.78362238163666, parameters: [-3.31566811 -1.98075131 -2.20859683  5.5358211  -4.94707777 -3.79213238]\n",
      "Round num: 2, energy: -18.887117485612116, parameters: [-2.31566811 -1.98075131 -2.20859683  5.5358211  -4.94707777 -3.79213238]\n",
      "Round num: 3, energy: -42.02768768699516, parameters: [-3.31566811 -0.98075131 -2.20859683  5.5358211  -4.94707777 -3.79213238]\n",
      "Round num: 4, energy: 48.29554855950221, parameters: [-3.31566811 -1.98075131 -1.20859683  5.5358211  -4.94707777 -3.79213238]\n",
      "Round num: 5, energy: 103.98538045590324, parameters: [-3.31566811 -1.98075131 -2.20859683  6.5358211  -4.94707777 -3.79213238]\n",
      "Round num: 6, energy: -30.36597901288403, parameters: [-3.31566811 -1.98075131 -2.20859683  5.5358211  -3.94707777 -3.79213238]\n",
      "Round num: 7, energy: 39.34936520462186, parameters: [-3.31566811 -1.98075131 -2.20859683  5.5358211  -4.94707777 -2.79213238]\n"
     ]
    }
   ],
   "source": [
    "# Use CutVQE to cut the circuit and run VQE\n",
    "estimator = Estimator()\n",
    "optimizer = COBYLA(maxiter=80)\n",
    "vqe = CutVQE(estimator, circuit, optimizer, observables=observables, shots=2**12, max_subcircuit_width=1, max_cuts=10, num_subcircuits=[2], model='gurobi', num_samples=1500, callback=callback)\n",
    "result = vqe.compute_minimum_eigenvalue(H2_op)\n",
    "print(result)"
   ]
  },
  {
   "cell_type": "code",
   "execution_count": 6,
   "id": "5c5ac216d9091dcc",
   "metadata": {
    "collapsed": false
   },
   "outputs": [
    {
     "name": "stdout",
     "output_type": "stream",
     "text": [
      "Round num: 1, energy: -1.063653350029094, parameters: [5.266625166980573, 0.49791650269713106, 2.439510071705371, -0.2680065871872719, -1.6805244099690828, -5.772360907933034]\n",
      "Round num: 2, energy: -1.0636533500290937, parameters: [6.266625166980573, 0.49791650269713106, 2.439510071705371, -0.2680065871872719, -1.6805244099690828, -5.772360907933034]\n",
      "Round num: 3, energy: -1.0636533500290937, parameters: [5.266625166980573, 1.497916502697131, 2.439510071705371, -0.2680065871872719, -1.6805244099690828, -5.772360907933034]\n",
      "Round num: 4, energy: -1.0636533500290937, parameters: [5.266625166980573, 0.49791650269713106, 3.439510071705371, -0.2680065871872719, -1.6805244099690828, -5.772360907933034]\n",
      "Round num: 5, energy: -1.0636533500290937, parameters: [5.266625166980573, 0.49791650269713106, 2.439510071705371, 0.7319934128127281, -1.6805244099690828, -5.772360907933034]\n",
      "Round num: 6, energy: -1.0636533500290937, parameters: [5.266625166980573, 0.49791650269713106, 2.439510071705371, -0.2680065871872719, -0.6805244099690828, -5.772360907933034]\n",
      "Round num: 7, energy: -1.063653350029094, parameters: [5.266625166980573, 0.49791650269713106, 2.439510071705371, -0.2680065871872719, -1.6805244099690828, -4.772360907933034]\n",
      "Round num: 8, energy: -1.063653350029094, parameters: [4.8194115714806145, 0.05070290719717302, 1.9922964762054127, -0.71522018268723, -2.1277380054690407, -5.772360907933034]\n",
      "Round num: 9, energy: -1.063653350029094, parameters: [5.043018369230594, 0.274309704947152, 2.2159032739553917, -0.49161338493725093, -1.9041312077190617, -5.772360907933034]\n",
      "Round num: 10, energy: -1.0636533500290937, parameters: [5.490231964730552, 0.4420148032596363, 2.3836083722678763, -0.3239082866247666, -1.7364261094065776, -5.772360907933034]\n",
      "Round num: 11, energy: -1.0636533500290941, parameters: [5.266625166980573, 0.5863048503454495, 2.3511217240570526, -0.2680065871872719, -1.6805244099690828, -5.772360907933034]\n",
      "Round num: 12, energy: -1.0636533500290937, parameters: [5.174545959409539, 0.8036713855953048, 2.2773082382390184, -0.2937435081176652, -1.706261330899476, -5.772360907933034]\n",
      "Round num: 13, energy: -1.0636533500290941, parameters: [5.266625166980573, 0.5863048503454495, 2.3511217240570526, -0.17961823953895345, -1.7689127576174013, -5.772360907933034]\n",
      "Round num: 14, energy: -1.0636533500290937, parameters: [5.245616737468921, 0.5025637918337608, 2.200946178225443, -0.1405440702597964, -1.5530618930416074, -5.772360907933034]\n",
      "Round num: 15, energy: -1.063653350029094, parameters: [5.266625166980573, 0.5863048503454495, 2.3511217240570526, -0.2680065871872719, -1.6805244099690828, -5.647360907933034]\n",
      "Round num: 16, energy: -1.0636533500290941, parameters: [5.480165850488624, 0.5828230097495847, 2.281615358088726, -0.33828282565920187, -1.7508006484410128, -5.819047297548524]\n",
      "Round num: 17, energy: -1.0636533500290941, parameters: [5.301503786265955, 0.5320057550685423, 2.5603608363093264, -0.2773107691261015, -1.6898285919079123, -5.892281500283278]\n",
      "Round num: 18, energy: -1.063653350029094, parameters: [5.213512246999503, 0.5188463054450981, 2.3260574061860653, -0.3282269991842195, -1.7407448219660304, -5.791652003767891]\n",
      "Round num: 19, energy: -1.0636533500290937, parameters: [5.323566275171609, 0.5908321979321907, 2.335969568779352, -0.2805414893027372, -1.693059312084548, -5.782342289107874]\n",
      "Round num: 20, energy: -1.063653350029094, parameters: [5.257773962669514, 0.6085559957122725, 2.3321309964734303, -0.2726140527570327, -1.6851318755388436, -5.772360907933034]\n",
      "Round num: 21, energy: -1.063653350029094, parameters: [5.2450653435639, 0.5755213777318788, 2.403255515228724, -0.25192888935014457, -1.6644467121319555, -5.781859529686684]\n",
      "Round num: 22, energy: -1.0636533500290937, parameters: [5.271233897326539, 0.5637064802370613, 2.340427391426338, -0.25515615873865377, -1.6676739815204646, -5.772360907933034]\n",
      "Round num: 23, energy: -1.063653350029094, parameters: [5.233567813473257, 0.6369095548908168, 2.33773005538204, -0.2728632653674557, -1.6853810881492666, -5.777471076342723]\n",
      "Round num: 24, energy: -1.063653350029094, parameters: [5.255427079103357, 0.5733045242028493, 2.352613803124275, -0.2864314605367024, -1.6989492833185134, -5.773350166368537]\n",
      "Round num: 25, energy: -1.0636533500290941, parameters: [5.266625166980573, 0.5863048503454495, 2.3511217240570526, -0.27905513064331167, -1.669475866513043, -5.772360907933034]\n",
      "Round num: 26, energy: -1.063653350029094, parameters: [5.269709979297779, 0.5911216654779773, 2.3575603962240814, -0.26872109659655163, -1.6812389193783626, -5.74233813027539]\n",
      "Round num: 27, energy: -1.0636533500290941, parameters: [5.278250298201935, 0.5920641788528933, 2.3557061987415566, -0.2706031870857716, -1.6831210098675826, -5.77878936140419]\n",
      "Round num: 28, energy: -1.0636533500290937, parameters: [5.26497184411432, 0.5843562459310416, 2.3581295299866447, -0.2665074837414081, -1.679025306523219, -5.773309936044551]\n",
      "Round num: 29, energy: -1.0636533500290937, parameters: [5.266201336133409, 0.5949418102675892, 2.338405718222527, -0.2699260442045835, -1.6824438669863944, -5.772907241942637]\n",
      "Round num: 30, energy: -1.063653350029094, parameters: [5.271208139789657, 0.5807952157324793, 2.348248856416895, -0.26737821363003883, -1.6798960364118498, -5.771565692377332]\n",
      "Round num: 31, energy: -1.0636533500290941, parameters: [5.267832645568488, 0.5878111142200633, 2.351539909801533, -0.266509350285045, -1.679027173066856, -5.76973914561303]\n",
      "Round num: 32, energy: -1.063653350029094, parameters: [5.266851815937461, 0.5860603967577833, 2.352585899246953, -0.27229155239972613, -1.6848093751815372, -5.767664274435174]\n",
      "Round num: 33, energy: -1.063653350029094, parameters: [5.265226203771022, 0.5915280350012075, 2.345830670962103, -0.2676742551270376, -1.6801920779088486, -5.77425306759598]\n",
      "Round num: 34, energy: -1.0636533500290941, parameters: [5.265925685375797, 0.5889164426733285, 2.348476197509578, -0.26784042115715473, -1.6803582439389657, -5.773306987764507]\n",
      "Round num: 35, energy: -1.063653350029094, parameters: [5.265172025577902, 0.5855849342820191, 2.3505486647214897, -0.2676820121999594, -1.6801998349817704, -5.771557351249139]\n",
      "Round num: 36, energy: -1.063653350029094, parameters: [5.270205228096414, 0.5859012542828207, 2.3501907646377487, -0.26808071148216694, -1.6805985342639778, -5.7735447100385375]\n",
      "Round num: 37, energy: -1.0636533500290941, parameters: [5.266625166980573, 0.5863048503454495, 2.3511217240570526, -0.26938765511927687, -1.6791433420370778, -5.772360907933034]\n",
      "Round num: 38, energy: -1.0636533500290941, parameters: [5.26674663905689, 0.5880503376783768, 2.3520746332057385, -0.2701992758872699, -1.682717098669081, -5.771067268009439]\n",
      "Round num: 39, energy: -1.063653350029094, parameters: [5.266334605173659, 0.5871811541285773, 2.3524550974150733, -0.26766348900696424, -1.6801813117887752, -5.773335097620478]\n",
      "Round num: 40, energy: -1.0636533500290937, parameters: [5.267467937496623, 0.5861235766890962, 2.3507180668737693, -0.26815715866507384, -1.6806749814468849, -5.772408545877189]\n",
      "Round num: 41, energy: -1.063653350029094, parameters: [5.266537731779976, 0.5866312993864344, 2.350791033238618, -0.2679858164335072, -1.680503639215318, -5.772479167911968]\n",
      "Round num: 42, energy: -1.0636533500290937, parameters: [5.26646134618884, 0.586553015809012, 2.35146014589219, -0.26852225334777957, -1.6810400761295905, -5.771893042086221]\n",
      "Round num: 43, energy: -1.0636533500290941, parameters: [5.266474232157083, 0.5861165673611228, 2.3510694508389927, -0.26819374180005023, -1.680711564581861, -5.772688628223034]\n",
      "Round num: 44, energy: -1.0636533500290941, parameters: [5.266185644188054, 0.5856434905244307, 2.351201646353579, -0.26761888613042334, -1.6801367089122343, -5.772234079600394]\n",
      "Round num: 45, energy: -1.0636533500290941, parameters: [5.26669688504669, 0.5863862039711575, 2.3514760222400497, -0.26788876204495415, -1.680406584826765, -5.772631765746063]\n",
      "Round num: 46, energy: -1.0636533500290937, parameters: [5.266625166980573, 0.5863048503454495, 2.3511217240570526, -0.2681792206787725, -1.6803517764775822, -5.772360907933034]\n",
      "Round num: 47, energy: -1.063653350029094, parameters: [5.266513799599246, 0.5861372733445858, 2.3511419749678706, -0.2676107012999042, -1.6807238225350494, -5.772328771853803]\n",
      "Round num: 48, energy: -1.0636533500290937, parameters: [5.266633941206284, 0.5864144119892019, 2.3512189005741355, -0.2680768770868957, -1.6806974689934338, -5.7723044231334315]\n",
      "Round num: 49, energy: -1.063653350029094, parameters: [5.266843395257728, 0.5862571312556116, 2.3510499989219524, -0.26798532064150843, -1.6805568884641184, -5.772416155907447]\n",
      "Round num: 50, energy: -1.0636533500290941, parameters: [5.266603100355128, 0.5863713125484373, 2.3510693002966057, -0.267979384447314, -1.680517028505008, -5.772400317498915]\n",
      "Round num: 51, energy: -1.063653350029094, parameters: [5.266640622706498, 0.5863241305230446, 2.3511270768345818, -0.26798742255492336, -1.6805052453367344, -5.772327349375337]\n",
      "Round num: 52, energy: -1.0636533500290941, parameters: [5.266572532513995, 0.586244672192543, 2.3511107978358945, -0.26798816286532073, -1.6805505494604438, -5.77241056769425]\n",
      "Round num: 53, energy: -1.063653350029094, parameters: [5.266632510910544, 0.586313180956722, 2.3511580041909914, -0.26799452189269857, -1.6805123446745094, -5.772388643773088]\n",
      "Round num: 54, energy: -1.0636533500290941, parameters: [5.266613026660241, 0.5863284041035534, 2.3511115914230647, -0.26806105158510385, -1.6806029569050693, -5.772353215661209]\n",
      "Round num: 55, energy: -1.0636533500290941, parameters: [5.26666286343317, 0.5862966074154705, 2.351109334355816, -0.26798800339739076, -1.680544930495668, -5.7723704513921845]\n",
      "Round num: 56, energy: -1.0636533500290941, parameters: [5.266647368858409, 0.5862781650779257, 2.3510677798369577, -0.26806984117661065, -1.6804872153556205, -5.77238327951765]\n",
      "Round num: 57, energy: -1.0636533500290941, parameters: [5.266604715182148, 0.586284290703318, 2.3510625151126967, -0.2679826771785814, -1.6805293911848662, -5.7722897965771285]\n",
      "{   'aux_operators_evaluated': None,\n",
      "    'cost_function_evals': 57,\n",
      "    'eigenvalue': -1.0636533500290941,\n",
      "    'optimal_circuit': <qiskit.circuit.quantumcircuit.QuantumCircuit object at 0x7fa81a200640>,\n",
      "    'optimal_parameters': {   ParameterVectorElement(θ[2]): 2.3510625151126967,\n",
      "                              ParameterVectorElement(θ[0]): 5.266604715182148,\n",
      "                              ParameterVectorElement(θ[1]): 0.586284290703318,\n",
      "                              ParameterVectorElement(θ[3]): -0.2679826771785814,\n",
      "                              ParameterVectorElement(θ[4]): -1.6805293911848662,\n",
      "                              ParameterVectorElement(θ[5]): -5.7722897965771285},\n",
      "    'optimal_point': array([ 5.26660472,  0.58628429,  2.35106252, -0.26798268, -1.68052939,\n",
      "       -5.7722898 ]),\n",
      "    'optimal_value': -1.0636533500290941,\n",
      "    'optimizer_evals': None,\n",
      "    'optimizer_result': <qiskit_algorithms.optimizers.optimizer.OptimizerResult object at 0x7fa8149b26d0>,\n",
      "    'optimizer_time': 0.250438928604126}\n"
     ]
    }
   ],
   "source": [
    "# Compare against results obtained without cutting\n",
    "estimator = Estimator()\n",
    "optimizer = COBYLA(maxiter=80)\n",
    "no_cut_vqe = VQE(ansatz=circuit, optimizer=optimizer, estimator=estimator, callback=callback)\n",
    "no_cut_result = no_cut_vqe.compute_minimum_eigenvalue(H2_op)\n",
    "print(no_cut_result)"
   ]
  }
 ],
 "metadata": {
  "kernelspec": {
   "display_name": "azure",
   "language": "python",
   "name": "python3"
  },
  "language_info": {
   "codemirror_mode": {
    "name": "ipython",
    "version": 3
   },
   "file_extension": ".py",
   "mimetype": "text/x-python",
   "name": "python",
   "nbconvert_exporter": "python",
   "pygments_lexer": "ipython3",
   "version": "3.9.17"
  }
 },
 "nbformat": 4,
 "nbformat_minor": 5
}
