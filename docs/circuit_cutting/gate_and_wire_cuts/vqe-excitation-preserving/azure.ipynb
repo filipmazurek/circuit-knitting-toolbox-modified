{
 "cells": [
  {
   "cell_type": "markdown",
   "id": "1642485cad23f835",
   "metadata": {
    "collapsed": false
   },
   "source": [
    "# VQE on Azure with Circuit Decomposition\n",
    "\n",
    "Using strategy with both circuit and gate decomposition with no classical communication. VQE on Azure using sessions."
   ]
  },
  {
   "cell_type": "markdown",
   "id": "79b952278ac90dc2",
   "metadata": {
    "collapsed": false
   },
   "source": [
    "Prerequisites: \n",
    "\n",
    "1. Create a new Conda environment\n",
    "```shell\n",
    "conda create --name azure-knitting python=3.9.17\n",
    "conda activate azure-knitting\n",
    "```\n",
    "\n",
    "1. Install everything needed to run the `modified-circuit-knitting-toolbox` locally: \n",
    "```shell\n",
    "cd modified-circuit-knitting-toolbox\n",
    "python -m pip install -e .\n",
    "python -m pip install 'docplex>=2.23.222' 'cplex>=22.1.0.0' 'gurobipy==11.0.0'\n",
    "```\n",
    "\n",
    "1. Install everything needed to run on Azure:\n",
    "```shell\n",
    "python -m pip install --upgrade 'azure-quantum[qiskit]==1.2.1'\n",
    "# python -m pip install qiskit-aer==0.12.1\n",
    "```\n",
    "\n",
    "### Documentation\n",
    "Running on Azure: [instructions](https://learn.microsoft.com/en-us/azure/quantum/quickstart-microsoft-qiskit?tabs=tabid-quantinuum&pivots=platform-local#prerequisites)\n"
   ]
  },
  {
   "cell_type": "markdown",
   "id": "7323efdab458de57",
   "metadata": {
    "collapsed": false
   },
   "source": [
    "First, enable communication with the instance"
   ]
  },
  {
   "cell_type": "code",
   "execution_count": 6,
   "id": "6dac5537769195c5",
   "metadata": {
    "ExecuteTime": {
     "end_time": "2024-05-13T19:29:18.456685Z",
     "start_time": "2024-05-13T19:29:18.427225Z"
    },
    "collapsed": false
   },
   "outputs": [],
   "source": [
    "# Prevent overriding already run experiments\n",
    "# exit()"
   ]
  },
  {
   "cell_type": "code",
   "execution_count": 7,
   "id": "83862aeba5668619",
   "metadata": {
    "ExecuteTime": {
     "end_time": "2024-05-13T19:29:23.928422Z",
     "start_time": "2024-05-13T19:29:18.449388Z"
    },
    "collapsed": false
   },
   "outputs": [],
   "source": [
    "# All imports\n",
    "from azure.quantum import Workspace\n",
    "from azure.quantum.qiskit import AzureQuantumProvider\n",
    "from qiskit.circuit.library import ExcitationPreserving\n",
    "from qiskit.primitives import Estimator\n",
    "from qiskit.quantum_info import SparsePauliOp\n",
    "from qiskit_algorithms.optimizers import COBYLA\n",
    "\n",
    "from circuit_knitting.cutting.gate_and_wire_cutting.algorithms.cut_vqe import CutVQE"
   ]
  },
  {
   "cell_type": "code",
   "execution_count": 8,
   "id": "602e3000819bfa61",
   "metadata": {
    "ExecuteTime": {
     "end_time": "2024-05-13T19:29:23.958041Z",
     "start_time": "2024-05-13T19:29:23.933400Z"
    },
    "collapsed": false
   },
   "outputs": [],
   "source": [
    "# Set up the azure backend\n",
    "workspace = Workspace(\n",
    "    resource_id=\"/subscriptions/4ed1f7fd-7d9e-4c61-9fac-521649937e65/resourceGroups/Cutting/providers/Microsoft.Quantum/Workspaces/Cutting\",\n",
    "    location=\"eastus\")\n",
    "provider = AzureQuantumProvider(workspace)\n",
    "# Using syntax checker to not use credits\n",
    "backend = provider.get_backend(\"quantinuum.sim.h1-1sc\")\n",
    "\n",
    "usable_backends = ['quantinuum.sim.h1-1sc', 'quantinuum.sim.h1-2sc', 'quantinuum.sim.h1-1e', 'quantinuum.sim.h1-2e',\n",
    "                   'quantinuum.qpu.h1-1', 'quantinuum.qpu.h1-2']"
   ]
  },
  {
   "cell_type": "markdown",
   "id": "b87e15d51ce301f0",
   "metadata": {
    "collapsed": false
   },
   "source": [
    "Problem: VQE for H2 molecule"
   ]
  },
  {
   "cell_type": "code",
   "execution_count": 9,
   "id": "545d6dcc70ce01fb",
   "metadata": {
    "ExecuteTime": {
     "start_time": "2024-05-13T19:29:23.942371Z"
    },
    "collapsed": false
   },
   "outputs": [],
   "source": [
    "# Set up the observables\n",
    "H2_op_list = [('II', -1.0523732457728596),\n",
    "              ('IZ', 0.39793742484317934),\n",
    "              ('XX', 0.18093119978423144),\n",
    "              ('ZI', -0.39793742484317934),\n",
    "              ('ZZ', -0.011280104256235268)]\n",
    "# Problem specification. Hamiltonian for H2 at 0.735A interatomic distance.\n",
    "H2_op = SparsePauliOp.from_list(H2_op_list)\n"
   ]
  },
  {
   "cell_type": "code",
   "execution_count": 10,
   "id": "ae24105c99c96bc7",
   "metadata": {
    "ExecuteTime": {
     "start_time": "2024-05-13T19:29:23.956098Z"
    },
    "collapsed": false
   },
   "outputs": [],
   "source": [
    "# Create ansatz and immediately decompose into individual gates\n",
    "num_qubits = 2\n",
    "circuit = ExcitationPreserving(num_qubits, flatten=True, reps=2, skip_final_rotation_layer=True).decompose(reps=2)\n",
    "\n",
    "# Check how many parameters are in the ansatz\n",
    "num_params = circuit.num_parameters\n",
    "\n",
    "# Extract the pauli operators from the operations lit\n",
    "observables = H2_op.paulis"
   ]
  },
  {
   "cell_type": "code",
   "execution_count": 11,
   "id": "4b53b6170687d1d",
   "metadata": {
    "ExecuteTime": {
     "start_time": "2024-05-13T19:29:23.961569Z"
    },
    "collapsed": false
   },
   "outputs": [],
   "source": [
    "# Callback function to check VQE process as it runs\n",
    "def callback(eval_count, parameters, mean, std):\n",
    "    print(f\"Round num: {eval_count}, energy: {mean}, parameters: {parameters}\")"
   ]
  },
  {
   "cell_type": "code",
   "execution_count": 12,
   "id": "b82803493282362a",
   "metadata": {
    "ExecuteTime": {
     "end_time": "2024-05-13T19:29:23.989754Z",
     "start_time": "2024-05-13T19:29:23.964509Z"
    },
    "collapsed": false
   },
   "outputs": [
    {
     "name": "stdout",
     "output_type": "stream",
     "text": [
      "Set parameter Username\n"
     ]
    },
    {
     "name": "stdout",
     "output_type": "stream",
     "text": [
      "Academic license - for non-commercial use only - expires 2025-01-10\n",
      "Set parameter TimeLimit to value 300\n",
      "Set parameter Cutoff to value 1e+100\n",
      "Gurobi Optimizer version 11.0.0 build v11.0.0rc2 (mac64[x86] - Darwin 23.0.0 23A344)\n",
      "\n",
      "CPU model: Intel(R) Core(TM) i5-1038NG7 CPU @ 2.00GHz\n",
      "Thread count: 4 physical cores, 8 logical processors, using up to 8 threads\n",
      "\n",
      "Optimize a model with 213 rows, 91 columns and 718 nonzeros\n",
      "Model fingerprint: 0x04f4d5e8\n",
      "Variable types: 0 continuous, 91 integer (80 binary)\n",
      "Coefficient statistics:\n",
      "  Matrix range     [1e-02, 2e+00]\n",
      "  Objective range  [1e+00, 1e+00]\n",
      "  Bounds range     [1e+00, 2e+01]\n",
      "  RHS range        [1e+00, 2e+00]\n",
      "Found heuristic solution: objective 8.0000000\n",
      "Presolve removed 213 rows and 91 columns\n",
      "Presolve time: 0.00s\n",
      "Presolve: All rows and columns removed\n",
      "\n",
      "Explored 0 nodes (0 simplex iterations) in 0.03 seconds (0.00 work units)\n",
      "Thread count was 1 (of 8 available processors)\n",
      "\n",
      "Solution count 1: 8 \n",
      "\n",
      "Optimal solution found (tolerance 1.00e-04)\n",
      "Best objective 8.000000000000e+00, best bound 8.000000000000e+00, gap 0.0000%\n",
      "CUTS LIST: [('q[0]0', 'q[1]0'), ('q[0]1', 'q[1]1'), ('q[0]2', 'q[1]2'), ('q[0]3', 'q[1]3'), ('q[0]4', 'q[1]4'), ('q[0]5', 'q[1]5'), ('q[0]6', 'q[1]6'), ('q[0]7', 'q[1]7')]\n",
      "WIRE CUTS: []\n",
      "GATE CUTS: [('q[0]0', 'q[1]0'), ('q[0]1', 'q[1]1'), ('q[0]2', 'q[1]2'), ('q[0]3', 'q[1]3'), ('q[0]4', 'q[1]4'), ('q[0]5', 'q[1]5'), ('q[0]6', 'q[1]6'), ('q[0]7', 'q[1]7')]\n"
     ]
    }
   ],
   "source": [
    "# Define  estimator and optimizer\n",
    "estimator = Estimator()\n",
    "optimizer = COBYLA(maxiter=2)  # 2 Iteration for testing\n",
    "\n",
    "# Set up VQE\n",
    "vqe = CutVQE(estimator, circuit, optimizer, observables=observables, shots=2 ** 12, max_subcircuit_width=1, max_cuts=9,\n",
    "             num_subcircuits=[2], model='gurobi', num_samples=1500, callback=callback, backend='azure',\n",
    "             azure_backend=backend)"
   ]
  },
  {
   "cell_type": "code",
   "execution_count": 13,
   "id": "b3184ab9f0505f22",
   "metadata": {
    "collapsed": false
   },
   "outputs": [
    {
     "name": "stdout",
     "output_type": "stream",
     "text": [
      ".................................................................................Round num: 1, energy: -1447.8850069391372, parameters: [ 3.93877709 -0.0721755   1.6750873  -2.77310351 -2.47283487  0.15102425]\n",
      "...........................................................................Round num: 2, energy: 2895.7700138782743, parameters: [ 4.93877709 -0.0721755   1.6750873  -2.77310351 -2.47283487  0.15102425]\n"
     ]
    }
   ],
   "source": [
    "# Run VQE on Azure. Sessions are used for hybrid algorithms\n",
    "with backend.open_session(name=\"Qiskit Session\") as session:\n",
    "    result = vqe.compute_minimum_eigenvalue(H2_op)"
   ]
  },
  {
   "cell_type": "code",
   "execution_count": 14,
   "id": "e014d200f3818454",
   "metadata": {
    "collapsed": false
   },
   "outputs": [
    {
     "name": "stdout",
     "output_type": "stream",
     "text": [
      "{   'aux_operator_eigenvalues': None,\n",
      "    'aux_operators_evaluated': None,\n",
      "    'cost_function_evals': 2,\n",
      "    'eigenstate': None,\n",
      "    'eigenvalue': -1447.8850069391372,\n",
      "    'optimal_circuit': <qiskit.circuit.quantumcircuit.QuantumCircuit object at 0x7f7c4e1c2ca0>,\n",
      "    'optimal_parameters': {   ParameterVectorElement(θ[5]): 0.15102424787371582,\n",
      "                              ParameterVectorElement(θ[4]): -2.4728348707159165,\n",
      "                              ParameterVectorElement(θ[3]): -2.7731035081896396,\n",
      "                              ParameterVectorElement(θ[2]): 1.6750872952801519,\n",
      "                              ParameterVectorElement(θ[1]): -0.07217549796682388,\n",
      "                              ParameterVectorElement(θ[0]): 3.9387770884841586},\n",
      "    'optimal_point': array([ 3.93877709, -0.0721755 ,  1.6750873 , -2.77310351, -2.47283487,\n",
      "        0.15102425]),\n",
      "    'optimal_value': -1447.8850069391372,\n",
      "    'optimizer_evals': None,\n",
      "    'optimizer_result': <qiskit_algorithms.optimizers.optimizer.OptimizerResult object at 0x7f7c4ddebb50>,\n",
      "    'optimizer_time': 236.24442100524902}\n"
     ]
    }
   ],
   "source": [
    "print(result)"
   ]
  }
 ],
 "metadata": {
  "kernelspec": {
   "display_name": "azure",
   "language": "python",
   "name": "python3"
  },
  "language_info": {
   "codemirror_mode": {
    "name": "ipython",
    "version": 3
   },
   "file_extension": ".py",
   "mimetype": "text/x-python",
   "name": "python",
   "nbconvert_exporter": "python",
   "pygments_lexer": "ipython3",
   "version": "3.9.17"
  }
 },
 "nbformat": 4,
 "nbformat_minor": 5
}
