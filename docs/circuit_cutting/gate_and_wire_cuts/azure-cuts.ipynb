{
 "cells": [
  {
   "cell_type": "markdown",
   "metadata": {},
   "source": [
    "# Circuit Decomposition \n",
    "Edge and gate decomposition with zero classical communication."
   ]
  },
  {
   "cell_type": "markdown",
   "metadata": {},
   "source": [
    "Prerequisites: \n",
    "\n",
    "1. Create a new Conda environment\n",
    "```shell\n",
    "conda env create -n azure-knitting\n",
    "```\n",
    "\n",
    "1. Install everything needed to run the `modified-circuit-knitting-toolbox` locally: \n",
    "```shell\n",
    "cd modified-circuit-knitting-toolbox\n",
    "pip install -e .\n",
    "```\n",
    "\n",
    "1. Install everything needed to run on Azure:\n",
    "```shell\n",
    "python -m pip install --upgrade 'azure-quantum[qiskit]' qsharp ipykernel\n",
    "pip install qiskit-aer==0.12.1\n",
    "```\n",
    "\n",
    "### Documentation\n",
    "Running on Azure: [instructions](https://learn.microsoft.com/en-us/azure/quantum/quickstart-microsoft-qiskit?tabs=tabid-quantinuum&pivots=platform-local#prerequisites)\n"
   ]
  },
  {
   "cell_type": "markdown",
   "metadata": {},
   "source": [
    "First, we enable communication with our Azure instance"
   ]
  },
  {
   "cell_type": "code",
   "execution_count": 1,
   "metadata": {},
   "outputs": [],
   "source": [
    "# Prevent from overriding already run experiments\n",
    "# exit()"
   ]
  },
  {
   "cell_type": "code",
   "execution_count": 2,
   "metadata": {},
   "outputs": [],
   "source": [
    "from azure.quantum import Workspace\n",
    "from azure.quantum.qiskit import AzureQuantumProvider\n",
    "\n",
    "\n",
    "workspace = Workspace(\n",
    "            resource_id = \"/subscriptions/4ed1f7fd-7d9e-4c61-9fac-521649937e65/resourceGroups/Cutting/providers/Microsoft.Quantum/Workspaces/Cutting\",\n",
    "            location = \"eastus\")\n",
    "\n",
    "\n",
    "provider = AzureQuantumProvider(workspace)"
   ]
  },
  {
   "cell_type": "markdown",
   "metadata": {},
   "source": [
    "Check what Azure targets are available. Note that Quantinuum may need to be enabled in your workspace."
   ]
  },
  {
   "cell_type": "code",
   "execution_count": 3,
   "metadata": {},
   "outputs": [
    {
     "name": "stdout",
     "output_type": "stream",
     "text": [
      "This workspace's targets:\n",
      "- quantinuum.sim.h1-1sc\n",
      "- quantinuum.sim.h1-1sc\n",
      "- quantinuum.sim.h1-2sc\n",
      "- quantinuum.sim.h1-2sc\n",
      "- quantinuum.sim.h1-1e\n",
      "- quantinuum.sim.h1-1e\n",
      "- quantinuum.sim.h1-2e\n",
      "- quantinuum.sim.h1-2e\n",
      "- quantinuum.qpu.h1-1\n",
      "- quantinuum.qpu.h1-1\n",
      "- quantinuum.qpu.h1-2\n",
      "- quantinuum.qpu.h1-2\n"
     ]
    }
   ],
   "source": [
    "print(\"This workspace's targets:\")\n",
    "for backend in provider.backends():\n",
    "    print(\"- \" + backend.name())"
   ]
  },
  {
   "cell_type": "code",
   "execution_count": 4,
   "metadata": {},
   "outputs": [
    {
     "name": "stdout",
     "output_type": "stream",
     "text": [
      "global phase: 3.8832\n",
      "     ┌─────────────┐┌─────────────┐                    ┌─────────────┐»\n",
      "q_0: ┤ U3(0.8,0,0) ├┤ U3(0,0,0.8) ├────────────■───────┤ U3(0.8,0,0) ├»\n",
      "     ├─────────────┤├─────────────┤          ┌─┴─┐     ├─────────────┤»\n",
      "q_1: ┤ U3(0.8,0,0) ├┤ U3(0,0,0.8) ├──■───────┤ X ├─────┤ U3(0.8,0,0) ├»\n",
      "     ├─────────────┤├─────────────┤┌─┴─┐┌────┴───┴────┐├─────────────┤»\n",
      "q_2: ┤ U3(0.8,0,0) ├┤ U3(0,0,0.8) ├┤ X ├┤ U3(0.8,0,0) ├┤ U3(0,0,0.8) ├»\n",
      "     └─────────────┘└─────────────┘└───┘└─────────────┘└─────────────┘»\n",
      "«     ┌─────────────┐\n",
      "«q_0: ┤ U3(0,0,0.8) ├\n",
      "«     ├─────────────┤\n",
      "«q_1: ┤ U3(0,0,0.8) ├\n",
      "«     └─────────────┘\n",
      "«q_2: ───────────────\n",
      "«                    \n"
     ]
    }
   ],
   "source": [
    "from qiskit_nature.second_q.mappers import JordanWignerMapper\n",
    "from qiskit.circuit.library import EfficientSU2\n",
    "\n",
    "# Create a quantum circuit to cut. We create a simple ansatz\n",
    "mapper = JordanWignerMapper()\n",
    "ansatz = EfficientSU2(3, reps=1)\n",
    "# Decompose to the actual individual gates\n",
    "circuit = ansatz.decompose(reps=3)\n",
    "# Set some arbitrary parameters\n",
    "circuit.assign_parameters([0.8] * len(circuit.parameters), inplace=True)\n",
    "\n",
    "print(circuit)"
   ]
  },
  {
   "cell_type": "markdown",
   "metadata": {},
   "source": [
    "Create a list of observables to use, and automatically find cut locations."
   ]
  },
  {
   "cell_type": "code",
   "execution_count": 5,
   "metadata": {},
   "outputs": [
    {
     "ename": "ModuleNotFoundError",
     "evalue": "No module named 'circuit_knitting'",
     "output_type": "error",
     "traceback": [
      "\u001b[0;31m---------------------------------------------------------------------------\u001b[0m",
      "\u001b[0;31mModuleNotFoundError\u001b[0m                       Traceback (most recent call last)",
      "Cell \u001b[0;32mIn[5], line 1\u001b[0m\n\u001b[0;32m----> 1\u001b[0m \u001b[38;5;28;01mfrom\u001b[39;00m \u001b[38;5;21;01mcircuit_knitting\u001b[39;00m\u001b[38;5;21;01m.\u001b[39;00m\u001b[38;5;21;01mcutting\u001b[39;00m\u001b[38;5;21;01m.\u001b[39;00m\u001b[38;5;21;01mgate_and_wire_cutting\u001b[39;00m\u001b[38;5;21;01m.\u001b[39;00m\u001b[38;5;21;01mfrontend\u001b[39;00m \u001b[38;5;28;01mimport\u001b[39;00m cut_wires_and_gates_to_subcircuits\n\u001b[1;32m      3\u001b[0m observables \u001b[38;5;241m=\u001b[39m [\u001b[38;5;124m\"\u001b[39m\u001b[38;5;124mZZI\u001b[39m\u001b[38;5;124m\"\u001b[39m, \u001b[38;5;124m\"\u001b[39m\u001b[38;5;124mIZZ\u001b[39m\u001b[38;5;124m\"\u001b[39m, \u001b[38;5;124m\"\u001b[39m\u001b[38;5;124mIIZ\u001b[39m\u001b[38;5;124m\"\u001b[39m, \u001b[38;5;124m\"\u001b[39m\u001b[38;5;124mXIX\u001b[39m\u001b[38;5;124m\"\u001b[39m, \u001b[38;5;124m\"\u001b[39m\u001b[38;5;124mZIZ\u001b[39m\u001b[38;5;124m\"\u001b[39m, \u001b[38;5;124m\"\u001b[39m\u001b[38;5;124mIXI\u001b[39m\u001b[38;5;124m\"\u001b[39m]\n\u001b[1;32m      5\u001b[0m subcircuits, subobservables \u001b[38;5;241m=\u001b[39m cut_wires_and_gates_to_subcircuits(\n\u001b[1;32m      6\u001b[0m     circuit\u001b[38;5;241m=\u001b[39mcircuit,\n\u001b[1;32m      7\u001b[0m     observables\u001b[38;5;241m=\u001b[39mobservables,\n\u001b[0;32m   (...)\u001b[0m\n\u001b[1;32m     11\u001b[0m     num_subcircuits\u001b[38;5;241m=\u001b[39m[\u001b[38;5;241m2\u001b[39m]\n\u001b[1;32m     12\u001b[0m )\n",
      "\u001b[0;31mModuleNotFoundError\u001b[0m: No module named 'circuit_knitting'"
     ]
    }
   ],
   "source": [
    "from circuit_knitting.cutting.gate_and_wire_cutting.frontend import cut_wires_and_gates_to_subcircuits\n",
    "\n",
    "observables = [\"ZZI\", \"IZZ\", \"IIZ\", \"XIX\", \"ZIZ\", \"IXI\"]\n",
    "\n",
    "subcircuits, subobservables = cut_wires_and_gates_to_subcircuits(\n",
    "    circuit=circuit,\n",
    "    observables=observables,\n",
    "    method='automatic',\n",
    "    max_subcircuit_width=2,\n",
    "    max_cuts=9,\n",
    "    num_subcircuits=[2]\n",
    ")"
   ]
  },
  {
   "cell_type": "code",
   "execution_count": null,
   "metadata": {
    "collapsed": false
   },
   "outputs": [
    {
     "name": "stdout",
     "output_type": "stream",
     "text": [
      "       ┌─────────────┐┌─────────────┐                 ┌─────────────┐»\n",
      "q11_0: ┤ U3(0.8,0,0) ├┤ U3(0,0,0.8) ├──────────────■──┤ U3(0.8,0,0) ├»\n",
      "       ├─────────────┤├─────────────┤┌──────────┐┌─┴─┐├─────────────┤»\n",
      "q11_1: ┤ U3(0.8,0,0) ├┤ U3(0,0,0.8) ├┤ cut_cx_0 ├┤ X ├┤ U3(0.8,0,0) ├»\n",
      "       └─────────────┘└─────────────┘└──────────┘└───┘└─────────────┘»\n",
      "«       ┌─────────────┐\n",
      "«q11_0: ┤ U3(0,0,0.8) ├\n",
      "«       ├─────────────┤\n",
      "«q11_1: ┤ U3(0,0,0.8) ├\n",
      "«       └─────────────┘\n",
      "     ┌─────────────┐┌─────────────┐┌──────────┐┌─────────────┐┌─────────────┐\n",
      "q12: ┤ U3(0.8,0,0) ├┤ U3(0,0,0.8) ├┤ cut_cx_0 ├┤ U3(0.8,0,0) ├┤ U3(0,0,0.8) ├\n",
      "     └─────────────┘└─────────────┘└──────────┘└─────────────┘└─────────────┘\n"
     ]
    }
   ],
   "source": [
    "# Visualize the subcircuits. Note the decomposed 2-qubit gates marked 'cut_cx_0'\n",
    "for key in subcircuits.keys():\n",
    "    print(subcircuits[key])"
   ]
  },
  {
   "cell_type": "code",
   "execution_count": null,
   "metadata": {},
   "outputs": [],
   "source": [
    "from circuit_knitting.cutting.gate_and_wire_cutting.evaluation import azure_queue_experiments\n",
    "\n",
    "# Use the actual QPU backend\n",
    "backend = 'quantinuum.sim.h1-1e'\n",
    "\n",
    "# Submit the subcircuits to Azure Quantum\n",
    "job_list, qpd_list, coefficients, subexperiments = azure_queue_experiments(\n",
    "    circuits=subcircuits,\n",
    "    subobservables=subobservables,\n",
    "    num_samples=8,  # 8 unique samples to get some statistics\n",
    "    backend = backend,\n",
    "    provider = provider,\n",
    "    shots=128  # Balance of cost and accuracy\n",
    ")"
   ]
  },
  {
   "cell_type": "markdown",
   "metadata": {},
   "source": [
    "Check on the actual results from run on Quantinuum."
   ]
  },
  {
   "cell_type": "code",
   "execution_count": null,
   "metadata": {},
   "outputs": [
    {
     "name": "stdout",
     "output_type": "stream",
     "text": [
      ".............."
     ]
    },
    {
     "ename": "KeyboardInterrupt",
     "evalue": "",
     "output_type": "error",
     "traceback": [
      "\u001b[0;31m---------------------------------------------------------------------------\u001b[0m",
      "\u001b[0;31mKeyboardInterrupt\u001b[0m                         Traceback (most recent call last)",
      "Cell \u001b[0;32mIn[25], line 3\u001b[0m\n\u001b[1;32m      1\u001b[0m \u001b[38;5;28;01mfrom\u001b[39;00m \u001b[38;5;21;01mmodified_circuit_knitting\u001b[39;00m\u001b[38;5;21;01m.\u001b[39;00m\u001b[38;5;21;01mcutting\u001b[39;00m\u001b[38;5;21;01m.\u001b[39;00m\u001b[38;5;21;01mcutting_evaluation\u001b[39;00m \u001b[38;5;28;01mimport\u001b[39;00m get_experiment_results_from_jobs\n\u001b[0;32m----> 3\u001b[0m experiment_results \u001b[38;5;241m=\u001b[39m \u001b[43mget_experiment_results_from_jobs\u001b[49m\u001b[43m(\u001b[49m\u001b[43mjob_list\u001b[49m\u001b[43m,\u001b[49m\u001b[43m \u001b[49m\u001b[43mqpd_list\u001b[49m\u001b[43m,\u001b[49m\u001b[43m \u001b[49m\u001b[43mcoefficients\u001b[49m\u001b[43m)\u001b[49m\n\u001b[1;32m      4\u001b[0m experiment_results\n",
      "File \u001b[0;32m~/GoogleDrive/Duke-PhD/Accenture-Summer-2023/Entaglement-Forging/modified-circuit-knitting-toolbox/modified_circuit_knitting/cutting/cutting_evaluation.py:240\u001b[0m, in \u001b[0;36mget_experiment_results_from_jobs\u001b[0;34m(jobs, qpd_bits, coefficients)\u001b[0m\n\u001b[1;32m    237\u001b[0m quasi_dists: \u001b[38;5;28mlist\u001b[39m[\u001b[38;5;28mlist\u001b[39m[\u001b[38;5;28mlist\u001b[39m[\u001b[38;5;28mtuple\u001b[39m[\u001b[38;5;28mdict\u001b[39m[\u001b[38;5;28mstr\u001b[39m, \u001b[38;5;28mint\u001b[39m], \u001b[38;5;28mint\u001b[39m]]]] \u001b[38;5;241m=\u001b[39m []\n\u001b[1;32m    239\u001b[0m \u001b[38;5;66;03m# Get all the results from the jobs, preserving order\u001b[39;00m\n\u001b[0;32m--> 240\u001b[0m result_list: \u001b[38;5;28mlist\u001b[39m[\u001b[38;5;28mlist\u001b[39m[\u001b[38;5;28mlist\u001b[39m[Any]]] \u001b[38;5;241m=\u001b[39m \u001b[43mget_raw_results_from_jobs\u001b[49m\u001b[43m(\u001b[49m\u001b[43mjobs\u001b[49m\u001b[43m)\u001b[49m\n\u001b[1;32m    242\u001b[0m \u001b[38;5;28;01mfor\u001b[39;00m i, partition \u001b[38;5;129;01min\u001b[39;00m \u001b[38;5;28menumerate\u001b[39m(result_list):\n\u001b[1;32m    243\u001b[0m     quasi_dists\u001b[38;5;241m.\u001b[39mappend([])\n",
      "File \u001b[0;32m~/GoogleDrive/Duke-PhD/Accenture-Summer-2023/Entaglement-Forging/modified-circuit-knitting-toolbox/modified_circuit_knitting/cutting/cutting_evaluation.py:228\u001b[0m, in \u001b[0;36mget_raw_results_from_jobs\u001b[0;34m(jobs)\u001b[0m\n\u001b[1;32m    226\u001b[0m         results[i]\u001b[38;5;241m.\u001b[39mappend([])\n\u001b[1;32m    227\u001b[0m         \u001b[38;5;28;01mfor\u001b[39;00m k, observable_job \u001b[38;5;129;01min\u001b[39;00m \u001b[38;5;28menumerate\u001b[39m(sample_jobs):\n\u001b[0;32m--> 228\u001b[0m             result \u001b[38;5;241m=\u001b[39m \u001b[43mobservable_job\u001b[49m\u001b[38;5;241;43m.\u001b[39;49m\u001b[43mresult\u001b[49m\u001b[43m(\u001b[49m\u001b[43m)\u001b[49m\n\u001b[1;32m    229\u001b[0m             results[i][j]\u001b[38;5;241m.\u001b[39mappend(result)\n\u001b[1;32m    231\u001b[0m \u001b[38;5;28;01mreturn\u001b[39;00m results\n",
      "File \u001b[0;32m~/miniconda3/envs/azure/lib/python3.9/site-packages/azure/quantum/qiskit/job.py:84\u001b[0m, in \u001b[0;36mAzureQuantumJob.result\u001b[0;34m(self, timeout, sampler_seed)\u001b[0m\n\u001b[1;32m     82\u001b[0m \u001b[38;5;28;01mdef\u001b[39;00m \u001b[38;5;21mresult\u001b[39m(\u001b[38;5;28mself\u001b[39m, timeout\u001b[38;5;241m=\u001b[39m\u001b[38;5;28;01mNone\u001b[39;00m, sampler_seed\u001b[38;5;241m=\u001b[39m\u001b[38;5;28;01mNone\u001b[39;00m):\n\u001b[1;32m     83\u001b[0m \u001b[38;5;250m    \u001b[39m\u001b[38;5;124;03m\"\"\"Return the results of the job.\"\"\"\u001b[39;00m\n\u001b[0;32m---> 84\u001b[0m     \u001b[38;5;28;43mself\u001b[39;49m\u001b[38;5;241;43m.\u001b[39;49m\u001b[43m_azure_job\u001b[49m\u001b[38;5;241;43m.\u001b[39;49m\u001b[43mwait_until_completed\u001b[49m\u001b[43m(\u001b[49m\u001b[43mtimeout_secs\u001b[49m\u001b[38;5;241;43m=\u001b[39;49m\u001b[43mtimeout\u001b[49m\u001b[43m)\u001b[49m\n\u001b[1;32m     86\u001b[0m     success \u001b[38;5;241m=\u001b[39m \u001b[38;5;28mself\u001b[39m\u001b[38;5;241m.\u001b[39m_azure_job\u001b[38;5;241m.\u001b[39mdetails\u001b[38;5;241m.\u001b[39mstatus \u001b[38;5;241m==\u001b[39m \u001b[38;5;124m\"\u001b[39m\u001b[38;5;124mSucceeded\u001b[39m\u001b[38;5;124m\"\u001b[39m\n\u001b[1;32m     87\u001b[0m     results \u001b[38;5;241m=\u001b[39m \u001b[38;5;28mself\u001b[39m\u001b[38;5;241m.\u001b[39m_format_results(sampler_seed\u001b[38;5;241m=\u001b[39msampler_seed)\n",
      "File \u001b[0;32m~/miniconda3/envs/azure/lib/python3.9/site-packages/azure/quantum/job/job.py:97\u001b[0m, in \u001b[0;36mJob.wait_until_completed\u001b[0;34m(self, max_poll_wait_secs, timeout_secs, print_progress)\u001b[0m\n\u001b[1;32m     95\u001b[0m \u001b[38;5;28;01mif\u001b[39;00m print_progress:\n\u001b[1;32m     96\u001b[0m     \u001b[38;5;28mprint\u001b[39m(\u001b[38;5;124m\"\u001b[39m\u001b[38;5;124m.\u001b[39m\u001b[38;5;124m\"\u001b[39m, end\u001b[38;5;241m=\u001b[39m\u001b[38;5;124m\"\u001b[39m\u001b[38;5;124m\"\u001b[39m, flush\u001b[38;5;241m=\u001b[39m\u001b[38;5;28;01mTrue\u001b[39;00m)\n\u001b[0;32m---> 97\u001b[0m \u001b[43mtime\u001b[49m\u001b[38;5;241;43m.\u001b[39;49m\u001b[43msleep\u001b[49m\u001b[43m(\u001b[49m\u001b[43mpoll_wait\u001b[49m\u001b[43m)\u001b[49m\n\u001b[1;32m     98\u001b[0m \u001b[38;5;28mself\u001b[39m\u001b[38;5;241m.\u001b[39mrefresh()\n\u001b[1;32m     99\u001b[0m poll_wait \u001b[38;5;241m=\u001b[39m (\n\u001b[1;32m    100\u001b[0m     max_poll_wait_secs\n\u001b[1;32m    101\u001b[0m     \u001b[38;5;28;01mif\u001b[39;00m poll_wait \u001b[38;5;241m>\u001b[39m\u001b[38;5;241m=\u001b[39m max_poll_wait_secs\n\u001b[1;32m    102\u001b[0m     \u001b[38;5;28;01melse\u001b[39;00m poll_wait \u001b[38;5;241m*\u001b[39m \u001b[38;5;241m1.5\u001b[39m\n\u001b[1;32m    103\u001b[0m )\n",
      "\u001b[0;31mKeyboardInterrupt\u001b[0m: "
     ]
    }
   ],
   "source": [
    "from circuit_knitting.cutting.gate_and_wire_cutting.evaluation import get_experiment_results_from_jobs\n",
    "\n",
    "experiment_results = get_experiment_results_from_jobs(job_list, qpd_list, coefficients)\n",
    "experiment_results"
   ]
  },
  {
   "cell_type": "markdown",
   "metadata": {},
   "source": [
    "Now check the actual expectation values from the observables."
   ]
  },
  {
   "cell_type": "code",
   "execution_count": null,
   "metadata": {},
   "outputs": [
    {
     "data": {
      "text/plain": [
       "[1.0, 1.0, 1.0, 1.0, 1.0, 1.0]"
      ]
     },
     "execution_count": 8,
     "metadata": {},
     "output_type": "execute_result"
    }
   ],
   "source": [
    "from circuit_knitting.cutting.cutting_reconstruction import reconstruct_expectation_values\n",
    "\n",
    "quantinuum_expvals = reconstruct_expectation_values(*experiment_results, subobservables)\n",
    "quantinuum_expvals"
   ]
  },
  {
   "cell_type": "code",
   "execution_count": null,
   "metadata": {},
   "outputs": [
    {
     "data": {
      "text/plain": [
       "array([0.50390696, 0.57454157, 0.39584538, 0.09798816, 0.18481229,\n",
       "       0.23530298])"
      ]
     },
     "execution_count": 9,
     "metadata": {},
     "output_type": "execute_result"
    }
   ],
   "source": [
    "# Create ideal results\n",
    "from circuit_knitting.cutting.gate_and_wire_cutting.frontend import exact_observables\n",
    "\n",
    "ideal_expvals = exact_observables(circuit, observables)\n",
    "ideal_expvals"
   ]
  },
  {
   "cell_type": "code",
   "execution_count": null,
   "metadata": {},
   "outputs": [
    {
     "name": "stdout",
     "output_type": "stream",
     "text": [
      "Simulated expectation values: [1.0, 1.0, 1.0, 1.0, 1.0, 1.0]\n",
      "Exact expectation values: [0.50390696, 0.57454157, 0.39584538, 0.09798816, 0.18481229, 0.23530298]\n",
      "Errors in estimation: [0.49609304, 0.42545843, 0.60415462, 0.90201184, 0.81518771, 0.76469702]\n",
      "Relative errors in estimation: [0.98449331, 0.74051809, 1.52623889, 9.20531428, 4.41089546, 3.24984]\n"
     ]
    }
   ],
   "source": [
    "# Compare the error between results\n",
    "from circuit_knitting.cutting.gate_and_wire_cutting.frontend import compare_results\n",
    "\n",
    "compare_results(quantinuum_expvals, ideal_expvals)"
   ]
  },
  {
   "cell_type": "markdown",
   "metadata": {},
   "source": [
    "The below is a cost estimator for the circuits run - make sure to add up for all subcircuits run."
   ]
  },
  {
   "cell_type": "code",
   "execution_count": null,
   "metadata": {},
   "outputs": [
    {
     "name": "stdout",
     "output_type": "stream",
     "text": [
      "Estimated cost: 133.8752 EHQC\n"
     ]
    }
   ],
   "source": [
    "cost_backend = provider.get_backend('quantinuum.qpu.h1-1')\n",
    "total_cost = 0\n",
    "for sample in subexperiments:\n",
    "    for partition in sample:\n",
    "        for subexperiment in partition:\n",
    "            cost = cost_backend.estimate_cost(subexperiment, shots=128)\n",
    "            total_cost += cost.estimated_total\n",
    "print(f'Estimated cost: {total_cost} {cost.currency_code}')"
   ]
  }
 ],
 "metadata": {
  "kernelspec": {
   "display_name": "azure",
   "language": "python",
   "name": "python3"
  },
  "language_info": {
   "codemirror_mode": {
    "name": "ipython",
    "version": 3
   },
   "file_extension": ".py",
   "mimetype": "text/x-python",
   "name": "python",
   "nbconvert_exporter": "python",
   "pygments_lexer": "ipython3",
   "version": "3.9.17"
  }
 },
 "nbformat": 4,
 "nbformat_minor": 2
}
