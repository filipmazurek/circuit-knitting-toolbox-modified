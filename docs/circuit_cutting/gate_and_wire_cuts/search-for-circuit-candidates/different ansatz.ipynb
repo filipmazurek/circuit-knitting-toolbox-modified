{
 "cells": [
  {
   "cell_type": "code",
   "execution_count": 71,
   "metadata": {},
   "outputs": [],
   "source": [
    "from circuit_knitting.cutting.gate_and_wire_cutting.frontend import cut_wires_and_gates_to_subcircuits\n",
    "\n",
    "from qiskit.circuit.library import EfficientSU2\n",
    "from qiskit.circuit.library import RealAmplitudes\n",
    "from qiskit.circuit.library import TwoLocal\n",
    "from qiskit.circuit.library import QAOAAnsatz\n",
    "from qiskit.circuit.library import ExcitationPreserving\n",
    "from qiskit.circuit.library import NLocal\n",
    "from qiskit.circuit.library import PauliTwoDesign\n",
    "# from qiskit.circuit.library import UCCSD"
   ]
  },
  {
   "cell_type": "code",
   "execution_count": 25,
   "metadata": {},
   "outputs": [],
   "source": [
    "num_qubits = 16\n",
    "observables = ['Z'*num_qubits]"
   ]
  },
  {
   "cell_type": "code",
   "execution_count": 27,
   "metadata": {},
   "outputs": [
    {
     "name": "stdout",
     "output_type": "stream",
     "text": [
      "Set parameter TimeLimit to value 300\n",
      "Set parameter Cutoff to value 1e+100\n",
      "Gurobi Optimizer version 11.0.0 build v11.0.0rc2 (mac64[x86] - Darwin 23.0.0 23A344)\n",
      "\n",
      "CPU model: Intel(R) Core(TM) i5-1038NG7 CPU @ 2.00GHz\n",
      "Thread count: 4 physical cores, 8 logical processors, using up to 8 threads\n",
      "\n",
      "Optimize a model with 1147 rows, 489 columns and 3898 nonzeros\n",
      "Model fingerprint: 0x8f0aebcf\n",
      "Variable types: 0 continuous, 489 integer (450 binary)\n",
      "Coefficient statistics:\n",
      "  Matrix range     [1e-02, 2e+00]\n",
      "  Objective range  [1e+00, 1e+00]\n",
      "  Bounds range     [1e+00, 4e+01]\n",
      "  RHS range        [1e+00, 2e+00]\n",
      "Presolve removed 128 rows and 116 columns\n",
      "Presolve time: 0.01s\n",
      "Presolved: 1019 rows, 373 columns, 3309 nonzeros\n",
      "Variable types: 0 continuous, 373 integer (354 binary)\n",
      "Found heuristic solution: objective 3.0000000\n",
      "\n",
      "Root relaxation: objective 1.200000e+00, 340 iterations, 0.01 seconds (0.01 work units)\n",
      "\n",
      "    Nodes    |    Current Node    |     Objective Bounds      |     Work\n",
      " Expl Unexpl |  Obj  Depth IntInf | Incumbent    BestBd   Gap | It/Node Time\n",
      "\n",
      "     0     0    1.20000    0  134    3.00000    1.20000  60.0%     -    0s\n",
      "     0     0    1.20000    0  136    3.00000    1.20000  60.0%     -    0s\n",
      "     0     0    1.20000    0  136    3.00000    1.20000  60.0%     -    0s\n",
      "     0     0    1.20000    0   19    3.00000    1.20000  60.0%     -    0s\n",
      "\n",
      "Cutting planes:\n",
      "  Gomory: 1\n",
      "  Mod-K: 2\n",
      "\n",
      "Explored 1 nodes (452 simplex iterations) in 0.10 seconds (0.04 work units)\n",
      "Thread count was 8 (of 8 available processors)\n",
      "\n",
      "Solution count 1: 3 \n",
      "\n",
      "Optimal solution found (tolerance 1.00e-04)\n",
      "Best objective 3.000000000000e+00, best bound 3.000000000000e+00, gap 0.0000%\n",
      "MIP MODEL CUT WIRES:  []\n"
     ]
    },
    {
     "data": {
      "text/plain": [
       "(0, 3)"
      ]
     },
     "execution_count": 27,
     "metadata": {},
     "output_type": "execute_result"
    }
   ],
   "source": [
    "\n",
    "circ = EfficientSU2(num_qubits).decompose(reps=3)\n",
    "\n",
    "_, _, num_wire_cuts, num_gate_cuts = cut_wires_and_gates_to_subcircuits(\n",
    "    circuit=circ,\n",
    "    observables=observables,\n",
    "    method='automatic',\n",
    "    max_subcircuit_width=10,\n",
    "    max_cuts=10,\n",
    "    num_subcircuits=[2],\n",
    "    model='gurobi'\n",
    ")\n",
    "\n",
    "num_wire_cuts, num_gate_cuts"
   ]
  },
  {
   "cell_type": "code",
   "execution_count": 28,
   "metadata": {},
   "outputs": [
    {
     "name": "stdout",
     "output_type": "stream",
     "text": [
      "Set parameter TimeLimit to value 300\n",
      "Set parameter Cutoff to value 1e+100\n",
      "Gurobi Optimizer version 11.0.0 build v11.0.0rc2 (mac64[x86] - Darwin 23.0.0 23A344)\n",
      "\n",
      "CPU model: Intel(R) Core(TM) i5-1038NG7 CPU @ 2.00GHz\n",
      "Thread count: 4 physical cores, 8 logical processors, using up to 8 threads\n",
      "\n",
      "Optimize a model with 1147 rows, 489 columns and 3898 nonzeros\n",
      "Model fingerprint: 0x8f0aebcf\n",
      "Variable types: 0 continuous, 489 integer (450 binary)\n",
      "Coefficient statistics:\n",
      "  Matrix range     [1e-02, 2e+00]\n",
      "  Objective range  [1e+00, 1e+00]\n",
      "  Bounds range     [1e+00, 4e+01]\n",
      "  RHS range        [1e+00, 2e+00]\n",
      "Presolve removed 128 rows and 116 columns\n",
      "Presolve time: 0.01s\n",
      "Presolved: 1019 rows, 373 columns, 3309 nonzeros\n",
      "Variable types: 0 continuous, 373 integer (354 binary)\n",
      "Found heuristic solution: objective 3.0000000\n",
      "\n",
      "Root relaxation: objective 1.200000e+00, 340 iterations, 0.02 seconds (0.01 work units)\n",
      "\n",
      "    Nodes    |    Current Node    |     Objective Bounds      |     Work\n",
      " Expl Unexpl |  Obj  Depth IntInf | Incumbent    BestBd   Gap | It/Node Time\n",
      "\n",
      "     0     0    1.20000    0  134    3.00000    1.20000  60.0%     -    0s\n",
      "     0     0    1.20000    0  136    3.00000    1.20000  60.0%     -    0s\n",
      "     0     0    1.20000    0  136    3.00000    1.20000  60.0%     -    0s\n",
      "     0     0    1.20000    0   19    3.00000    1.20000  60.0%     -    0s\n",
      "\n",
      "Cutting planes:\n",
      "  Gomory: 1\n",
      "  Mod-K: 2\n",
      "\n",
      "Explored 1 nodes (452 simplex iterations) in 0.18 seconds (0.04 work units)\n",
      "Thread count was 8 (of 8 available processors)\n",
      "\n",
      "Solution count 1: 3 \n",
      "\n",
      "Optimal solution found (tolerance 1.00e-04)\n",
      "Best objective 3.000000000000e+00, best bound 3.000000000000e+00, gap 0.0000%\n",
      "MIP MODEL CUT WIRES:  []\n"
     ]
    },
    {
     "data": {
      "text/plain": [
       "(0, 3)"
      ]
     },
     "execution_count": 28,
     "metadata": {},
     "output_type": "execute_result"
    }
   ],
   "source": [
    "circ = RealAmplitudes(num_qubits).decompose(reps=3)\n",
    "\n",
    "_, _, num_wire_cuts, num_gate_cuts = cut_wires_and_gates_to_subcircuits(\n",
    "    circuit=circ,\n",
    "    observables=observables,\n",
    "    method='automatic',\n",
    "    max_subcircuit_width=10,\n",
    "    max_cuts=10,\n",
    "    num_subcircuits=[2],\n",
    "    model='gurobi'\n",
    ")\n",
    "\n",
    "num_wire_cuts, num_gate_cuts"
   ]
  },
  {
   "cell_type": "code",
   "execution_count": 42,
   "metadata": {},
   "outputs": [
    {
     "name": "stdout",
     "output_type": "stream",
     "text": [
      "     ┌───┐┌───┐     ┌───┐                    ┌───┐┌───┐               ┌───┐»\n",
      "q_0: ┤ Y ├┤ X ├──■──┤ Y ├─────────────────■──┤ X ├┤ Y ├───────────────┤ X ├»\n",
      "     ├───┤└─┬─┘┌─┴─┐└───┘┌───┐            │  └─┬─┘├───┤┌───┐          └─┬─┘»\n",
      "q_1: ┤ Y ├──┼──┤ X ├──■──┤ Y ├────────────┼────■──┤ X ├┤ Y ├──■─────────┼──»\n",
      "     ├───┤  │  └───┘┌─┴─┐└───┘┌───┐┌───┐  │       └─┬─┘├───┤┌─┴─┐       │  »\n",
      "q_2: ┤ Y ├──┼───────┤ X ├──■──┤ Y ├┤ X ├──┼─────────■──┤ Y ├┤ X ├──■────┼──»\n",
      "     ├───┤  │       └───┘┌─┴─┐├───┤└─┬─┘┌─┴─┐┌───┐     └───┘└───┘┌─┴─┐  │  »\n",
      "q_3: ┤ Y ├──■────────────┤ X ├┤ Y ├──■──┤ X ├┤ Y ├───────────────┤ X ├──■──»\n",
      "     └───┘               └───┘└───┘     └───┘└───┘               └───┘     »\n",
      "«          ┌───┐\n",
      "«q_0: ──■──┤ Y ├\n",
      "«     ┌─┴─┐├───┤\n",
      "«q_1: ┤ X ├┤ Y ├\n",
      "«     ├───┤└───┘\n",
      "«q_2: ┤ Y ├─────\n",
      "«     ├───┤     \n",
      "«q_3: ┤ Y ├─────\n",
      "«     └───┘     \n"
     ]
    }
   ],
   "source": [
    "circ = TwoLocal(4, rotation_blocks='y', entanglement_blocks='cx', entanglement='sca', flatten=True)\n",
    "print(circ)"
   ]
  },
  {
   "cell_type": "code",
   "execution_count": 41,
   "metadata": {},
   "outputs": [
    {
     "name": "stdout",
     "output_type": "stream",
     "text": [
      "Set parameter TimeLimit to value 300\n",
      "Set parameter Cutoff to value 1e+100\n",
      "Gurobi Optimizer version 11.0.0 build v11.0.0rc2 (mac64[x86] - Darwin 23.0.0 23A344)\n"
     ]
    },
    {
     "name": "stdout",
     "output_type": "stream",
     "text": [
      "\n",
      "CPU model: Intel(R) Core(TM) i5-1038NG7 CPU @ 2.00GHz\n",
      "Thread count: 4 physical cores, 8 logical processors, using up to 8 threads\n",
      "\n",
      "Optimize a model with 465 rows, 199 columns and 1574 nonzeros\n",
      "Model fingerprint: 0x6fa38775\n",
      "Variable types: 0 continuous, 199 integer (180 binary)\n",
      "Coefficient statistics:\n",
      "  Matrix range     [1e-02, 2e+00]\n",
      "  Objective range  [1e+00, 1e+00]\n",
      "  Bounds range     [1e+00, 3e+01]\n",
      "  RHS range        [1e+00, 2e+00]\n",
      "Presolve removed 64 rows and 52 columns\n",
      "Presolve time: 0.00s\n",
      "Presolved: 401 rows, 147 columns, 1299 nonzeros\n",
      "Variable types: 0 continuous, 147 integer (138 binary)\n",
      "Found heuristic solution: objective 6.0000000\n",
      "\n",
      "Root relaxation: objective 3.600000e+00, 165 iterations, 0.00 seconds (0.00 work units)\n",
      "\n",
      "    Nodes    |    Current Node    |     Objective Bounds      |     Work\n",
      " Expl Unexpl |  Obj  Depth IntInf | Incumbent    BestBd   Gap | It/Node Time\n",
      "\n",
      "     0     0    3.60000    0   56    6.00000    3.60000  40.0%     -    0s\n",
      "\n",
      "Cutting planes:\n",
      "  Gomory: 3\n",
      "  Mod-K: 2\n",
      "\n",
      "Explored 1 nodes (165 simplex iterations) in 0.21 seconds (0.01 work units)\n",
      "Thread count was 8 (of 8 available processors)\n",
      "\n",
      "Solution count 1: 6 \n",
      "\n",
      "Optimal solution found (tolerance 1.00e-04)\n",
      "Best objective 6.000000000000e+00, best bound 6.000000000000e+00, gap 0.0000%\n",
      "MIP MODEL CUT WIRES:  []\n"
     ]
    },
    {
     "data": {
      "text/plain": [
       "(0, 6)"
      ]
     },
     "execution_count": 41,
     "metadata": {},
     "output_type": "execute_result"
    }
   ],
   "source": [
    "circ = TwoLocal(6, rotation_blocks='y', entanglement_blocks='cx', entanglement='sca', flatten=True)\n",
    "\n",
    "_, _, num_wire_cuts, num_gate_cuts = cut_wires_and_gates_to_subcircuits(\n",
    "    circuit=circ,\n",
    "    observables=observables,\n",
    "    method='automatic',\n",
    "    max_subcircuit_width=3,\n",
    "    max_cuts=10,\n",
    "    num_subcircuits=[2],\n",
    "    model='gurobi'\n",
    ")\n",
    "\n",
    "num_wire_cuts, num_gate_cuts"
   ]
  },
  {
   "cell_type": "code",
   "execution_count": 62,
   "metadata": {},
   "outputs": [
    {
     "name": "stdout",
     "output_type": "stream",
     "text": [
      "Set parameter TimeLimit to value 300\n",
      "Set parameter Cutoff to value 1e+100\n",
      "Gurobi Optimizer version 11.0.0 build v11.0.0rc2 (mac64[x86] - Darwin 23.0.0 23A344)\n",
      "\n",
      "CPU model: Intel(R) Core(TM) i5-1038NG7 CPU @ 2.00GHz\n",
      "Thread count: 4 physical cores, 8 logical processors, using up to 8 threads\n",
      "\n",
      "Optimize a model with 1249 rows, 495 columns and 4366 nonzeros\n",
      "Model fingerprint: 0xc754df04\n",
      "Variable types: 0 continuous, 495 integer (480 binary)\n",
      "Coefficient statistics:\n",
      "  Matrix range     [1e-02, 2e+00]\n",
      "  Objective range  [1e+00, 1e+00]\n",
      "  Bounds range     [1e+00, 1e+02]\n",
      "  RHS range        [1e+00, 2e+00]\n",
      "Presolve removed 122 rows and 110 columns\n",
      "Presolve time: 0.01s\n",
      "Presolved: 1127 rows, 385 columns, 3729 nonzeros\n",
      "Variable types: 0 continuous, 385 integer (378 binary)\n",
      "Found heuristic solution: objective 24.0000000\n",
      "\n",
      "Root relaxation: objective 1.000000e+00, 388 iterations, 0.02 seconds (0.01 work units)\n",
      "\n",
      "    Nodes    |    Current Node    |     Objective Bounds      |     Work\n",
      " Expl Unexpl |  Obj  Depth IntInf | Incumbent    BestBd   Gap | It/Node Time\n",
      "\n",
      "     0     0    1.00000    0  104   24.00000    1.00000  95.8%     -    0s\n",
      "H    0     0                      23.0000000    1.00000  95.7%     -    0s\n",
      "     0     0    2.70000    0  110   23.00000    2.70000  88.3%     -    0s\n",
      "     0     0    2.70000    0  110   23.00000    2.70000  88.3%     -    0s\n",
      "H    0     0                      20.0000000    2.70000  86.5%     -    0s\n",
      "     0     0    4.79080    0  110   20.00000    4.79080  76.0%     -    0s\n",
      "     0     0    4.95455    0  110   20.00000    4.95455  75.2%     -    0s\n",
      "     0     0    6.68571    0  110   20.00000    6.68571  66.6%     -    0s\n",
      "     0     0    6.69091    0  110   20.00000    6.69091  66.5%     -    0s\n",
      "     0     2    6.69091    0  110   20.00000    6.69091  66.5%     -    0s\n",
      "\n",
      "Cutting planes:\n",
      "  Gomory: 15\n",
      "  Cover: 15\n",
      "  Implied bound: 1\n",
      "  Clique: 5\n",
      "  Flow cover: 1\n",
      "\n",
      "Explored 267 nodes (14084 simplex iterations) in 0.63 seconds (0.54 work units)\n",
      "Thread count was 8 (of 8 available processors)\n",
      "\n",
      "Solution count 3: 20 23 24 \n",
      "\n",
      "Optimal solution found (tolerance 1.00e-04)\n",
      "Best objective 2.000000000000e+01, best bound 2.000000000000e+01, gap 0.0000%\n",
      "MIP MODEL CUT WIRES:  ['q[0]19', 'q[1]19']\n"
     ]
    },
    {
     "ename": "KeyError",
     "evalue": "Qubit(QuantumRegister(6, 'q50'), 4)",
     "output_type": "error",
     "traceback": [
      "\u001b[0;31m---------------------------------------------------------------------------\u001b[0m",
      "\u001b[0;31mKeyError\u001b[0m                                  Traceback (most recent call last)",
      "Cell \u001b[0;32mIn[62], line 3\u001b[0m\n\u001b[1;32m      1\u001b[0m circ \u001b[38;5;241m=\u001b[39m ExcitationPreserving(\u001b[38;5;241m4\u001b[39m, flatten\u001b[38;5;241m=\u001b[39m\u001b[38;5;28;01mTrue\u001b[39;00m, reps\u001b[38;5;241m=\u001b[39m\u001b[38;5;241m2\u001b[39m)\u001b[38;5;241m.\u001b[39mdecompose()\n\u001b[0;32m----> 3\u001b[0m _, _, num_wire_cuts, num_gate_cuts \u001b[38;5;241m=\u001b[39m \u001b[43mcut_wires_and_gates_to_subcircuits\u001b[49m\u001b[43m(\u001b[49m\n\u001b[1;32m      4\u001b[0m \u001b[43m    \u001b[49m\u001b[43mcircuit\u001b[49m\u001b[38;5;241;43m=\u001b[39;49m\u001b[43mcirc\u001b[49m\u001b[43m,\u001b[49m\n\u001b[1;32m      5\u001b[0m \u001b[43m    \u001b[49m\u001b[43mobservables\u001b[49m\u001b[38;5;241;43m=\u001b[39;49m\u001b[43mobservables\u001b[49m\u001b[43m,\u001b[49m\n\u001b[1;32m      6\u001b[0m \u001b[43m    \u001b[49m\u001b[43mmethod\u001b[49m\u001b[38;5;241;43m=\u001b[39;49m\u001b[38;5;124;43m'\u001b[39;49m\u001b[38;5;124;43mautomatic\u001b[39;49m\u001b[38;5;124;43m'\u001b[39;49m\u001b[43m,\u001b[49m\n\u001b[1;32m      7\u001b[0m \u001b[43m    \u001b[49m\u001b[43mmax_subcircuit_width\u001b[49m\u001b[38;5;241;43m=\u001b[39;49m\u001b[38;5;241;43m3\u001b[39;49m\u001b[43m,\u001b[49m\n\u001b[1;32m      8\u001b[0m \u001b[43m    \u001b[49m\u001b[43mmax_cuts\u001b[49m\u001b[38;5;241;43m=\u001b[39;49m\u001b[38;5;241;43m50\u001b[39;49m\u001b[43m,\u001b[49m\n\u001b[1;32m      9\u001b[0m \u001b[43m    \u001b[49m\u001b[43mnum_subcircuits\u001b[49m\u001b[38;5;241;43m=\u001b[39;49m\u001b[43m[\u001b[49m\u001b[38;5;241;43m2\u001b[39;49m\u001b[43m]\u001b[49m\u001b[43m,\u001b[49m\n\u001b[1;32m     10\u001b[0m \u001b[43m    \u001b[49m\u001b[43mmodel\u001b[49m\u001b[38;5;241;43m=\u001b[39;49m\u001b[38;5;124;43m'\u001b[39;49m\u001b[38;5;124;43mgurobi\u001b[39;49m\u001b[38;5;124;43m'\u001b[39;49m\n\u001b[1;32m     11\u001b[0m \u001b[43m)\u001b[49m\n\u001b[1;32m     13\u001b[0m num_wire_cuts, num_gate_cuts\n",
      "File \u001b[0;32m~/GoogleDrive/Duke-PhD/circuit-knitting-toolbox/circuit_knitting/cutting/gate_and_wire_cutting/frontend.py:43\u001b[0m, in \u001b[0;36mcut_wires_and_gates_to_subcircuits\u001b[0;34m(circuit, observables, method, max_subcircuit_width, max_cuts, num_subcircuits, model, verbose)\u001b[0m\n\u001b[1;32m     40\u001b[0m \u001b[38;5;28mprint\u001b[39m(\u001b[38;5;124m\"\u001b[39m\u001b[38;5;124mMIP MODEL CUT WIRES: \u001b[39m\u001b[38;5;124m\"\u001b[39m, wire_cuts)\n\u001b[1;32m     42\u001b[0m \u001b[38;5;66;03m# Add gates to decompose given the cut locations\u001b[39;00m\n\u001b[0;32m---> 43\u001b[0m ancilla_circ, cut_indices, qubit_mapping_ancilla \u001b[38;5;241m=\u001b[39m \u001b[43mcopy_and_add_ancilla\u001b[49m\u001b[43m(\u001b[49m\u001b[43mcircuit\u001b[49m\u001b[43m,\u001b[49m\u001b[43m \u001b[49m\u001b[43mwire_cuts\u001b[49m\u001b[43m,\u001b[49m\u001b[43m \u001b[49m\u001b[43mgate_cuts\u001b[49m\u001b[43m)\u001b[49m\n\u001b[1;32m     45\u001b[0m \u001b[38;5;66;03m# Account for increasing the number of qubits by adding 'I' observables\u001b[39;00m\n\u001b[1;32m     46\u001b[0m new_obs \u001b[38;5;241m=\u001b[39m add_I_observables(observables, qubit_mapping_ancilla, ancilla_circ\u001b[38;5;241m.\u001b[39mnum_qubits)\n",
      "File \u001b[0;32m~/GoogleDrive/Duke-PhD/circuit-knitting-toolbox/circuit_knitting/cutting/gate_and_wire_cutting/util.py:156\u001b[0m, in \u001b[0;36mcopy_and_add_ancilla\u001b[0;34m(original_circ, wire_cut_locations, gate_cut_locations)\u001b[0m\n\u001b[1;32m    154\u001b[0m     gate_index_dict[ancilla_mapping_reverse[qubit_mapping[qubit2]]] \u001b[38;5;241m+\u001b[39m\u001b[38;5;241m=\u001b[39m \u001b[38;5;241m1\u001b[39m\n\u001b[1;32m    155\u001b[0m \u001b[38;5;66;03m# Check if the gate is a gate cut. If it is, add the total index to the list of cut gate indices\u001b[39;00m\n\u001b[0;32m--> 156\u001b[0m \u001b[38;5;28;01mif\u001b[39;00m qubit1 \u001b[38;5;129;01min\u001b[39;00m gate_cut_dict \u001b[38;5;129;01mand\u001b[39;00m \u001b[43mgate_index_dict\u001b[49m\u001b[43m[\u001b[49m\u001b[43mqubit_mapping\u001b[49m\u001b[43m[\u001b[49m\u001b[43mqubit1\u001b[49m\u001b[43m]\u001b[49m\u001b[43m]\u001b[49m \u001b[38;5;129;01min\u001b[39;00m gate_cut_dict[qubit1]:\n\u001b[1;32m    157\u001b[0m     cut_gate_indices\u001b[38;5;241m.\u001b[39mappend(total_gate_index)\n\u001b[1;32m    158\u001b[0m \u001b[38;5;28;01melif\u001b[39;00m qubit2 \u001b[38;5;129;01min\u001b[39;00m gate_cut_dict \u001b[38;5;129;01mand\u001b[39;00m gate_cut_dict[qubit2] \u001b[38;5;241m==\u001b[39m gate_index_dict[qubit_mapping[qubit2]]:\n",
      "\u001b[0;31mKeyError\u001b[0m: Qubit(QuantumRegister(6, 'q50'), 4)"
     ]
    }
   ],
   "source": [
    "circ = ExcitationPreserving(4, flatten=True, reps=2).decompose()\n",
    "\n",
    "_, _, num_wire_cuts, num_gate_cuts = cut_wires_and_gates_to_subcircuits(\n",
    "    circuit=circ,\n",
    "    observables=observables,\n",
    "    method='automatic',\n",
    "    max_subcircuit_width=3,\n",
    "    max_cuts=50,\n",
    "    num_subcircuits=[2],\n",
    "    model='gurobi'\n",
    ")\n",
    "\n",
    "num_wire_cuts, num_gate_cuts"
   ]
  },
  {
   "cell_type": "code",
   "execution_count": 61,
   "metadata": {},
   "outputs": [
    {
     "name": "stdout",
     "output_type": "stream",
     "text": [
      "{'h': 48, 'cx': 48, 'rx': 48, 'rz': 24, 'u1': 12}\n"
     ]
    }
   ],
   "source": [
    "print(dict(circ.count_ops()))"
   ]
  },
  {
   "cell_type": "code",
   "execution_count": 73,
   "metadata": {},
   "outputs": [
    {
     "name": "stdout",
     "output_type": "stream",
     "text": [
      "Set parameter TimeLimit to value 300\n",
      "Set parameter Cutoff to value 1e+100\n",
      "Gurobi Optimizer version 11.0.0 build v11.0.0rc2 (mac64[x86] - Darwin 23.0.0 23A344)\n",
      "\n",
      "CPU model: Intel(R) Core(TM) i5-1038NG7 CPU @ 2.00GHz\n",
      "Thread count: 4 physical cores, 8 logical processors, using up to 8 threads\n",
      "\n",
      "Optimize a model with 1147 rows, 489 columns and 3898 nonzeros\n",
      "Model fingerprint: 0xe6898b82\n",
      "Variable types: 0 continuous, 489 integer (450 binary)\n",
      "Coefficient statistics:\n",
      "  Matrix range     [1e-02, 2e+00]\n",
      "  Objective range  [1e+00, 1e+00]\n",
      "  Bounds range     [1e+00, 1e+02]\n",
      "  RHS range        [1e+00, 2e+00]\n",
      "Presolve removed 128 rows and 116 columns\n",
      "Presolve time: 0.01s\n",
      "Presolved: 1019 rows, 373 columns, 3305 nonzeros\n",
      "Variable types: 0 continuous, 373 integer (354 binary)\n",
      "Found heuristic solution: objective 21.0000000\n",
      "Found heuristic solution: objective 18.0000000\n",
      "Found heuristic solution: objective 3.0000000\n",
      "\n",
      "Root relaxation: objective 1.200000e+00, 315 iterations, 0.01 seconds (0.01 work units)\n",
      "\n",
      "    Nodes    |    Current Node    |     Objective Bounds      |     Work\n",
      " Expl Unexpl |  Obj  Depth IntInf | Incumbent    BestBd   Gap | It/Node Time\n",
      "\n",
      "     0     0    1.20000    0  139    3.00000    1.20000  60.0%     -    0s\n",
      "     0     0    1.20000    0  139    3.00000    1.20000  60.0%     -    0s\n",
      "     0     0    1.20000    0   18    3.00000    1.20000  60.0%     -    0s\n",
      "\n",
      "Cutting planes:\n",
      "  Gomory: 1\n",
      "  Mod-K: 1\n",
      "\n",
      "Explored 1 nodes (435 simplex iterations) in 0.31 seconds (0.03 work units)\n",
      "Thread count was 8 (of 8 available processors)\n",
      "\n",
      "Solution count 3: 3 18 21 \n",
      "\n",
      "Optimal solution found (tolerance 1.00e-04)\n",
      "Best objective 3.000000000000e+00, best bound 3.000000000000e+00, gap 0.0000%\n",
      "MIP MODEL CUT WIRES:  []\n"
     ]
    },
    {
     "data": {
      "text/plain": [
       "(0, 3)"
      ]
     },
     "execution_count": 73,
     "metadata": {},
     "output_type": "execute_result"
    }
   ],
   "source": [
    "circ = PauliTwoDesign(num_qubits).decompose()\n",
    "\n",
    "_, _, num_wire_cuts, num_gate_cuts = cut_wires_and_gates_to_subcircuits(\n",
    "    circuit=circ,\n",
    "    observables=observables,\n",
    "    method='automatic',\n",
    "    max_subcircuit_width=10,\n",
    "    max_cuts=50,\n",
    "    num_subcircuits=[2],\n",
    "    model='gurobi'\n",
    ")\n",
    "\n",
    "num_wire_cuts, num_gate_cuts"
   ]
  },
  {
   "cell_type": "code",
   "execution_count": null,
   "metadata": {},
   "outputs": [],
   "source": []
  }
 ],
 "metadata": {
  "kernelspec": {
   "display_name": "azure",
   "language": "python",
   "name": "python3"
  },
  "language_info": {
   "codemirror_mode": {
    "name": "ipython",
    "version": 3
   },
   "file_extension": ".py",
   "mimetype": "text/x-python",
   "name": "python",
   "nbconvert_exporter": "python",
   "pygments_lexer": "ipython3",
   "version": "3.9.17"
  }
 },
 "nbformat": 4,
 "nbformat_minor": 2
}
