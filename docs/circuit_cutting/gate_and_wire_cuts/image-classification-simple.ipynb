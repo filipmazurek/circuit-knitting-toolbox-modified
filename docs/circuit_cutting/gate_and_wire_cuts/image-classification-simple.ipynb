{
 "cells": [
  {
   "cell_type": "code",
   "execution_count": 1,
   "id": "initial_id",
   "metadata": {
    "ExecuteTime": {
     "end_time": "2024-03-04T19:43:08.783005Z",
     "start_time": "2024-03-04T19:43:04.052624Z"
    },
    "collapsed": true
   },
   "outputs": [],
   "source": [
    "import json\n",
    "import matplotlib.pyplot as plt\n",
    "import numpy as np\n",
    "from IPython.display import clear_output\n",
    "from qiskit import QuantumCircuit\n",
    "from qiskit.circuit import ParameterVector\n",
    "from qiskit.circuit.library import ZFeatureMap\n",
    "from qiskit.quantum_info import SparsePauliOp\n",
    "from qiskit_algorithms.optimizers import COBYLA, ADAM # Rotosolve or rotoselect?\n",
    "from qiskit_algorithms.utils import algorithm_globals\n",
    "from qiskit_machine_learning.algorithms.classifiers import NeuralNetworkClassifier\n",
    "from sklearn.model_selection import train_test_split\n",
    "\n",
    "from circuit_knitting.cutting.gate_and_wire_cutting.algorithms.cut_estimator_qnn import CutEstimatorQNN\n",
    "\n",
    "algorithm_globals.random_seed = 12345"
   ]
  },
  {
   "cell_type": "code",
   "execution_count": 2,
   "id": "53dabdb5ad878d53",
   "metadata": {
    "collapsed": false
   },
   "outputs": [],
   "source": [
    "def generate_dataset(num_images):\n",
    "    images = []\n",
    "    labels = []\n",
    "    hor_array = np.zeros((6, 8))\n",
    "    ver_array = np.zeros((4, 8))\n",
    "\n",
    "    j = 0\n",
    "    for i in range(0, 7):\n",
    "        if i != 3:\n",
    "            hor_array[j][i] = np.pi / 2\n",
    "            hor_array[j][i + 1] = np.pi / 2\n",
    "            j += 1\n",
    "\n",
    "    j = 0\n",
    "    for i in range(0, 4):\n",
    "        ver_array[j][i] = np.pi / 2\n",
    "        ver_array[j][i + 4] = np.pi / 2\n",
    "        j += 1\n",
    "\n",
    "    for n in range(num_images):\n",
    "        rng = algorithm_globals.random.integers(0, 2)\n",
    "        if rng == 0:\n",
    "            labels.append(-1)\n",
    "            random_image = algorithm_globals.random.integers(0, 6)\n",
    "            images.append(np.array(hor_array[random_image]))\n",
    "        elif rng == 1:\n",
    "            labels.append(1)\n",
    "            random_image = algorithm_globals.random.integers(0, 4)\n",
    "            images.append(np.array(ver_array[random_image]))\n",
    "\n",
    "        # Create noise\n",
    "        for i in range(8):\n",
    "            if images[-1][i] == 0:\n",
    "                images[-1][i] = algorithm_globals.random.uniform(0, np.pi / 4)\n",
    "    return images, labels"
   ]
  },
  {
   "cell_type": "code",
   "execution_count": 3,
   "id": "a65ddcc99c45163",
   "metadata": {
    "collapsed": false
   },
   "outputs": [
    {
     "data": {
      "image/png": "[encoded data removed]",
      "text/plain": [
       "<Figure size 1000x600 with 4 Axes>"
      ]
     },
     "metadata": {},
     "output_type": "display_data"
    }
   ],
   "source": [
    "\n",
    "# Generate the dataset\n",
    "# Goal: decide if the two yellow boxes are horizontal or vertical\n",
    "images, labels = generate_dataset(100)\n",
    "\n",
    "train_images, test_images, train_labels, test_labels = train_test_split(\n",
    "    images, labels, test_size=0.3\n",
    ")\n",
    "\n",
    "# Visualize the training images\n",
    "fig, ax = plt.subplots(2, 2, figsize=(10, 6), subplot_kw={\"xticks\": [], \"yticks\": []})\n",
    "for i in range(4):\n",
    "    ax[i // 2, i % 2].imshow(\n",
    "        train_images[i].reshape(2, 4),  # Change back to 2 by 4\n",
    "        aspect=\"equal\",\n",
    "    )\n",
    "plt.subplots_adjust(wspace=0.1, hspace=0.025)\n"
   ]
  },
  {
   "cell_type": "code",
   "execution_count": 4,
   "id": "9e2cd226c30c4091",
   "metadata": {
    "collapsed": false
   },
   "outputs": [],
   "source": [
    "# Set up the QML circuit\n",
    "feature_map = ZFeatureMap(8)\n",
    "phi_vec = ParameterVector('phi', length=8)\n",
    " \n",
    "ansatz = QuantumCircuit(8, name=\"Ansatz\")\n",
    "\n",
    "for i in range(0, 8):\n",
    "    ansatz.rx(phi_vec[i], i)\n",
    "for i in range(0, 7):\n",
    "    ansatz.cx(i, i+1)\n",
    " \n",
    "circuit = QuantumCircuit(8)\n",
    "circuit.compose(feature_map, range(8), inplace=True)\n",
    "circuit.compose(ansatz, range(8), inplace=True)\n",
    "\n",
    "# Decompose the ZFeatureMap into individual gates\n",
    "circuit = circuit.decompose(reps=3)"
   ]
  },
  {
   "cell_type": "code",
   "execution_count": 7,
   "id": "f6035a14504dab3f",
   "metadata": {
    "collapsed": false
   },
   "outputs": [
    {
     "name": "stdout",
     "output_type": "stream",
     "text": [
      "Set parameter TimeLimit to value 300\n",
      "Set parameter Cutoff to value 1e+100\n",
      "Gurobi Optimizer version 11.0.0 build v11.0.0rc2 (mac64[x86] - Darwin 23.0.0 23A344)\n",
      "\n",
      "CPU model: Intel(R) Core(TM) i5-1038NG7 CPU @ 2.00GHz\n",
      "Thread count: 4 physical cores, 8 logical processors, using up to 8 threads\n",
      "\n",
      "Optimize a model with 175 rows, 93 columns and 530 nonzeros\n",
      "Model fingerprint: 0xc2325c01\n",
      "Variable types: 0 continuous, 93 integer (70 binary)\n",
      "Coefficient statistics:\n",
      "  Matrix range     [1e-02, 2e+00]\n",
      "  Objective range  [1e+00, 1e+00]\n",
      "  Bounds range     [1e+00, 3e+01]\n",
      "  RHS range        [1e+00, 2e+00]\n",
      "Presolve removed 44 rows and 35 columns\n",
      "Presolve time: 0.00s\n",
      "Presolved: 131 rows, 58 columns, 399 nonzeros\n",
      "Variable types: 0 continuous, 58 integer (49 binary)\n",
      "Found heuristic solution: objective 2.0000000\n",
      "\n",
      "Root relaxation: objective 2.857143e-01, 36 iterations, 0.00 seconds (0.00 work units)\n",
      "\n",
      "    Nodes    |    Current Node    |     Objective Bounds      |     Work\n",
      " Expl Unexpl |  Obj  Depth IntInf | Incumbent    BestBd   Gap | It/Node Time\n",
      "\n",
      "     0     0    0.28571    0   33    2.00000    0.28571  85.7%     -    0s\n",
      "H    0     0                       1.0000000    0.28571  71.4%     -    0s\n",
      "     0     0    0.28571    0   33    1.00000    0.28571  71.4%     -    0s\n",
      "\n",
      "Explored 1 nodes (36 simplex iterations) in 0.03 seconds (0.00 work units)\n",
      "Thread count was 8 (of 8 available processors)\n",
      "\n",
      "Solution count 2: 1 2 \n",
      "\n",
      "Optimal solution found (tolerance 1.00e-04)\n",
      "Best objective 1.000000000000e+00, best bound 1.000000000000e+00, gap 0.0000%\n",
      "MIP MODEL CUT EDGES:  [('q[5]1', 'q[6]0')]\n"
     ]
    }
   ],
   "source": [
    "observable = SparsePauliOp.from_list([(\"Z\" + \"I\" * 7, 1)])\n",
    "\n",
    "\n",
    "# Set up the estimator QNN\n",
    "qnn = CutEstimatorQNN(\n",
    "    circuit=circuit,\n",
    "    observables=observable,\n",
    "    input_params=feature_map.parameters,\n",
    "    weight_params=ansatz.parameters,\n",
    ")\n",
    "\n",
    "def callback_graph(weights, obj_func_eval):\n",
    "    clear_output(wait=True)\n",
    "    objective_func_vals.append(obj_func_eval)\n",
    "    plt.title(\"Objective function value against iteration\")\n",
    "    plt.xlabel(\"Iteration\")\n",
    "    plt.ylabel(\"Objective function value\")\n",
    "    plt.plot(range(len(objective_func_vals)), objective_func_vals)\n",
    "    plt.show()\n",
    "\n",
    "classifier = NeuralNetworkClassifier(\n",
    "    qnn,\n",
    "    optimizer=COBYLA(maxiter=1),  # Set max iterations here\n",
    "    callback=callback_graph,\n",
    "    initial_point=np.zeros([8,]),  # Must equal number of parameters\n",
    ")"
   ]
  },
  {
   "cell_type": "code",
   "execution_count": 8,
   "id": "9498456362e69858",
   "metadata": {
    "collapsed": false
   },
   "outputs": [
    {
     "data": {
      "image/png": "[encoded data removed]",
      "text/plain": [
       "<Figure size 640x480 with 1 Axes>"
      ]
     },
     "metadata": {},
     "output_type": "display_data"
    },
    {
     "name": "stdout",
     "output_type": "stream",
     "text": [
      "Accuracy from the train data : 58.57%\n"
     ]
    }
   ],
   "source": [
    "\n",
    "objective_func_vals = []\n",
    "\n",
    "x = np.asarray(train_images)\n",
    "y = np.asarray(train_labels)\n",
    "classifier.fit(x, y)\n",
    "\n",
    "# score classifier\n",
    "print(f\"Accuracy from the train data : {np.round(100 * classifier.score(x, y), 2)}%\")\n"
   ]
  }
 ],
 "metadata": {
  "kernelspec": {
   "display_name": "Python 3",
   "language": "python",
   "name": "python3"
  },
  "language_info": {
   "codemirror_mode": {
    "name": "ipython",
    "version": 3
   },
   "file_extension": ".py",
   "mimetype": "text/x-python",
   "name": "python",
   "nbconvert_exporter": "python",
   "pygments_lexer": "ipython3",
   "version": "3.9.17"
  }
 },
 "nbformat": 4,
 "nbformat_minor": 5
}
