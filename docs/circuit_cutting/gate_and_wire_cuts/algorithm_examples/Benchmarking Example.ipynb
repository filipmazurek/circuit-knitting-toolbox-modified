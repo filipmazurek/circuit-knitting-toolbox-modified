{
 "cells": [
  {
   "cell_type": "code",
   "execution_count": 51,
   "id": "dc496cc8",
   "metadata": {},
   "outputs": [],
   "source": [
    "'''\n",
    "For QFT, SPM, ADD, QAOA:\n",
    "Do circuit sizes in Table 1 of paper\n",
    "If possible, push for larger\n",
    "Collect: \n",
    "# subcircuits\n",
    "# wire cuts\n",
    "# gate cuts\n",
    "depth of pre-cut circuit\n",
    "depth of subcircuits\n",
    "time to find optimal solution\n",
    "time to reconstruct in postprocessing step\n",
    "Error\n",
    "Relative error\n",
    "'''\n",
    "\n",
    "from qiskit.circuit import QuantumCircuit\n",
    "from circuit_knitting.cutting.gate_and_wire_cutting.frontend import cut_wires_and_gates_to_subcircuits\n",
    "from circuit_knitting.cutting.gate_and_wire_cutting.frontend import execute_simulation\n",
    "from circuit_knitting.cutting.cutting_reconstruction import reconstruct_expectation_values\n",
    "from circuit_knitting.cutting.gate_and_wire_cutting.frontend import exact_observables\n",
    "from circuit_knitting.cutting.gate_and_wire_cutting.frontend import compare_results\n",
    "import time\n",
    "\n",
    "def benchmark(circuit: QuantumCircuit, observables: list[str], get_errors=False):\n",
    "    # Cut the circuits\n",
    "    opt_s = time.time()\n",
    "    subcircuits, subobservables, wire_cuts, gate_cuts = cut_wires_and_gates_to_subcircuits(\n",
    "        circuit=circuit,\n",
    "        observables=observables,\n",
    "        method='automatic',\n",
    "        max_subcircuit_width=2,\n",
    "        max_cuts=4,\n",
    "        num_subcircuits=[2],\n",
    "        model='gurobi'\n",
    "    )\n",
    "    opt_time = time.time() - opt_s\n",
    "    \n",
    "    # Execute the subcircuits\n",
    "    recon_s = time.time()\n",
    "    quasi_dists, coefficients = execute_simulation(subcircuits, subobservables)\n",
    "    simulation_expvals = reconstruct_expectation_values(quasi_dists, coefficients, subobservables)\n",
    "    recon_time = time.time() - recon_s\n",
    "    \n",
    "    ideal_expvals = exact_observables(circuit, observables)\n",
    "    \n",
    "    errors, rel_errors = compare_results(simulation_expvals, ideal_expvals)\n",
    "    \n",
    "    return len(subcircuits), wire_cuts, gate_cuts, circuit.depth(), subcircuits, opt_time, recon_time, errors, rel_errors"
   ]
  },
  {
   "cell_type": "code",
   "execution_count": 55,
   "id": "38868554",
   "metadata": {},
   "outputs": [
    {
     "data": {
      "image/png": "[encoded data removed]",
      "text/plain": [
       "<Figure size 1207.22x367.889 with 1 Axes>"
      ]
     },
     "execution_count": 55,
     "metadata": {},
     "output_type": "execute_result"
    }
   ],
   "source": [
    "from qiskit.circuit.random import random_circuit\n",
    "q = 4\n",
    "\n",
    "circuit = random_circuit(q, 2, measure=False).decompose(reps=3)\n",
    "circuit.draw('mpl')"
   ]
  },
  {
   "cell_type": "code",
   "execution_count": 56,
   "id": "12be4013",
   "metadata": {},
   "outputs": [
    {
     "name": "stdout",
     "output_type": "stream",
     "text": [
      "Set parameter TimeLimit to value 300\n",
      "Set parameter Cutoff to value 1e+100\n",
      "Gurobi Optimizer version 11.0.0 build v11.0.0rc2 (linux64 - \"Ubuntu 22.04.2 LTS\")\n",
      "\n",
      "CPU model: 11th Gen Intel(R) Core(TM) i7-11850H @ 2.50GHz, instruction set [SSE2|AVX|AVX2|AVX512]\n",
      "Thread count: 8 physical cores, 16 logical processors, using up to 16 threads\n",
      "\n",
      "Optimize a model with 157 rows, 75 columns and 502 nonzeros\n",
      "Model fingerprint: 0x484759a1\n",
      "Variable types: 0 continuous, 75 integer (60 binary)\n",
      "Coefficient statistics:\n",
      "  Matrix range     [1e-02, 2e+00]\n",
      "  Objective range  [1e+00, 1e+00]\n",
      "  Bounds range     [1e+00, 1e+01]\n",
      "  RHS range        [1e+00, 2e+00]\n",
      "Presolve removed 157 rows and 75 columns\n",
      "Presolve time: 0.00s\n",
      "Presolve: All rows and columns removed\n",
      "\n",
      "Explored 0 nodes (0 simplex iterations) in 0.01 seconds (0.00 work units)\n",
      "Thread count was 1 (of 16 available processors)\n",
      "\n",
      "Solution count 1: 2 \n",
      "\n",
      "Optimal solution found (tolerance 1.00e-04)\n",
      "Best objective 2.000000000000e+00, best bound 2.000000000000e+00, gap 0.0000%\n",
      "MIP MODEL CUT EDGES:  [('q[2]2', 'q[1]2'), ('q[2]3', 'q[1]3')]\n",
      "MIP MODEL CUT WIRES:  []\n",
      "Simulated expectation values: [-0.10242677]\n",
      "Exact expectation values: [-0.10518946]\n",
      "Errors in estimation: [0.00276269]\n",
      "Relative errors in estimation: [-0.02626393]\n"
     ]
    }
   ],
   "source": [
    "n_subcircuits, wire_cuts, gate_cuts, circuit_depth, subcircuits, opt_time, recon_time, errors, rel_errors = benchmark(circuit, ['Z'*q])"
   ]
  },
  {
   "cell_type": "code",
   "execution_count": 57,
   "id": "6463289c",
   "metadata": {},
   "outputs": [
    {
     "name": "stdout",
     "output_type": "stream",
     "text": [
      "2 0 2 10\n",
      "8 0.033527374267578125 0.8490545749664307 [0.00276269] [-0.02626393]\n"
     ]
    }
   ],
   "source": [
    "print(n_subcircuits, wire_cuts, gate_cuts, circuit_depth)\n",
    "\n",
    "print(subcircuits[0].depth(), opt_time, recon_time, errors, rel_errors)"
   ]
  },
  {
   "cell_type": "code",
   "execution_count": 58,
   "id": "e3224c3f",
   "metadata": {},
   "outputs": [
    {
     "data": {
      "text/plain": [
       "[8, 8]"
      ]
     },
     "execution_count": 58,
     "metadata": {},
     "output_type": "execute_result"
    }
   ],
   "source": [
    "[c.depth() for c in subcircuits.values()]"
   ]
  },
  {
   "cell_type": "code",
   "execution_count": 59,
   "id": "9ef6a35e",
   "metadata": {},
   "outputs": [
    {
     "name": "stdout",
     "output_type": "stream",
     "text": [
      "\n",
      "Number of subcircuits: 2\n",
      "Number of wire cuts: 0\n",
      "Number of gate cuts: 2\n",
      "Original circuit depth: 10\n",
      "Subcircuits' depths:  [8, 8]\n",
      "Optimal solution time: 0.033527374267578125 seconds\n",
      "Reconstruction time: 0.8490545749664307 seconds\n",
      "Error: [0.00276269]\n",
      "Relative error: [-0.02626393]\n"
     ]
    }
   ],
   "source": [
    "print(f'''\n",
    "Number of subcircuits: {n_subcircuits}\n",
    "Number of wire cuts: {wire_cuts}\n",
    "Number of gate cuts: {gate_cuts}\n",
    "Original circuit depth: {circuit_depth}\n",
    "Subcircuits' depths:  {[c.depth() for c in subcircuits.values()]}\n",
    "Optimal solution time: {opt_time} seconds\n",
    "Reconstruction time: {recon_time} seconds\n",
    "Error: {errors}\n",
    "Relative error: {rel_errors}''')"
   ]
  },
  {
   "cell_type": "code",
   "execution_count": null,
   "id": "1fd8e9d3",
   "metadata": {},
   "outputs": [],
   "source": []
  }
 ],
 "metadata": {
  "kernelspec": {
   "display_name": "Python 3 (ipykernel)",
   "language": "python",
   "name": "python3"
  },
  "language_info": {
   "codemirror_mode": {
    "name": "ipython",
    "version": 3
   },
   "file_extension": ".py",
   "mimetype": "text/x-python",
   "name": "python",
   "nbconvert_exporter": "python",
   "pygments_lexer": "ipython3",
   "version": "3.10.6"
  }
 },
 "nbformat": 4,
 "nbformat_minor": 5
}
