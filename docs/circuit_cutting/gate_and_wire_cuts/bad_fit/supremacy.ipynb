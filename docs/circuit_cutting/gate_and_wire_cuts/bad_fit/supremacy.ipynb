{
 "cells": [
  {
   "cell_type": "code",
   "execution_count": 45,
   "id": "initial_id",
   "metadata": {
    "collapsed": true,
    "jupyter": {
     "outputs_hidden": true
    }
   },
   "outputs": [],
   "source": [
    "from qiskit.circuit.random import random_circuit\n",
    "\n",
    "from circuit_knitting.cutting.gate_and_wire_cutting.frontend import cut_wires_and_gates_to_subcircuits\n",
    "from circuit_knitting.cutting.gate_and_wire_cutting.frontend import execute_simulation\n",
    "from circuit_knitting.cutting.cutting_reconstruction import reconstruct_expectation_values\n",
    "from circuit_knitting.cutting.gate_and_wire_cutting.frontend import exact_observables\n",
    "from circuit_knitting.cutting.gate_and_wire_cutting.frontend import compare_results"
   ]
  },
  {
   "cell_type": "code",
   "execution_count": 46,
   "id": "5ad4b647734fcc4d",
   "metadata": {
    "collapsed": false,
    "jupyter": {
     "outputs_hidden": false
    }
   },
   "outputs": [
    {
     "data": {
      "text/plain": [
       "<qiskit.circuit.quantumcircuit.QuantumCircuit at 0x7fb5eecbf2e0>"
      ]
     },
     "execution_count": 46,
     "metadata": {},
     "output_type": "execute_result"
    }
   ],
   "source": [
    "circuit = random_circuit(8, 2, measure=False).decompose(reps=3)\n",
    "circuit"
   ]
  },
  {
   "cell_type": "code",
   "execution_count": 47,
   "id": "d24fd8e47e532a7b",
   "metadata": {
    "collapsed": false,
    "jupyter": {
     "outputs_hidden": false
    }
   },
   "outputs": [],
   "source": [
    "observables = ['ZIZIZIZZ']"
   ]
  },
  {
   "cell_type": "markdown",
   "id": "096ba408",
   "metadata": {},
   "source": [
    "If there is an error in the below cell, simply re-create the random circuit. An error suggests that not all qubits are entangled, and therefore do not even require cutting in the first place. "
   ]
  },
  {
   "cell_type": "code",
   "execution_count": 48,
   "id": "b42ad9b92b133800",
   "metadata": {
    "collapsed": false,
    "jupyter": {
     "outputs_hidden": false
    }
   },
   "outputs": [
    {
     "name": "stdout",
     "output_type": "stream",
     "text": [
      "Set parameter TimeLimit to value 300\n",
      "Set parameter Cutoff to value 1e+100\n",
      "Gurobi Optimizer version 11.0.0 build v11.0.0rc2 (mac64[x86] - Darwin 23.0.0 23A344)\n",
      "\n",
      "CPU model: Intel(R) Core(TM) i5-1038NG7 CPU @ 2.00GHz\n",
      "Thread count: 4 physical cores, 8 logical processors, using up to 8 threads\n",
      "\n",
      "Optimize a model with 409 rows, 183 columns and 1358 nonzeros\n",
      "Model fingerprint: 0x63db514f\n",
      "Variable types: 0 continuous, 183 integer (160 binary)\n",
      "Coefficient statistics:\n",
      "  Matrix range     [1e-02, 2e+00]\n",
      "  Objective range  [1e+00, 1e+00]\n",
      "  Bounds range     [1e+00, 2e+01]\n",
      "  RHS range        [1e+00, 2e+00]\n",
      "Presolve removed 70 rows and 55 columns\n",
      "Presolve time: 0.00s\n",
      "Presolved: 339 rows, 128 columns, 1093 nonzeros\n",
      "Variable types: 0 continuous, 128 integer (119 binary)\n",
      "Found heuristic solution: objective 3.0000000\n",
      "Found heuristic solution: objective 0.0000000\n",
      "\n",
      "Explored 0 nodes (0 simplex iterations) in 0.02 seconds (0.00 work units)\n",
      "Thread count was 8 (of 8 available processors)\n",
      "\n",
      "Solution count 2: 0 3 \n",
      "\n",
      "Optimal solution found (tolerance 1.00e-04)\n",
      "Best objective 0.000000000000e+00, best bound 0.000000000000e+00, gap 0.0000%\n",
      "MIP MODEL CUT EDGES:  []\n"
     ]
    }
   ],
   "source": [
    "subcircuits, subobservables = cut_wires_and_gates_to_subcircuits(\n",
    "    circuit=circuit,\n",
    "    observables=observables,\n",
    "    method='automatic',\n",
    "    max_subcircuit_width=5,\n",
    "    max_cuts=4,\n",
    "    num_subcircuits=[2],\n",
    "    model='gurobi'\n",
    ")"
   ]
  },
  {
   "cell_type": "code",
   "execution_count": 49,
   "id": "709ae8ed944a2aca",
   "metadata": {
    "collapsed": false,
    "jupyter": {
     "outputs_hidden": false
    }
   },
   "outputs": [
    {
     "data": {
      "text/plain": [
       "[1.0]"
      ]
     },
     "execution_count": 49,
     "metadata": {},
     "output_type": "execute_result"
    }
   ],
   "source": [
    "# Execute the subcircuits\n",
    "quasi_dists, coefficients = execute_simulation(subcircuits, subobservables)\n",
    "\n",
    "simulation_expvals = reconstruct_expectation_values(quasi_dists, coefficients, subobservables)\n",
    "simulation_expvals"
   ]
  },
  {
   "cell_type": "code",
   "execution_count": 50,
   "id": "6b263c2cc90fe9f9",
   "metadata": {
    "collapsed": false,
    "jupyter": {
     "outputs_hidden": false
    }
   },
   "outputs": [
    {
     "data": {
      "text/plain": [
       "array([1.])"
      ]
     },
     "execution_count": 50,
     "metadata": {},
     "output_type": "execute_result"
    }
   ],
   "source": [
    "# Create ideal results\n",
    "ideal_expvals = exact_observables(circuit, observables)\n",
    "ideal_expvals"
   ]
  },
  {
   "cell_type": "code",
   "execution_count": 51,
   "id": "a26d92697834f9f7",
   "metadata": {
    "collapsed": false,
    "jupyter": {
     "outputs_hidden": false
    }
   },
   "outputs": [
    {
     "name": "stdout",
     "output_type": "stream",
     "text": [
      "Simulated expectation values: [1.0]\n",
      "Exact expectation values: [1.0]\n",
      "Errors in estimation: [0.0]\n",
      "Relative errors in estimation: [0.0]\n"
     ]
    }
   ],
   "source": [
    "# Compare the error between results\n",
    "compare_results(simulation_expvals, ideal_expvals)"
   ]
  }
 ],
 "metadata": {
  "kernelspec": {
   "display_name": "Python 3 (ipykernel)",
   "language": "python",
   "name": "python3"
  },
  "language_info": {
   "codemirror_mode": {
    "name": "ipython",
    "version": 3
   },
   "file_extension": ".py",
   "mimetype": "text/x-python",
   "name": "python",
   "nbconvert_exporter": "python",
   "pygments_lexer": "ipython3",
   "version": "3.10.6"
  }
 },
 "nbformat": 4,
 "nbformat_minor": 5
}
