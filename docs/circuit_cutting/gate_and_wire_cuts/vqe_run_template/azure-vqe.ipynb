{
 "cells": [
  {
   "cell_type": "markdown",
   "id": "1642485cad23f835",
   "metadata": {
    "collapsed": false
   },
   "source": [
    "# VQE on Azure with Circuit Decomposition\n",
    "\n",
    "Using strategy with both circuit and gate decomposition with no classical communication. VQE on Azure using sessions."
   ]
  },
  {
   "cell_type": "markdown",
   "id": "79b952278ac90dc2",
   "metadata": {
    "collapsed": false
   },
   "source": [
    "Prerequisites: \n",
    "\n",
    "1. Create a new Conda environment\n",
    "```shell\n",
    "conda create --name azure-knitting python=3.9.17\n",
    "conda activate azure-knitting\n",
    "```\n",
    "\n",
    "1. Install everything needed to run the `modified-circuit-knitting-toolbox` locally: \n",
    "```shell\n",
    "cd modified-circuit-knitting-toolbox\n",
    "python -m pip install -e .\n",
    "python -m pip install 'docplex>=2.23.222' 'cplex>=22.1.0.0' 'gurobipy==11.0.0'\n",
    "```\n",
    "\n",
    "1. Install everything needed to run on Azure:\n",
    "```shell\n",
    "python -m pip install --upgrade 'azure-quantum[qiskit]==1.2.1'\n",
    "# python -m pip install qiskit-aer==0.12.1\n",
    "```\n",
    "\n",
    "### Documentation\n",
    "Running on Azure: [instructions](https://learn.microsoft.com/en-us/azure/quantum/quickstart-microsoft-qiskit?tabs=tabid-quantinuum&pivots=platform-local#prerequisites)\n"
   ]
  },
  {
   "cell_type": "markdown",
   "id": "7323efdab458de57",
   "metadata": {
    "collapsed": false
   },
   "source": [
    "First, enable communication with the instance"
   ]
  },
  {
   "cell_type": "code",
   "execution_count": 1,
   "id": "6dac5537769195c5",
   "metadata": {
    "ExecuteTime": {
     "end_time": "2024-05-13T19:29:18.456685Z",
     "start_time": "2024-05-13T19:29:18.427225Z"
    },
    "collapsed": false
   },
   "outputs": [],
   "source": [
    "# Prevent from overriding already run experiments\n",
    "# exit()"
   ]
  },
  {
   "cell_type": "code",
   "execution_count": 2,
   "id": "83862aeba5668619",
   "metadata": {
    "ExecuteTime": {
     "end_time": "2024-05-13T19:29:23.928422Z",
     "start_time": "2024-05-13T19:29:18.449388Z"
    },
    "collapsed": false
   },
   "outputs": [],
   "source": [
    "# All imports\n",
    "from azure.quantum import Workspace\n",
    "from azure.quantum.qiskit import AzureQuantumProvider\n",
    "from qiskit.circuit.library import EfficientSU2\n",
    "from qiskit.primitives import Estimator\n",
    "from qiskit.quantum_info import SparsePauliOp\n",
    "from qiskit_algorithms.optimizers import COBYLA\n",
    "\n",
    "from circuit_knitting.cutting.gate_and_wire_cutting.algorithms.cut_vqe import CutVQE"
   ]
  },
  {
   "cell_type": "code",
   "execution_count": 3,
   "id": "602e3000819bfa61",
   "metadata": {
    "ExecuteTime": {
     "end_time": "2024-05-13T19:29:23.958041Z",
     "start_time": "2024-05-13T19:29:23.933400Z"
    },
    "collapsed": false
   },
   "outputs": [],
   "source": [
    "# Set up the azure backend\n",
    "workspace = Workspace(\n",
    "    resource_id=\"/subscriptions/4ed1f7fd-7d9e-4c61-9fac-521649937e65/resourceGroups/Cutting/providers/Microsoft.Quantum/Workspaces/Cutting\",\n",
    "    location=\"eastus\")\n",
    "provider = AzureQuantumProvider(workspace)\n",
    "# Using syntax checker for free\n",
    "backend = provider.get_backend(\"quantinuum.sim.h1-1sc\")\n",
    "\n",
    "usable_backends = ['quantinuum.sim.h1-1sc', 'quantinuum.sim.h1-2sc', 'quantinuum.sim.h1-1e', 'quantinuum.sim.h1-2e',\n",
    "                   'quantinuum.qpu.h1-1', 'quantinuum.qpu.h1-2']"
   ]
  },
  {
   "cell_type": "markdown",
   "id": "b87e15d51ce301f0",
   "metadata": {
    "collapsed": false
   },
   "source": [
    "Problem: VQE for H2 molecule"
   ]
  },
  {
   "cell_type": "code",
   "execution_count": 4,
   "id": "545d6dcc70ce01fb",
   "metadata": {
    "ExecuteTime": {
     "start_time": "2024-05-13T19:29:23.942371Z"
    },
    "collapsed": false
   },
   "outputs": [],
   "source": [
    "# Set up the observables\n",
    "H2_op_list = [('II', -1.0523732457728596),\n",
    "              ('IZ', 0.39793742484317934),\n",
    "              ('XX', 0.18093119978423144),\n",
    "              ('ZI', -0.39793742484317934),\n",
    "              ('ZZ', -0.011280104256235268)]\n",
    "# Problem specification. Hamiltonian for H2 at 0.735A interatomic distance.\n",
    "H2_op = SparsePauliOp.from_list(H2_op_list)\n"
   ]
  },
  {
   "cell_type": "code",
   "execution_count": 5,
   "id": "ae24105c99c96bc7",
   "metadata": {
    "ExecuteTime": {
     "start_time": "2024-05-13T19:29:23.956098Z"
    },
    "collapsed": false
   },
   "outputs": [],
   "source": [
    "# Create ansatz and immediately decompoe to viualize gates\n",
    "ansatz = EfficientSU2(H2_op.num_qubits, reps=1)\n",
    "circuit = ansatz.decompose(reps=3)\n",
    "\n",
    "# Check how many parameters are in the ansatz\n",
    "num_params = circuit.num_parameters\n",
    "\n",
    "# Extract the pauli operators from the operations lit\n",
    "observables = H2_op.paulis"
   ]
  },
  {
   "cell_type": "code",
   "execution_count": 6,
   "id": "4b53b6170687d1d",
   "metadata": {
    "ExecuteTime": {
     "start_time": "2024-05-13T19:29:23.961569Z"
    },
    "collapsed": false
   },
   "outputs": [],
   "source": [
    "# Callback function to check VQE process as it runs\n",
    "def callback(eval_count, parameters, mean, std):\n",
    "    print(f\"Round num: {eval_count}, energy: {mean}, parameters: {parameters}\")"
   ]
  },
  {
   "cell_type": "code",
   "execution_count": 7,
   "id": "b82803493282362a",
   "metadata": {
    "ExecuteTime": {
     "end_time": "2024-05-13T19:29:23.989754Z",
     "start_time": "2024-05-13T19:29:23.964509Z"
    },
    "collapsed": false
   },
   "outputs": [
    {
     "name": "stdout",
     "output_type": "stream",
     "text": [
      "Restricted license - for non-production use only - expires 2025-11-24\n",
      "Set parameter TimeLimit to value 300\n",
      "Set parameter Cutoff to value 1e+100\n",
      "Gurobi Optimizer version 11.0.0 build v11.0.0rc2 (mac64[x86] - Darwin 23.0.0 23A344)\n",
      "\n",
      "CPU model: Intel(R) Core(TM) i5-1038NG7 CPU @ 2.00GHz\n",
      "Thread count: 4 physical cores, 8 logical processors, using up to 8 threads\n",
      "\n",
      "Optimize a model with 31 rows, 21 columns and 74 nonzeros\n",
      "Model fingerprint: 0xb35f4f20\n",
      "Variable types: 0 continuous, 21 integer (10 binary)\n",
      "Coefficient statistics:\n",
      "  Matrix range     [1e-02, 2e+00]\n",
      "  Objective range  [1e+00, 1e+00]\n",
      "  Bounds range     [1e+00, 2e+01]\n",
      "  RHS range        [1e+00, 2e+00]\n",
      "Found heuristic solution: objective 1.0000000\n",
      "Presolve removed 31 rows and 21 columns\n",
      "Presolve time: 0.01s\n",
      "Presolve: All rows and columns removed\n",
      "\n",
      "Explored 0 nodes (0 simplex iterations) in 0.04 seconds (0.00 work units)\n",
      "Thread count was 1 (of 8 available processors)\n",
      "\n",
      "Solution count 1: 1 \n",
      "\n",
      "Optimal solution found (tolerance 1.00e-04)\n",
      "Best objective 1.000000000000e+00, best bound 1.000000000000e+00, gap 0.0000%\n",
      "MIP MODEL CUT EDGES:  [('q[0]0', 'q[1]0')]\n"
     ]
    }
   ],
   "source": [
    "# Define  estimator and optimizer\n",
    "estimator = Estimator()\n",
    "optimizer = COBYLA(maxiter=2)  # 2 Iteration for testing\n",
    "\n",
    "# Set up VQE\n",
    "vqe = CutVQE(estimator, circuit, optimizer, observables=observables, shots=2 ** 12, max_subcircuit_width=1, max_cuts=9,\n",
    "             num_subcircuits=[2], model='gurobi', num_samples=1500, callback=callback, backend='azure',\n",
    "             azure_backend=backend)"
   ]
  },
  {
   "cell_type": "code",
   "execution_count": 8,
   "id": "b3184ab9f0505f22",
   "metadata": {
    "collapsed": false
   },
   "outputs": [
    {
     "name": "stdout",
     "output_type": "stream",
     "text": [
      ".............................................................Round num: 1, energy: -0.8827221502448636, parameters: [-2.03486155  3.36538273 -0.74285631 -3.65635018 -1.19720348  1.71924362\n",
      " -5.15073925 -4.90508936]\n",
      "............................................................Round num: 2, energy: -0.8827221502448636, parameters: [-1.03486155  3.36538273 -0.74285631 -3.65635018 -1.19720348  1.71924362\n",
      " -5.15073925 -4.90508936]\n"
     ]
    }
   ],
   "source": [
    "# Run VQE on Azure. Sessions are used for hybrid algorithms\n",
    "with backend.open_session(name=\"Qiskit Session\") as session:\n",
    "    result = vqe.compute_minimum_eigenvalue(H2_op)"
   ]
  },
  {
   "cell_type": "code",
   "execution_count": 9,
   "id": "e014d200f3818454",
   "metadata": {
    "collapsed": false
   },
   "outputs": [
    {
     "name": "stdout",
     "output_type": "stream",
     "text": [
      "{   'aux_operator_eigenvalues': None,\n",
      "    'aux_operators_evaluated': None,\n",
      "    'cost_function_evals': 2,\n",
      "    'eigenstate': None,\n",
      "    'eigenvalue': -0.8827221502448636,\n",
      "    'optimal_circuit': <qiskit.circuit.quantumcircuit.QuantumCircuit object at 0x7fa83671dd90>,\n",
      "    'optimal_parameters': {   ParameterVectorElement(θ[0]): -2.0348615502139484,\n",
      "                              ParameterVectorElement(θ[1]): 3.365382730702935,\n",
      "                              ParameterVectorElement(θ[2]): -0.7428563102551573,\n",
      "                              ParameterVectorElement(θ[3]): -3.6563501774975062,\n",
      "                              ParameterVectorElement(θ[4]): -1.1972034821200417,\n",
      "                              ParameterVectorElement(θ[5]): 1.7192436201277115,\n",
      "                              ParameterVectorElement(θ[6]): -5.150739245925381,\n",
      "                              ParameterVectorElement(θ[7]): -4.905089358850689},\n",
      "    'optimal_point': array([-2.03486155,  3.36538273, -0.74285631, -3.65635018, -1.19720348,\n",
      "        1.71924362, -5.15073925, -4.90508936]),\n",
      "    'optimal_value': -0.8827221502448636,\n",
      "    'optimizer_evals': None,\n",
      "    'optimizer_result': <qiskit_algorithms.optimizers.optimizer.OptimizerResult object at 0x7fa8363defd0>,\n",
      "    'optimizer_time': 224.72237086296082}\n"
     ]
    }
   ],
   "source": [
    "print(result)"
   ]
  }
 ],
 "metadata": {
  "kernelspec": {
   "display_name": "Python 3",
   "language": "python",
   "name": "python3"
  },
  "language_info": {
   "codemirror_mode": {
    "name": "ipython",
    "version": 3
   },
   "file_extension": ".py",
   "mimetype": "text/x-python",
   "name": "python",
   "nbconvert_exporter": "python",
   "pygments_lexer": "ipython3",
   "version": "3.9.17"
  }
 },
 "nbformat": 4,
 "nbformat_minor": 5
}
