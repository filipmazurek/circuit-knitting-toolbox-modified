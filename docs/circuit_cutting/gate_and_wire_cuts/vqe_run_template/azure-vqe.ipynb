{
 "cells": [
  {
   "cell_type": "markdown",
   "source": [
    "# VQE on Azure with Circuit Decomposition\n",
    "\n",
    "Using strategy with both circuit and gate decomposition with no classical communication. VQE on Azure using sessions."
   ],
   "metadata": {
    "collapsed": false
   },
   "id": "1642485cad23f835"
  },
  {
   "cell_type": "markdown",
   "source": [
    "Prerequisites: \n",
    "\n",
    "1. Create a new Conda environment\n",
    "```shell\n",
    "conda create --name azure-knitting python=3.9.17\n",
    "conda activate azure-knitting\n",
    "```\n",
    "\n",
    "1. Install everything needed to run the `modified-circuit-knitting-toolbox` locally: \n",
    "```shell\n",
    "cd modified-circuit-knitting-toolbox\n",
    "python -m pip install -e .\n",
    "python -m pip install 'docplex>=2.23.222' 'cplex>=22.1.0.0' 'gurobipy==11.0.0'\n",
    "```\n",
    "\n",
    "1. Install everything needed to run on Azure:\n",
    "```shell\n",
    "python -m pip install --upgrade 'azure-quantum[qiskit]==1.2.1'\n",
    "# python -m pip install qiskit-aer==0.12.1\n",
    "```\n",
    "\n",
    "### Documentation\n",
    "Running on Azure: [instructions](https://learn.microsoft.com/en-us/azure/quantum/quickstart-microsoft-qiskit?tabs=tabid-quantinuum&pivots=platform-local#prerequisites)\n"
   ],
   "metadata": {
    "collapsed": false
   },
   "id": "79b952278ac90dc2"
  },
  {
   "cell_type": "markdown",
   "source": [
    "First, enable communication with the instance"
   ],
   "metadata": {
    "collapsed": false
   },
   "id": "7323efdab458de57"
  },
  {
   "cell_type": "code",
   "outputs": [],
   "source": [
    "# Prevent from overriding already run experiments\n",
    "# exit()"
   ],
   "metadata": {
    "collapsed": false,
    "ExecuteTime": {
     "end_time": "2024-05-13T19:29:18.456685Z",
     "start_time": "2024-05-13T19:29:18.427225Z"
    }
   },
   "id": "6dac5537769195c5",
   "execution_count": 1
  },
  {
   "cell_type": "code",
   "outputs": [
    {
     "ename": "ImportError",
     "evalue": "Missing optional 'qiskit' dependencies. To install run: pip install azure-quantum[qiskit]",
     "output_type": "error",
     "traceback": [
      "\u001B[0;31m---------------------------------------------------------------------------\u001B[0m",
      "\u001B[0;31mModuleNotFoundError\u001B[0m                       Traceback (most recent call last)",
      "File \u001B[0;32m~/miniconda3/lib/python3.9/site-packages/azure/quantum/qiskit/backends/backend.py:30\u001B[0m\n\u001B[1;32m     29\u001B[0m \u001B[38;5;28;01mfrom\u001B[39;00m \u001B[38;5;21;01mqiskit\u001B[39;00m\u001B[38;5;21;01m.\u001B[39;00m\u001B[38;5;21;01mqobj\u001B[39;00m \u001B[38;5;28;01mimport\u001B[39;00m QasmQobj, PulseQobj\n\u001B[0;32m---> 30\u001B[0m \u001B[38;5;28;01mfrom\u001B[39;00m \u001B[38;5;21;01mpyqir\u001B[39;00m \u001B[38;5;28;01mimport\u001B[39;00m Module\n\u001B[1;32m     31\u001B[0m \u001B[38;5;28;01mfrom\u001B[39;00m \u001B[38;5;21;01mqiskit_qir\u001B[39;00m \u001B[38;5;28;01mimport\u001B[39;00m to_qir_module\n",
      "\u001B[0;31mModuleNotFoundError\u001B[0m: No module named 'pyqir'",
      "\nDuring handling of the above exception, another exception occurred:\n",
      "\u001B[0;31mImportError\u001B[0m                               Traceback (most recent call last)",
      "Cell \u001B[0;32mIn[2], line 3\u001B[0m\n\u001B[1;32m      1\u001B[0m \u001B[38;5;66;03m# All imports\u001B[39;00m\n\u001B[1;32m      2\u001B[0m \u001B[38;5;28;01mfrom\u001B[39;00m \u001B[38;5;21;01mazure\u001B[39;00m\u001B[38;5;21;01m.\u001B[39;00m\u001B[38;5;21;01mquantum\u001B[39;00m \u001B[38;5;28;01mimport\u001B[39;00m Workspace\n\u001B[0;32m----> 3\u001B[0m \u001B[38;5;28;01mfrom\u001B[39;00m \u001B[38;5;21;01mazure\u001B[39;00m\u001B[38;5;21;01m.\u001B[39;00m\u001B[38;5;21;01mquantum\u001B[39;00m\u001B[38;5;21;01m.\u001B[39;00m\u001B[38;5;21;01mqiskit\u001B[39;00m \u001B[38;5;28;01mimport\u001B[39;00m AzureQuantumProvider\n\u001B[1;32m      4\u001B[0m \u001B[38;5;28;01mfrom\u001B[39;00m \u001B[38;5;21;01mqiskit\u001B[39;00m\u001B[38;5;21;01m.\u001B[39;00m\u001B[38;5;21;01mcircuit\u001B[39;00m\u001B[38;5;21;01m.\u001B[39;00m\u001B[38;5;21;01mlibrary\u001B[39;00m \u001B[38;5;28;01mimport\u001B[39;00m EfficientSU2\n\u001B[1;32m      5\u001B[0m \u001B[38;5;28;01mfrom\u001B[39;00m \u001B[38;5;21;01mqiskit\u001B[39;00m\u001B[38;5;21;01m.\u001B[39;00m\u001B[38;5;21;01mprimitives\u001B[39;00m \u001B[38;5;28;01mimport\u001B[39;00m Estimator\n",
      "File \u001B[0;32m~/miniconda3/lib/python3.9/site-packages/azure/quantum/qiskit/__init__.py:8\u001B[0m\n\u001B[1;32m      1\u001B[0m \u001B[38;5;66;03m##\u001B[39;00m\n\u001B[1;32m      2\u001B[0m \u001B[38;5;66;03m# Copyright (c) Microsoft Corporation.\u001B[39;00m\n\u001B[1;32m      3\u001B[0m \u001B[38;5;66;03m# Licensed under the MIT License.\u001B[39;00m\n\u001B[1;32m      4\u001B[0m \u001B[38;5;66;03m##\u001B[39;00m\n\u001B[1;32m      6\u001B[0m \u001B[38;5;124;03m\"\"\"Azure Quantum Qiskit Provider\"\"\"\u001B[39;00m\n\u001B[0;32m----> 8\u001B[0m \u001B[38;5;28;01mfrom\u001B[39;00m \u001B[38;5;21;01m.\u001B[39;00m\u001B[38;5;21;01mprovider\u001B[39;00m \u001B[38;5;28;01mimport\u001B[39;00m AzureQuantumProvider\n\u001B[1;32m      9\u001B[0m \u001B[38;5;28;01mfrom\u001B[39;00m \u001B[38;5;21;01mazure\u001B[39;00m\u001B[38;5;21;01m.\u001B[39;00m\u001B[38;5;21;01mquantum\u001B[39;00m \u001B[38;5;28;01mimport\u001B[39;00m __version__\n\u001B[1;32m     11\u001B[0m __all__ \u001B[38;5;241m=\u001B[39m [\n\u001B[1;32m     12\u001B[0m     \u001B[38;5;124m\"\u001B[39m\u001B[38;5;124mAzureQuantumProvider\u001B[39m\u001B[38;5;124m\"\u001B[39m,\n\u001B[1;32m     13\u001B[0m     \u001B[38;5;124m\"\u001B[39m\u001B[38;5;124m__version__\u001B[39m\u001B[38;5;124m\"\u001B[39m\n\u001B[1;32m     14\u001B[0m ]\n",
      "File \u001B[0;32m~/miniconda3/lib/python3.9/site-packages/azure/quantum/qiskit/provider.py:23\u001B[0m\n\u001B[1;32m     17\u001B[0m \u001B[38;5;28;01mexcept\u001B[39;00m \u001B[38;5;167;01mImportError\u001B[39;00m:\n\u001B[1;32m     18\u001B[0m     \u001B[38;5;28;01mraise\u001B[39;00m \u001B[38;5;167;01mImportError\u001B[39;00m(\n\u001B[1;32m     19\u001B[0m         \u001B[38;5;124m\"\u001B[39m\u001B[38;5;124mMissing optional \u001B[39m\u001B[38;5;124m'\u001B[39m\u001B[38;5;124mqiskit\u001B[39m\u001B[38;5;124m'\u001B[39m\u001B[38;5;124m dependencies. \u001B[39m\u001B[38;5;130;01m\\\u001B[39;00m\n\u001B[1;32m     20\u001B[0m \u001B[38;5;124mTo install run: pip install azure-quantum[qiskit]\u001B[39m\u001B[38;5;124m\"\u001B[39m\n\u001B[1;32m     21\u001B[0m     )\n\u001B[0;32m---> 23\u001B[0m \u001B[38;5;28;01mfrom\u001B[39;00m \u001B[38;5;21;01mazure\u001B[39;00m\u001B[38;5;21;01m.\u001B[39;00m\u001B[38;5;21;01mquantum\u001B[39;00m\u001B[38;5;21;01m.\u001B[39;00m\u001B[38;5;21;01mqiskit\u001B[39;00m\u001B[38;5;21;01m.\u001B[39;00m\u001B[38;5;21;01mbackends\u001B[39;00m\u001B[38;5;21;01m.\u001B[39;00m\u001B[38;5;21;01mbackend\u001B[39;00m \u001B[38;5;28;01mimport\u001B[39;00m AzureBackendBase\n\u001B[1;32m     24\u001B[0m \u001B[38;5;28;01mfrom\u001B[39;00m \u001B[38;5;21;01mazure\u001B[39;00m\u001B[38;5;21;01m.\u001B[39;00m\u001B[38;5;21;01mquantum\u001B[39;00m\u001B[38;5;21;01m.\u001B[39;00m\u001B[38;5;21;01mqiskit\u001B[39;00m\u001B[38;5;21;01m.\u001B[39;00m\u001B[38;5;21;01mjob\u001B[39;00m \u001B[38;5;28;01mimport\u001B[39;00m AzureQuantumJob\n\u001B[1;32m     25\u001B[0m \u001B[38;5;28;01mfrom\u001B[39;00m \u001B[38;5;21;01mazure\u001B[39;00m\u001B[38;5;21;01m.\u001B[39;00m\u001B[38;5;21;01mquantum\u001B[39;00m\u001B[38;5;21;01m.\u001B[39;00m\u001B[38;5;21;01mqiskit\u001B[39;00m\u001B[38;5;21;01m.\u001B[39;00m\u001B[38;5;21;01mbackends\u001B[39;00m \u001B[38;5;28;01mimport\u001B[39;00m \u001B[38;5;241m*\u001B[39m\n",
      "File \u001B[0;32m~/miniconda3/lib/python3.9/site-packages/azure/quantum/qiskit/backends/__init__.py:8\u001B[0m\n\u001B[1;32m      1\u001B[0m \u001B[38;5;66;03m##\u001B[39;00m\n\u001B[1;32m      2\u001B[0m \u001B[38;5;66;03m# Copyright (c) Microsoft Corporation.\u001B[39;00m\n\u001B[1;32m      3\u001B[0m \u001B[38;5;66;03m# Licensed under the MIT License.\u001B[39;00m\n\u001B[1;32m      4\u001B[0m \u001B[38;5;66;03m##\u001B[39;00m\n\u001B[1;32m      6\u001B[0m \u001B[38;5;124;03m\"\"\"Defines set of backends for interacting with Azure Quantum\"\"\"\u001B[39;00m\n\u001B[0;32m----> 8\u001B[0m \u001B[38;5;28;01mfrom\u001B[39;00m \u001B[38;5;21;01mazure\u001B[39;00m\u001B[38;5;21;01m.\u001B[39;00m\u001B[38;5;21;01mquantum\u001B[39;00m\u001B[38;5;21;01m.\u001B[39;00m\u001B[38;5;21;01mqiskit\u001B[39;00m\u001B[38;5;21;01m.\u001B[39;00m\u001B[38;5;21;01mbackends\u001B[39;00m\u001B[38;5;21;01m.\u001B[39;00m\u001B[38;5;21;01mionq\u001B[39;00m \u001B[38;5;28;01mimport\u001B[39;00m (\n\u001B[1;32m      9\u001B[0m     IonQBackend,\n\u001B[1;32m     10\u001B[0m     IonQQPUBackend,\n\u001B[1;32m     11\u001B[0m     IonQAriaBackend,\n\u001B[1;32m     12\u001B[0m     IonQSimulatorBackend,\n\u001B[1;32m     13\u001B[0m     IonQQPUQirBackend,\n\u001B[1;32m     14\u001B[0m     IonQAriaQirBackend,\n\u001B[1;32m     15\u001B[0m     IonQForteBackend,\n\u001B[1;32m     16\u001B[0m     IonQForteQirBackend,\n\u001B[1;32m     17\u001B[0m     IonQSimulatorQirBackend,\n\u001B[1;32m     18\u001B[0m )\n\u001B[1;32m     20\u001B[0m \u001B[38;5;28;01mfrom\u001B[39;00m \u001B[38;5;21;01mazure\u001B[39;00m\u001B[38;5;21;01m.\u001B[39;00m\u001B[38;5;21;01mquantum\u001B[39;00m\u001B[38;5;21;01m.\u001B[39;00m\u001B[38;5;21;01mqiskit\u001B[39;00m\u001B[38;5;21;01m.\u001B[39;00m\u001B[38;5;21;01mbackends\u001B[39;00m\u001B[38;5;21;01m.\u001B[39;00m\u001B[38;5;21;01mquantinuum\u001B[39;00m \u001B[38;5;28;01mimport\u001B[39;00m (\n\u001B[1;32m     21\u001B[0m     QuantinuumBackend,\n\u001B[1;32m     22\u001B[0m     QuantinuumQPUBackend,\n\u001B[0;32m   (...)\u001B[0m\n\u001B[1;32m     27\u001B[0m     QuantinuumEmulatorQirBackend,\n\u001B[1;32m     28\u001B[0m )\n\u001B[1;32m     30\u001B[0m \u001B[38;5;28;01mfrom\u001B[39;00m \u001B[38;5;21;01mazure\u001B[39;00m\u001B[38;5;21;01m.\u001B[39;00m\u001B[38;5;21;01mquantum\u001B[39;00m\u001B[38;5;21;01m.\u001B[39;00m\u001B[38;5;21;01mqiskit\u001B[39;00m\u001B[38;5;21;01m.\u001B[39;00m\u001B[38;5;21;01mbackends\u001B[39;00m\u001B[38;5;21;01m.\u001B[39;00m\u001B[38;5;21;01mrigetti\u001B[39;00m \u001B[38;5;28;01mimport\u001B[39;00m (\n\u001B[1;32m     31\u001B[0m     RigettiBackend,\n\u001B[1;32m     32\u001B[0m     RigettiQPUBackend,\n\u001B[1;32m     33\u001B[0m     RigettiSimulatorBackend,\n\u001B[1;32m     34\u001B[0m )\n",
      "File \u001B[0;32m~/miniconda3/lib/python3.9/site-packages/azure/quantum/qiskit/backends/ionq.py:13\u001B[0m\n\u001B[1;32m      9\u001B[0m \u001B[38;5;28;01mfrom\u001B[39;00m \u001B[38;5;21;01mabc\u001B[39;00m \u001B[38;5;28;01mimport\u001B[39;00m abstractmethod\n\u001B[1;32m     11\u001B[0m \u001B[38;5;28;01mfrom\u001B[39;00m \u001B[38;5;21;01mqiskit\u001B[39;00m \u001B[38;5;28;01mimport\u001B[39;00m QuantumCircuit\n\u001B[0;32m---> 13\u001B[0m \u001B[38;5;28;01mfrom\u001B[39;00m \u001B[38;5;21;01m.\u001B[39;00m\u001B[38;5;21;01mbackend\u001B[39;00m \u001B[38;5;28;01mimport\u001B[39;00m (\n\u001B[1;32m     14\u001B[0m     AzureBackend, \n\u001B[1;32m     15\u001B[0m     AzureQirBackend, \n\u001B[1;32m     16\u001B[0m     _get_shots_or_deprecated_count_input_param\n\u001B[1;32m     17\u001B[0m )\n\u001B[1;32m     19\u001B[0m \u001B[38;5;28;01mfrom\u001B[39;00m \u001B[38;5;21;01mqiskit\u001B[39;00m\u001B[38;5;21;01m.\u001B[39;00m\u001B[38;5;21;01mproviders\u001B[39;00m\u001B[38;5;21;01m.\u001B[39;00m\u001B[38;5;21;01mmodels\u001B[39;00m \u001B[38;5;28;01mimport\u001B[39;00m BackendConfiguration\n\u001B[1;32m     20\u001B[0m \u001B[38;5;28;01mfrom\u001B[39;00m \u001B[38;5;21;01mqiskit\u001B[39;00m\u001B[38;5;21;01m.\u001B[39;00m\u001B[38;5;21;01mproviders\u001B[39;00m \u001B[38;5;28;01mimport\u001B[39;00m Options, Provider\n",
      "File \u001B[0;32m~/miniconda3/lib/python3.9/site-packages/azure/quantum/qiskit/backends/backend.py:34\u001B[0m\n\u001B[1;32m     31\u001B[0m     \u001B[38;5;28;01mfrom\u001B[39;00m \u001B[38;5;21;01mqiskit_qir\u001B[39;00m \u001B[38;5;28;01mimport\u001B[39;00m to_qir_module\n\u001B[1;32m     33\u001B[0m \u001B[38;5;28;01mexcept\u001B[39;00m \u001B[38;5;167;01mImportError\u001B[39;00m:\n\u001B[0;32m---> 34\u001B[0m     \u001B[38;5;28;01mraise\u001B[39;00m \u001B[38;5;167;01mImportError\u001B[39;00m(\n\u001B[1;32m     35\u001B[0m         \u001B[38;5;124m\"\u001B[39m\u001B[38;5;124mMissing optional \u001B[39m\u001B[38;5;124m'\u001B[39m\u001B[38;5;124mqiskit\u001B[39m\u001B[38;5;124m'\u001B[39m\u001B[38;5;124m dependencies. \u001B[39m\u001B[38;5;130;01m\\\u001B[39;00m\n\u001B[1;32m     36\u001B[0m \u001B[38;5;124mTo install run: pip install azure-quantum[qiskit]\u001B[39m\u001B[38;5;124m\"\u001B[39m\n\u001B[1;32m     37\u001B[0m     )\n\u001B[1;32m     40\u001B[0m \u001B[38;5;28;01mclass\u001B[39;00m \u001B[38;5;21;01mAzureBackendBase\u001B[39;00m(Backend, SessionHost):\n\u001B[1;32m     41\u001B[0m \n\u001B[1;32m     42\u001B[0m     \u001B[38;5;66;03m# Name of the provider's input parameter which specifies number of shots for a submitted job.\u001B[39;00m\n\u001B[1;32m     43\u001B[0m     \u001B[38;5;66;03m# If None, backend will not pass this input parameter. \u001B[39;00m\n\u001B[1;32m     44\u001B[0m     _SHOTS_PARAM_NAME \u001B[38;5;241m=\u001B[39m \u001B[38;5;28;01mNone\u001B[39;00m\n",
      "\u001B[0;31mImportError\u001B[0m: Missing optional 'qiskit' dependencies. To install run: pip install azure-quantum[qiskit]"
     ]
    }
   ],
   "source": [
    "# All imports\n",
    "from azure.quantum import Workspace\n",
    "from azure.quantum.qiskit import AzureQuantumProvider\n",
    "from qiskit.circuit.library import EfficientSU2\n",
    "from qiskit.primitives import Estimator\n",
    "from qiskit.quantum_info import SparsePauliOp\n",
    "from qiskit_algorithms.optimizers import COBYLA\n",
    "\n",
    "from circuit_knitting.cutting.gate_and_wire_cutting.algorithms.cut_vqe import CutVQE"
   ],
   "metadata": {
    "collapsed": false,
    "ExecuteTime": {
     "end_time": "2024-05-13T19:29:23.928422Z",
     "start_time": "2024-05-13T19:29:18.449388Z"
    }
   },
   "id": "83862aeba5668619",
   "execution_count": 2
  },
  {
   "cell_type": "code",
   "outputs": [],
   "source": [
    "# Set up the azure backend\n",
    "workspace = Workspace(\n",
    "    resource_id=\"/subscriptions/4ed1f7fd-7d9e-4c61-9fac-521649937e65/resourceGroups/Cutting/providers/Microsoft.Quantum/Workspaces/Cutting\",\n",
    "    location=\"eastus\")\n",
    "provider = AzureQuantumProvider(workspace)\n",
    "# Using syntax checker for free\n",
    "backend = provider.get_backend(\"quantinuum.sim.h1-1sc\")\n",
    "\n",
    "usable_backends = ['quantinuum.sim.h1-1sc', 'quantinuum.sim.h1-2sc', 'quantinuum.sim.h1-1e', 'quantinuum.sim.h1-2e',\n",
    "                   'quantinuum.qpu.h1-1', 'quantinuum.qpu.h1-2']"
   ],
   "metadata": {
    "collapsed": false,
    "ExecuteTime": {
     "end_time": "2024-05-13T19:29:23.958041Z",
     "start_time": "2024-05-13T19:29:23.933400Z"
    }
   },
   "id": "602e3000819bfa61"
  },
  {
   "cell_type": "markdown",
   "source": [
    "Problem: VQE for H2 molecule"
   ],
   "metadata": {
    "collapsed": false
   },
   "id": "b87e15d51ce301f0"
  },
  {
   "cell_type": "code",
   "outputs": [],
   "source": [
    "# Set up the observables\n",
    "H2_op_list = [('II', -1.0523732457728596),\n",
    "              ('IZ', 0.39793742484317934),\n",
    "              ('XX', 0.18093119978423144),\n",
    "              ('ZI', -0.39793742484317934),\n",
    "              ('ZZ', -0.011280104256235268)]\n",
    "# Problem specification. Hamiltonian for H2 at 0.735A interatomic distance.\n",
    "H2_op = SparsePauliOp.from_list(H2_op_list)\n"
   ],
   "metadata": {
    "collapsed": false,
    "ExecuteTime": {
     "start_time": "2024-05-13T19:29:23.942371Z"
    }
   },
   "id": "545d6dcc70ce01fb"
  },
  {
   "cell_type": "code",
   "outputs": [],
   "source": [
    "# Create ansatz and immediately decompoe to viualize gates\n",
    "ansatz = EfficientSU2(H2_op.num_qubits, reps=1)\n",
    "circuit = ansatz.decompose(reps=3)\n",
    "\n",
    "# Check how many parameters are in the ansatz\n",
    "num_params = circuit.num_parameters\n",
    "\n",
    "# Extract the pauli operators from the operations lit\n",
    "observables = H2_op.paulis"
   ],
   "metadata": {
    "collapsed": false,
    "ExecuteTime": {
     "start_time": "2024-05-13T19:29:23.956098Z"
    }
   },
   "id": "ae24105c99c96bc7"
  },
  {
   "cell_type": "code",
   "outputs": [],
   "source": [
    "# Callback function to check VQE process as it runs\n",
    "def callback(eval_count, parameters, mean, std):\n",
    "    print(f\"Round num: {eval_count}, energy: {mean}, parameters: {parameters}\")"
   ],
   "metadata": {
    "collapsed": false,
    "ExecuteTime": {
     "start_time": "2024-05-13T19:29:23.961569Z"
    }
   },
   "id": "4b53b6170687d1d"
  },
  {
   "cell_type": "code",
   "outputs": [],
   "source": [
    "# Define  estimator and optimizer\n",
    "estimator = Estimator()\n",
    "optimizer = COBYLA(maxiter=2)  # 2 Iteration for testing\n",
    "\n",
    "# Set up VQE\n",
    "vqe = CutVQE(estimator, circuit, optimizer, observables=observables, shots=2 ** 12, max_subcircuit_width=1, max_cuts=9,\n",
    "             num_subcircuits=[2], model='gurobi', num_samples=1500, callback=callback, backend='azure',\n",
    "             azure_backend=backend)"
   ],
   "metadata": {
    "collapsed": false,
    "ExecuteTime": {
     "end_time": "2024-05-13T19:29:23.989754Z",
     "start_time": "2024-05-13T19:29:23.964509Z"
    }
   },
   "id": "b82803493282362a"
  },
  {
   "cell_type": "code",
   "outputs": [],
   "source": [
    "# Run VQE on Azure. Sessions are used for hybrid algorithms\n",
    "with backend.open_session(name=\"Qiskit Session\") as session:\n",
    "    result = vqe.compute_minimum_eigenvalue(H2_op)"
   ],
   "metadata": {
    "collapsed": false
   },
   "id": "b3184ab9f0505f22"
  },
  {
   "cell_type": "code",
   "outputs": [],
   "source": [
    "print(result)"
   ],
   "metadata": {
    "collapsed": false
   },
   "id": "e014d200f3818454"
  }
 ],
 "metadata": {
  "kernelspec": {
   "display_name": "Python 3",
   "language": "python",
   "name": "python3"
  },
  "language_info": {
   "codemirror_mode": {
    "name": "ipython",
    "version": 2
   },
   "file_extension": ".py",
   "mimetype": "text/x-python",
   "name": "python",
   "nbconvert_exporter": "python",
   "pygments_lexer": "ipython2",
   "version": "2.7.6"
  }
 },
 "nbformat": 4,
 "nbformat_minor": 5
}
