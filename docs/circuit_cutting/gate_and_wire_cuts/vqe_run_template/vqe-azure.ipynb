{
 "cells": [
  {
   "cell_type": "code",
   "execution_count": 1,
   "id": "initial_id",
   "metadata": {},
   "outputs": [
    {
     "name": "stderr",
     "output_type": "stream",
     "text": [
      "/usr/lib/python3/dist-packages/pkg_resources/__init__.py:116: PkgResourcesDeprecationWarning: 1.1build1 is an invalid version and will not be supported in a future release\n",
      "  warnings.warn(\n"
     ]
    },
    {
     "data": {
      "text/plain": [
       "<qiskit.circuit.quantumcircuit.QuantumCircuit at 0x7fd9f17db310>"
      ]
     },
     "execution_count": 1,
     "metadata": {},
     "output_type": "execute_result"
    }
   ],
   "source": [
    "from qiskit.circuit.library import EfficientSU2\n",
    "from qiskit.primitives import Estimator\n",
    "from qiskit.quantum_info import SparsePauliOp\n",
    "from qiskit_algorithms.minimum_eigensolvers import VQE\n",
    "from qiskit_algorithms.optimizers import COBYLA\n",
    "\n",
    "from circuit_knitting.cutting.gate_and_wire_cutting.algorithms.cut_vqe import CutVQE\n",
    "\n",
    "\n",
    "# Use a list of H2 observables from the PySCF driver\n",
    "H2_op_list = [('II', -1.0523732457728596),\n",
    "             ('IZ', 0.39793742484317934),\n",
    "             ('XX', 0.18093119978423144),\n",
    "             ('ZI', -0.39793742484317934),\n",
    "             ('ZZ', -0.011280104256235268)]\n",
    "\n",
    "# Problem specification. Hamiltonian for H2 at 0.735A interatomic distance.\n",
    "H2_op = SparsePauliOp.from_list(H2_op_list)\n",
    "\n",
    "# Create an ansatz\n",
    "ansatz = EfficientSU2(H2_op.num_qubits, reps=1)\n",
    "\n",
    "# Decompose into individual gates\n",
    "circuit = ansatz.decompose(reps=3)\n",
    "\n",
    "circuit"
   ]
  },
  {
   "cell_type": "code",
   "execution_count": 3,
   "id": "30a7fd722d906f0b",
   "metadata": {},
   "outputs": [
    {
     "name": "stdout",
     "output_type": "stream",
     "text": [
      "Num parameters: 8\n",
      "Observables: ['II', 'IZ', 'XX', 'ZI', 'ZZ']\n"
     ]
    }
   ],
   "source": [
    "# See how many parameters are in our ansatz\n",
    "num_params = circuit.num_parameters\n",
    "print(f'Num parameters: {num_params}')\n",
    "\n",
    "# List out the observables\n",
    "observables = H2_op.paulis\n",
    "print(f'Observables: {observables}')"
   ]
  },
  {
   "cell_type": "code",
   "execution_count": 4,
   "id": "7cb89f6e",
   "metadata": {},
   "outputs": [],
   "source": [
    "# Set up the azure backend\n",
    "from azure.quantum import Workspace\n",
    "from azure.quantum.qiskit import AzureQuantumProvider\n",
    "\n",
    "#workspace = Workspace(\n",
    "#            resource_id = \"/subscriptions/4ed1f7fd-7d9e-4c61-9fac-521649937e65/resourceGroups/Cutting/providers/Microsoft.Quantum/Workspaces/Cutting\",\n",
    "#            location = \"eastus\")\n",
    "workspace = Workspace.from_connection_string(\"SubscriptionId=66c5a625-c800-4c9f-87e3-542d09f3ec6c;ResourceGroupName=Documentation;WorkspaceName=Accenture-Quantum-University;ApiKey=Q2AdKU9lwjIyFyHpU1S8qS7wiybCCZVXDiKSdlESE4ZJYM6c2BR_ycMvssxbVXot9_yHAw7pBvR9AZQUpz7uSQ;QuantumEndpoint=https://eastus.quantum.azure.com/;\")\n",
    "provider = AzureQuantumProvider(workspace)\n",
    "backend = provider.get_backend(\"quantinuum.sim.h1-1sc\")\n",
    "\n",
    "usable_backends = ['quantinuum.sim.h1-1sc', 'quantinuum.sim.h1-2sc', 'quantinuum.sim.h1-1e', 'quantinuum.sim.h1-2e',\n",
    "                   'quantinuum.qpu.h1-1', 'quantinuum.qpu.h1-2']\n"
   ]
  },
  {
   "cell_type": "code",
   "execution_count": 5,
   "id": "58a0be0bb419576c",
   "metadata": {},
   "outputs": [],
   "source": [
    "# VQE\n",
    "from qiskit_algorithms.minimum_eigensolvers import VQE, AdaptVQE\n",
    "from qiskit_algorithms.optimizers import SLSQP, COBYLA\n",
    "from qiskit.circuit.library import EvolvedOperatorAnsatz\n",
    "from qiskit.primitives import Estimator\n",
    "\n",
    "def callback(eval_count, parameters, mean, std):\n",
    "    print(f\"Round num: {eval_count}, energy: {mean}, parameters: {parameters}\")"
   ]
  },
  {
   "cell_type": "code",
   "execution_count": 6,
   "id": "67e0aee51d53af4",
   "metadata": {},
   "outputs": [],
   "source": [
    "# Define our estimator and optimizer\n",
    "estimator = Estimator()\n",
    "optimizer = COBYLA(maxiter=2)"
   ]
  },
  {
   "cell_type": "code",
   "execution_count": 7,
   "id": "2c294956",
   "metadata": {},
   "outputs": [
    {
     "name": "stdout",
     "output_type": "stream",
     "text": [
      "Restricted license - for non-production use only - expires 2024-10-28\n",
      "Set parameter TimeLimit to value 300\n",
      "Set parameter Cutoff to value 1e+100\n",
      "Gurobi Optimizer version 10.0.2 build v10.0.2rc0 (linux64)\n",
      "\n",
      "CPU model: 11th Gen Intel(R) Core(TM) i7-11850H @ 2.50GHz, instruction set [SSE2|AVX|AVX2|AVX512]\n",
      "Thread count: 8 physical cores, 16 logical processors, using up to 16 threads\n",
      "\n",
      "Optimize a model with 31 rows, 21 columns and 74 nonzeros\n",
      "Model fingerprint: 0x7d6ae72b\n",
      "Variable types: 0 continuous, 21 integer (10 binary)\n",
      "Coefficient statistics:\n",
      "  Matrix range     [1e-02, 2e+00]\n",
      "  Objective range  [1e+00, 1e+00]\n",
      "  Bounds range     [1e+00, 2e+01]\n",
      "  RHS range        [1e+00, 2e+00]\n",
      "Found heuristic solution: objective 1.0000000\n",
      "Presolve removed 31 rows and 21 columns\n",
      "Presolve time: 0.00s\n",
      "Presolve: All rows and columns removed\n",
      "\n",
      "Explored 0 nodes (0 simplex iterations) in 0.01 seconds (0.00 work units)\n",
      "Thread count was 1 (of 16 available processors)\n",
      "\n",
      "Solution count 1: 1 \n",
      "\n",
      "Optimal solution found (tolerance 1.00e-04)\n",
      "Best objective 1.000000000000e+00, best bound 1.000000000000e+00, gap 0.0000%\n",
      "MIP MODEL CUT EDGES:  [('q[0]0', 'q[1]0')]\n"
     ]
    }
   ],
   "source": [
    "from circuit_knitting.cutting.gate_and_wire_cutting.algorithms.cut_vqe import CutVQE\n",
    "# Run VQE and print our results\n",
    "vqe = CutVQE(estimator, circuit, optimizer, observables=observables, shots=2**12, max_subcircuit_width=1, max_cuts=9, num_subcircuits=[2], model='gurobi', num_samples=1500, callback=callback, backend='azure', azure_backend=backend)"
   ]
  },
  {
   "cell_type": "code",
   "execution_count": 8,
   "id": "8af8d68c",
   "metadata": {},
   "outputs": [
    {
     "name": "stderr",
     "output_type": "stream",
     "text": [
      "capi_return is NULL\n",
      "Call-back cb_calcfc_in__cobyla__user__routines failed.\n"
     ]
    },
    {
     "ename": "AlgorithmError",
     "evalue": "'The primitive job to evaluate the energy failed!'",
     "output_type": "error",
     "traceback": [
      "\u001b[0;31m---------------------------------------------------------------------------\u001b[0m",
      "\u001b[0;31mHttpResponseError\u001b[0m                         Traceback (most recent call last)",
      "File \u001b[0;32m/mnt/c/Users/victoria.perrone/Documents/Projects/circuit-knitting-toolbox-modified/circuit_knitting/cutting/gate_and_wire_cutting/algorithms/cut_vqe.py:354\u001b[0m, in \u001b[0;36mCutVQE._get_evaluate_energy.<locals>.evaluate_energy_with_cutting\u001b[0;34m(parameters)\u001b[0m\n\u001b[1;32m    353\u001b[0m \u001b[38;5;28;01melif\u001b[39;00m \u001b[38;5;28mself\u001b[39m\u001b[38;5;241m.\u001b[39mbackend \u001b[38;5;241m==\u001b[39m \u001b[38;5;124m'\u001b[39m\u001b[38;5;124mazure\u001b[39m\u001b[38;5;124m'\u001b[39m:\n\u001b[0;32m--> 354\u001b[0m     job_list, qpd_list, coefficients, subexperiments \u001b[38;5;241m=\u001b[39m \u001b[43mazure_queue_experiments\u001b[49m\u001b[43m(\u001b[49m\n\u001b[1;32m    355\u001b[0m \u001b[43m        \u001b[49m\u001b[43mcircuits\u001b[49m\u001b[38;5;241;43m=\u001b[39;49m\u001b[43msubcircuits\u001b[49m\u001b[43m,\u001b[49m\n\u001b[1;32m    356\u001b[0m \u001b[43m        \u001b[49m\u001b[43msubobservables\u001b[49m\u001b[38;5;241;43m=\u001b[39;49m\u001b[38;5;28;43mself\u001b[39;49m\u001b[38;5;241;43m.\u001b[39;49m\u001b[43msubobservables\u001b[49m\u001b[43m,\u001b[49m\n\u001b[1;32m    357\u001b[0m \u001b[43m        \u001b[49m\u001b[43mnum_samples\u001b[49m\u001b[38;5;241;43m=\u001b[39;49m\u001b[38;5;241;43m8\u001b[39;49m\u001b[43m,\u001b[49m\u001b[43m  \u001b[49m\u001b[38;5;66;43;03m# 8 unique samples to get some statistics\u001b[39;49;00m\n\u001b[1;32m    358\u001b[0m \u001b[43m        \u001b[49m\u001b[43mbackend\u001b[49m\u001b[38;5;241;43m=\u001b[39;49m\u001b[38;5;28;43mself\u001b[39;49m\u001b[38;5;241;43m.\u001b[39;49m\u001b[43mazure_backend\u001b[49m\u001b[43m,\u001b[49m\n\u001b[1;32m    359\u001b[0m \u001b[43m        \u001b[49m\u001b[43mshots\u001b[49m\u001b[38;5;241;43m=\u001b[39;49m\u001b[38;5;241;43m128\u001b[39;49m\u001b[43m  \u001b[49m\u001b[38;5;66;43;03m# Balance of cost and accuracy\u001b[39;49;00m\n\u001b[1;32m    360\u001b[0m \u001b[43m    \u001b[49m\u001b[43m)\u001b[49m\n\u001b[1;32m    361\u001b[0m     experiment_results \u001b[38;5;241m=\u001b[39m get_experiment_results_from_jobs(job_list, qpd_list, coefficients)\n",
      "File \u001b[0;32m/mnt/c/Users/victoria.perrone/Documents/Projects/circuit-knitting-toolbox-modified/circuit_knitting/cutting/gate_and_wire_cutting/evaluation.py:107\u001b[0m, in \u001b[0;36mazure_queue_experiments\u001b[0;34m(circuits, subobservables, num_samples, backend, shots)\u001b[0m\n\u001b[1;32m    106\u001b[0m num_partitions \u001b[38;5;241m=\u001b[39m \u001b[38;5;28mlen\u001b[39m(subexperiments[\u001b[38;5;241m0\u001b[39m])\n\u001b[0;32m--> 107\u001b[0m job_and_qpd_list_by_partition \u001b[38;5;241m=\u001b[39m [\n\u001b[1;32m    108\u001b[0m     _run_experiment_on_azure(\n\u001b[1;32m    109\u001b[0m         [sample[i] \u001b[38;5;28;01mfor\u001b[39;00m sample \u001b[38;5;129;01min\u001b[39;00m subexperiments],\n\u001b[1;32m    110\u001b[0m         quantinuum_api_backend,\n\u001b[1;32m    111\u001b[0m         shots\n\u001b[1;32m    112\u001b[0m     )\n\u001b[1;32m    113\u001b[0m     \u001b[38;5;28;01mfor\u001b[39;00m i \u001b[38;5;129;01min\u001b[39;00m \u001b[38;5;28mrange\u001b[39m(num_partitions)\n\u001b[1;32m    114\u001b[0m ]\n\u001b[1;32m    116\u001b[0m \u001b[38;5;66;03m# Reformat the jobs and qpd_bits to match the shape of the input before returning\u001b[39;00m\n",
      "File \u001b[0;32m/mnt/c/Users/victoria.perrone/Documents/Projects/circuit-knitting-toolbox-modified/circuit_knitting/cutting/gate_and_wire_cutting/evaluation.py:108\u001b[0m, in \u001b[0;36m<listcomp>\u001b[0;34m(.0)\u001b[0m\n\u001b[1;32m    106\u001b[0m num_partitions \u001b[38;5;241m=\u001b[39m \u001b[38;5;28mlen\u001b[39m(subexperiments[\u001b[38;5;241m0\u001b[39m])\n\u001b[1;32m    107\u001b[0m job_and_qpd_list_by_partition \u001b[38;5;241m=\u001b[39m [\n\u001b[0;32m--> 108\u001b[0m     \u001b[43m_run_experiment_on_azure\u001b[49m\u001b[43m(\u001b[49m\n\u001b[1;32m    109\u001b[0m \u001b[43m        \u001b[49m\u001b[43m[\u001b[49m\u001b[43msample\u001b[49m\u001b[43m[\u001b[49m\u001b[43mi\u001b[49m\u001b[43m]\u001b[49m\u001b[43m \u001b[49m\u001b[38;5;28;43;01mfor\u001b[39;49;00m\u001b[43m \u001b[49m\u001b[43msample\u001b[49m\u001b[43m \u001b[49m\u001b[38;5;129;43;01min\u001b[39;49;00m\u001b[43m \u001b[49m\u001b[43msubexperiments\u001b[49m\u001b[43m]\u001b[49m\u001b[43m,\u001b[49m\n\u001b[1;32m    110\u001b[0m \u001b[43m        \u001b[49m\u001b[43mquantinuum_api_backend\u001b[49m\u001b[43m,\u001b[49m\n\u001b[1;32m    111\u001b[0m \u001b[43m        \u001b[49m\u001b[43mshots\u001b[49m\n\u001b[1;32m    112\u001b[0m \u001b[43m    \u001b[49m\u001b[43m)\u001b[49m\n\u001b[1;32m    113\u001b[0m     \u001b[38;5;28;01mfor\u001b[39;00m i \u001b[38;5;129;01min\u001b[39;00m \u001b[38;5;28mrange\u001b[39m(num_partitions)\n\u001b[1;32m    114\u001b[0m ]\n\u001b[1;32m    116\u001b[0m \u001b[38;5;66;03m# Reformat the jobs and qpd_bits to match the shape of the input before returning\u001b[39;00m\n",
      "File \u001b[0;32m/mnt/c/Users/victoria.perrone/Documents/Projects/circuit-knitting-toolbox-modified/circuit_knitting/cutting/gate_and_wire_cutting/evaluation.py:185\u001b[0m, in \u001b[0;36m_run_experiment_on_azure\u001b[0;34m(subexperiments, backend, shots)\u001b[0m\n\u001b[1;32m    183\u001b[0m \u001b[38;5;28;01mfor\u001b[39;00m circ \u001b[38;5;129;01min\u001b[39;00m experiments_flat:\n\u001b[1;32m    184\u001b[0m     \u001b[38;5;66;03m# Queues the job in Azure\u001b[39;00m\n\u001b[0;32m--> 185\u001b[0m     job \u001b[38;5;241m=\u001b[39m \u001b[43mbackend\u001b[49m\u001b[38;5;241;43m.\u001b[39;49m\u001b[43mrun\u001b[49m\u001b[43m(\u001b[49m\u001b[43mcirc\u001b[49m\u001b[43m,\u001b[49m\u001b[43m \u001b[49m\u001b[43mshots\u001b[49m\u001b[38;5;241;43m=\u001b[39;49m\u001b[43mshots\u001b[49m\u001b[43m)\u001b[49m\n\u001b[1;32m    186\u001b[0m     jobs_flat\u001b[38;5;241m.\u001b[39mappend(job)\n",
      "File \u001b[0;32m~/.local/lib/python3.10/site-packages/azure/quantum/qiskit/backends/backend.py:495\u001b[0m, in \u001b[0;36mAzureBackend.run\u001b[0;34m(self, run_input, shots, **options)\u001b[0m\n\u001b[1;32m    493\u001b[0m input_data \u001b[38;5;241m=\u001b[39m \u001b[38;5;28mself\u001b[39m\u001b[38;5;241m.\u001b[39m_translate_input(circuit)\n\u001b[0;32m--> 495\u001b[0m job \u001b[38;5;241m=\u001b[39m \u001b[38;5;28;43msuper\u001b[39;49m\u001b[43m(\u001b[49m\u001b[43m)\u001b[49m\u001b[38;5;241;43m.\u001b[39;49m\u001b[43m_run\u001b[49m\u001b[43m(\u001b[49m\u001b[43mjob_name\u001b[49m\u001b[43m,\u001b[49m\u001b[43m \u001b[49m\u001b[43minput_data\u001b[49m\u001b[43m,\u001b[49m\u001b[43m \u001b[49m\u001b[43minput_params\u001b[49m\u001b[43m,\u001b[49m\u001b[43m \u001b[49m\u001b[43mmetadata\u001b[49m\u001b[43m,\u001b[49m\u001b[43m \u001b[49m\u001b[38;5;241;43m*\u001b[39;49m\u001b[38;5;241;43m*\u001b[39;49m\u001b[43moptions\u001b[49m\u001b[43m)\u001b[49m\n\u001b[1;32m    497\u001b[0m shots_count \u001b[38;5;241m=\u001b[39m \u001b[38;5;28;01mNone\u001b[39;00m\n",
      "File \u001b[0;32m~/.local/lib/python3.10/site-packages/azure/quantum/qiskit/backends/backend.py:211\u001b[0m, in \u001b[0;36mAzureBackendBase._run\u001b[0;34m(self, job_name, input_data, input_params, metadata, **options)\u001b[0m\n\u001b[1;32m    209\u001b[0m     \u001b[38;5;28;01mraise\u001b[39;00m \u001b[38;5;167;01mValueError\u001b[39;00m(message)\n\u001b[0;32m--> 211\u001b[0m job \u001b[38;5;241m=\u001b[39m \u001b[43mAzureQuantumJob\u001b[49m\u001b[43m(\u001b[49m\n\u001b[1;32m    212\u001b[0m \u001b[43m    \u001b[49m\u001b[43mbackend\u001b[49m\u001b[38;5;241;43m=\u001b[39;49m\u001b[38;5;28;43mself\u001b[39;49m\u001b[43m,\u001b[49m\n\u001b[1;32m    213\u001b[0m \u001b[43m    \u001b[49m\u001b[43mtarget\u001b[49m\u001b[38;5;241;43m=\u001b[39;49m\u001b[38;5;28;43mself\u001b[39;49m\u001b[38;5;241;43m.\u001b[39;49m\u001b[43mname\u001b[49m\u001b[43m(\u001b[49m\u001b[43m)\u001b[49m\u001b[43m,\u001b[49m\n\u001b[1;32m    214\u001b[0m \u001b[43m    \u001b[49m\u001b[43mname\u001b[49m\u001b[38;5;241;43m=\u001b[39;49m\u001b[43mjob_name\u001b[49m\u001b[43m,\u001b[49m\n\u001b[1;32m    215\u001b[0m \u001b[43m    \u001b[49m\u001b[43minput_data\u001b[49m\u001b[38;5;241;43m=\u001b[39;49m\u001b[43minput_data\u001b[49m\u001b[43m,\u001b[49m\n\u001b[1;32m    216\u001b[0m \u001b[43m    \u001b[49m\u001b[43mblob_name\u001b[49m\u001b[38;5;241;43m=\u001b[39;49m\u001b[43mblob_name\u001b[49m\u001b[43m,\u001b[49m\n\u001b[1;32m    217\u001b[0m \u001b[43m    \u001b[49m\u001b[43mcontent_type\u001b[49m\u001b[38;5;241;43m=\u001b[39;49m\u001b[43mcontent_type\u001b[49m\u001b[43m,\u001b[49m\n\u001b[1;32m    218\u001b[0m \u001b[43m    \u001b[49m\u001b[43mprovider_id\u001b[49m\u001b[38;5;241;43m=\u001b[39;49m\u001b[43mprovider_id\u001b[49m\u001b[43m,\u001b[49m\n\u001b[1;32m    219\u001b[0m \u001b[43m    \u001b[49m\u001b[43minput_data_format\u001b[49m\u001b[38;5;241;43m=\u001b[39;49m\u001b[43minput_data_format\u001b[49m\u001b[43m,\u001b[49m\n\u001b[1;32m    220\u001b[0m \u001b[43m    \u001b[49m\u001b[43moutput_data_format\u001b[49m\u001b[38;5;241;43m=\u001b[39;49m\u001b[43moutput_data_format\u001b[49m\u001b[43m,\u001b[49m\n\u001b[1;32m    221\u001b[0m \u001b[43m    \u001b[49m\u001b[43minput_params\u001b[49m\u001b[38;5;241;43m=\u001b[39;49m\u001b[43minput_params\u001b[49m\u001b[43m,\u001b[49m\n\u001b[1;32m    222\u001b[0m \u001b[43m    \u001b[49m\u001b[43mmetadata\u001b[49m\u001b[38;5;241;43m=\u001b[39;49m\u001b[43mmetadata\u001b[49m\u001b[43m,\u001b[49m\n\u001b[1;32m    223\u001b[0m \u001b[43m    \u001b[49m\u001b[38;5;241;43m*\u001b[39;49m\u001b[38;5;241;43m*\u001b[39;49m\u001b[43moptions\u001b[49m\u001b[43m,\u001b[49m\n\u001b[1;32m    224\u001b[0m \u001b[43m\u001b[49m\u001b[43m)\u001b[49m\n\u001b[1;32m    226\u001b[0m \u001b[38;5;28;01mreturn\u001b[39;00m job\n",
      "File \u001b[0;32m~/.local/lib/python3.10/site-packages/azure/quantum/qiskit/job.py:54\u001b[0m, in \u001b[0;36mAzureQuantumJob.__init__\u001b[0;34m(self, backend, azure_job, **kwargs)\u001b[0m\n\u001b[1;32m     53\u001b[0m \u001b[38;5;28;01mif\u001b[39;00m azure_job \u001b[38;5;129;01mis\u001b[39;00m \u001b[38;5;28;01mNone\u001b[39;00m:\n\u001b[0;32m---> 54\u001b[0m     azure_job \u001b[38;5;241m=\u001b[39m \u001b[43mJob\u001b[49m\u001b[38;5;241;43m.\u001b[39;49m\u001b[43mfrom_input_data\u001b[49m\u001b[43m(\u001b[49m\n\u001b[1;32m     55\u001b[0m \u001b[43m        \u001b[49m\u001b[43mworkspace\u001b[49m\u001b[38;5;241;43m=\u001b[39;49m\u001b[43mbackend\u001b[49m\u001b[38;5;241;43m.\u001b[39;49m\u001b[43mprovider\u001b[49m\u001b[43m(\u001b[49m\u001b[43m)\u001b[49m\u001b[38;5;241;43m.\u001b[39;49m\u001b[43mget_workspace\u001b[49m\u001b[43m(\u001b[49m\u001b[43m)\u001b[49m\u001b[43m,\u001b[49m\n\u001b[1;32m     56\u001b[0m \u001b[43m        \u001b[49m\u001b[43msession_id\u001b[49m\u001b[38;5;241;43m=\u001b[39;49m\u001b[43mbackend\u001b[49m\u001b[38;5;241;43m.\u001b[39;49m\u001b[43mget_latest_session_id\u001b[49m\u001b[43m(\u001b[49m\u001b[43m)\u001b[49m\u001b[43m,\u001b[49m\n\u001b[1;32m     57\u001b[0m \u001b[43m        \u001b[49m\u001b[38;5;241;43m*\u001b[39;49m\u001b[38;5;241;43m*\u001b[39;49m\u001b[43mkwargs\u001b[49m\n\u001b[1;32m     58\u001b[0m \u001b[43m    \u001b[49m\u001b[43m)\u001b[49m\n\u001b[1;32m     60\u001b[0m \u001b[38;5;28mself\u001b[39m\u001b[38;5;241m.\u001b[39m_azure_job \u001b[38;5;241m=\u001b[39m azure_job\n",
      "File \u001b[0;32m~/.local/lib/python3.10/site-packages/azure/quantum/job/base_job.py:136\u001b[0m, in \u001b[0;36mBaseJob.from_input_data\u001b[0;34m(cls, workspace, name, target, input_data, content_type, blob_name, encoding, job_id, container_name, provider_id, input_data_format, output_data_format, input_params, session_id, **kwargs)\u001b[0m\n\u001b[1;32m    135\u001b[0m \u001b[38;5;66;03m# Create and submit job\u001b[39;00m\n\u001b[0;32m--> 136\u001b[0m \u001b[38;5;28;01mreturn\u001b[39;00m \u001b[38;5;28;43mcls\u001b[39;49m\u001b[38;5;241;43m.\u001b[39;49m\u001b[43mfrom_storage_uri\u001b[49m\u001b[43m(\u001b[49m\n\u001b[1;32m    137\u001b[0m \u001b[43m    \u001b[49m\u001b[43mworkspace\u001b[49m\u001b[38;5;241;43m=\u001b[39;49m\u001b[43mworkspace\u001b[49m\u001b[43m,\u001b[49m\n\u001b[1;32m    138\u001b[0m \u001b[43m    \u001b[49m\u001b[43mjob_id\u001b[49m\u001b[38;5;241;43m=\u001b[39;49m\u001b[43mjob_id\u001b[49m\u001b[43m,\u001b[49m\n\u001b[1;32m    139\u001b[0m \u001b[43m    \u001b[49m\u001b[43mtarget\u001b[49m\u001b[38;5;241;43m=\u001b[39;49m\u001b[43mtarget\u001b[49m\u001b[43m,\u001b[49m\n\u001b[1;32m    140\u001b[0m \u001b[43m    \u001b[49m\u001b[43minput_data_uri\u001b[49m\u001b[38;5;241;43m=\u001b[39;49m\u001b[43minput_data_uri\u001b[49m\u001b[43m,\u001b[49m\n\u001b[1;32m    141\u001b[0m \u001b[43m    \u001b[49m\u001b[43mcontainer_uri\u001b[49m\u001b[38;5;241;43m=\u001b[39;49m\u001b[43mcontainer_uri\u001b[49m\u001b[43m,\u001b[49m\n\u001b[1;32m    142\u001b[0m \u001b[43m    \u001b[49m\u001b[43mname\u001b[49m\u001b[38;5;241;43m=\u001b[39;49m\u001b[43mname\u001b[49m\u001b[43m,\u001b[49m\n\u001b[1;32m    143\u001b[0m \u001b[43m    \u001b[49m\u001b[43minput_data_format\u001b[49m\u001b[38;5;241;43m=\u001b[39;49m\u001b[43minput_data_format\u001b[49m\u001b[43m,\u001b[49m\n\u001b[1;32m    144\u001b[0m \u001b[43m    \u001b[49m\u001b[43moutput_data_format\u001b[49m\u001b[38;5;241;43m=\u001b[39;49m\u001b[43moutput_data_format\u001b[49m\u001b[43m,\u001b[49m\n\u001b[1;32m    145\u001b[0m \u001b[43m    \u001b[49m\u001b[43mprovider_id\u001b[49m\u001b[38;5;241;43m=\u001b[39;49m\u001b[43mprovider_id\u001b[49m\u001b[43m,\u001b[49m\n\u001b[1;32m    146\u001b[0m \u001b[43m    \u001b[49m\u001b[43minput_params\u001b[49m\u001b[38;5;241;43m=\u001b[39;49m\u001b[43minput_params\u001b[49m\u001b[43m,\u001b[49m\n\u001b[1;32m    147\u001b[0m \u001b[43m    \u001b[49m\u001b[43msession_id\u001b[49m\u001b[38;5;241;43m=\u001b[39;49m\u001b[43msession_id\u001b[49m\u001b[43m,\u001b[49m\n\u001b[1;32m    148\u001b[0m \u001b[43m    \u001b[49m\u001b[38;5;241;43m*\u001b[39;49m\u001b[38;5;241;43m*\u001b[39;49m\u001b[43mkwargs\u001b[49m\n\u001b[1;32m    149\u001b[0m \u001b[43m\u001b[49m\u001b[43m)\u001b[49m\n",
      "File \u001b[0;32m~/.local/lib/python3.10/site-packages/azure/quantum/job/base_job.py:229\u001b[0m, in \u001b[0;36mBaseJob.from_storage_uri\u001b[0;34m(cls, workspace, name, target, input_data_uri, provider_id, input_data_format, output_data_format, container_uri, job_id, input_params, submit_job, session_id, **kwargs)\u001b[0m\n\u001b[1;32m    228\u001b[0m     logger\u001b[38;5;241m.\u001b[39mdebug(\u001b[38;5;124mf\u001b[39m\u001b[38;5;124m\"\u001b[39m\u001b[38;5;124m==> submitting: \u001b[39m\u001b[38;5;132;01m{\u001b[39;00mjob\u001b[38;5;241m.\u001b[39mdetails\u001b[38;5;132;01m}\u001b[39;00m\u001b[38;5;124m\"\u001b[39m)\n\u001b[0;32m--> 229\u001b[0m     \u001b[43mjob\u001b[49m\u001b[38;5;241;43m.\u001b[39;49m\u001b[43msubmit\u001b[49m\u001b[43m(\u001b[49m\u001b[43m)\u001b[49m\n\u001b[1;32m    231\u001b[0m \u001b[38;5;28;01mreturn\u001b[39;00m job\n",
      "File \u001b[0;32m~/.local/lib/python3.10/site-packages/azure/quantum/job/job.py:52\u001b[0m, in \u001b[0;36mJob.submit\u001b[0;34m(self)\u001b[0m\n\u001b[1;32m     51\u001b[0m _log\u001b[38;5;241m.\u001b[39mdebug(\u001b[38;5;124mf\u001b[39m\u001b[38;5;124m\"\u001b[39m\u001b[38;5;124mSubmitting job with ID \u001b[39m\u001b[38;5;132;01m{\u001b[39;00m\u001b[38;5;28mself\u001b[39m\u001b[38;5;241m.\u001b[39mid\u001b[38;5;132;01m}\u001b[39;00m\u001b[38;5;124m\"\u001b[39m)\n\u001b[0;32m---> 52\u001b[0m job \u001b[38;5;241m=\u001b[39m \u001b[38;5;28;43mself\u001b[39;49m\u001b[38;5;241;43m.\u001b[39;49m\u001b[43mworkspace\u001b[49m\u001b[38;5;241;43m.\u001b[39;49m\u001b[43msubmit_job\u001b[49m\u001b[43m(\u001b[49m\u001b[38;5;28;43mself\u001b[39;49m\u001b[43m)\u001b[49m\n\u001b[1;32m     53\u001b[0m \u001b[38;5;28mself\u001b[39m\u001b[38;5;241m.\u001b[39mdetails \u001b[38;5;241m=\u001b[39m job\u001b[38;5;241m.\u001b[39mdetails\n",
      "File \u001b[0;32m~/.local/lib/python3.10/site-packages/azure/quantum/workspace.py:371\u001b[0m, in \u001b[0;36mWorkspace.submit_job\u001b[0;34m(self, job)\u001b[0m\n\u001b[1;32m    370\u001b[0m client \u001b[38;5;241m=\u001b[39m \u001b[38;5;28mself\u001b[39m\u001b[38;5;241m.\u001b[39m_get_jobs_client()\n\u001b[0;32m--> 371\u001b[0m details \u001b[38;5;241m=\u001b[39m \u001b[43mclient\u001b[49m\u001b[38;5;241;43m.\u001b[39;49m\u001b[43mcreate\u001b[49m\u001b[43m(\u001b[49m\n\u001b[1;32m    372\u001b[0m \u001b[43m    \u001b[49m\u001b[43mjob\u001b[49m\u001b[38;5;241;43m.\u001b[39;49m\u001b[43mdetails\u001b[49m\u001b[38;5;241;43m.\u001b[39;49m\u001b[43mid\u001b[49m\u001b[43m,\u001b[49m\u001b[43m \u001b[49m\u001b[43mjob\u001b[49m\u001b[38;5;241;43m.\u001b[39;49m\u001b[43mdetails\u001b[49m\n\u001b[1;32m    373\u001b[0m \u001b[43m\u001b[49m\u001b[43m)\u001b[49m\n\u001b[1;32m    374\u001b[0m \u001b[38;5;28;01mreturn\u001b[39;00m Job(\u001b[38;5;28mself\u001b[39m, details)\n",
      "File \u001b[0;32m~/.local/lib/python3.10/site-packages/azure/core/tracing/decorator.py:78\u001b[0m, in \u001b[0;36mdistributed_trace.<locals>.decorator.<locals>.wrapper_use_tracer\u001b[0;34m(*args, **kwargs)\u001b[0m\n\u001b[1;32m     77\u001b[0m \u001b[38;5;28;01mif\u001b[39;00m span_impl_type \u001b[38;5;129;01mis\u001b[39;00m \u001b[38;5;28;01mNone\u001b[39;00m:\n\u001b[0;32m---> 78\u001b[0m     \u001b[38;5;28;01mreturn\u001b[39;00m \u001b[43mfunc\u001b[49m\u001b[43m(\u001b[49m\u001b[38;5;241;43m*\u001b[39;49m\u001b[43margs\u001b[49m\u001b[43m,\u001b[49m\u001b[43m \u001b[49m\u001b[38;5;241;43m*\u001b[39;49m\u001b[38;5;241;43m*\u001b[39;49m\u001b[43mkwargs\u001b[49m\u001b[43m)\u001b[49m\n\u001b[1;32m     80\u001b[0m \u001b[38;5;66;03m# Merge span is parameter is set, but only if no explicit parent are passed\u001b[39;00m\n",
      "File \u001b[0;32m~/.local/lib/python3.10/site-packages/azure/quantum/_client/operations/_operations.py:771\u001b[0m, in \u001b[0;36mJobsOperations.create\u001b[0;34m(self, job_id, job, **kwargs)\u001b[0m\n\u001b[1;32m    770\u001b[0m     error \u001b[38;5;241m=\u001b[39m \u001b[38;5;28mself\u001b[39m\u001b[38;5;241m.\u001b[39m_deserialize\u001b[38;5;241m.\u001b[39mfailsafe_deserialize(_models\u001b[38;5;241m.\u001b[39mRestError, pipeline_response)\n\u001b[0;32m--> 771\u001b[0m     \u001b[38;5;28;01mraise\u001b[39;00m HttpResponseError(response\u001b[38;5;241m=\u001b[39mresponse, model\u001b[38;5;241m=\u001b[39merror)\n\u001b[1;32m    773\u001b[0m \u001b[38;5;28;01mif\u001b[39;00m response\u001b[38;5;241m.\u001b[39mstatus_code \u001b[38;5;241m==\u001b[39m \u001b[38;5;241m200\u001b[39m:\n",
      "\u001b[0;31mHttpResponseError\u001b[0m: (InvalidJobDefinition) Session is already in a terminal state. This may have been due to failures in prior jobs in the session.\nCode: InvalidJobDefinition\nMessage: Session is already in a terminal state. This may have been due to failures in prior jobs in the session.",
      "\nThe above exception was the direct cause of the following exception:\n",
      "\u001b[0;31mAlgorithmError\u001b[0m                            Traceback (most recent call last)",
      "Cell \u001b[0;32mIn[8], line 1\u001b[0m\n\u001b[0;32m----> 1\u001b[0m \u001b[38;5;28;01mwith\u001b[39;00m backend\u001b[38;5;241m.\u001b[39mopen_session(name\u001b[38;5;241m=\u001b[39m\u001b[38;5;124m\"\u001b[39m\u001b[38;5;124mQiskit Session\u001b[39m\u001b[38;5;124m\"\u001b[39m) \u001b[38;5;28;01mas\u001b[39;00m session:\n\u001b[1;32m      2\u001b[0m     result \u001b[38;5;241m=\u001b[39m vqe\u001b[38;5;241m.\u001b[39mcompute_minimum_eigenvalue(H2_op)\n\u001b[1;32m      4\u001b[0m \u001b[38;5;28mprint\u001b[39m(result)\n",
      "Cell \u001b[0;32mIn[8], line 2\u001b[0m\n\u001b[1;32m      1\u001b[0m \u001b[38;5;28;01mwith\u001b[39;00m backend\u001b[38;5;241m.\u001b[39mopen_session(name\u001b[38;5;241m=\u001b[39m\u001b[38;5;124m\"\u001b[39m\u001b[38;5;124mQiskit Session\u001b[39m\u001b[38;5;124m\"\u001b[39m) \u001b[38;5;28;01mas\u001b[39;00m session:\n\u001b[0;32m----> 2\u001b[0m     result \u001b[38;5;241m=\u001b[39m \u001b[43mvqe\u001b[49m\u001b[38;5;241;43m.\u001b[39;49m\u001b[43mcompute_minimum_eigenvalue\u001b[49m\u001b[43m(\u001b[49m\u001b[43mH2_op\u001b[49m\u001b[43m)\u001b[49m\n\u001b[1;32m      4\u001b[0m \u001b[38;5;28mprint\u001b[39m(result)\n",
      "File \u001b[0;32m/mnt/c/Users/victoria.perrone/Documents/Projects/circuit-knitting-toolbox-modified/circuit_knitting/cutting/gate_and_wire_cutting/algorithms/cut_vqe.py:244\u001b[0m, in \u001b[0;36mCutVQE.compute_minimum_eigenvalue\u001b[0;34m(self, operator, aux_operators)\u001b[0m\n\u001b[1;32m    239\u001b[0m \u001b[38;5;28;01melse\u001b[39;00m:\n\u001b[1;32m    240\u001b[0m     \u001b[38;5;66;03m# we always want to submit as many estimations per job as possible for minimal\u001b[39;00m\n\u001b[1;32m    241\u001b[0m     \u001b[38;5;66;03m# overhead on the hardware\u001b[39;00m\n\u001b[1;32m    242\u001b[0m     was_updated \u001b[38;5;241m=\u001b[39m _set_default_batchsize(\u001b[38;5;28mself\u001b[39m\u001b[38;5;241m.\u001b[39moptimizer)\n\u001b[0;32m--> 244\u001b[0m     optimizer_result \u001b[38;5;241m=\u001b[39m \u001b[38;5;28;43mself\u001b[39;49m\u001b[38;5;241;43m.\u001b[39;49m\u001b[43moptimizer\u001b[49m\u001b[38;5;241;43m.\u001b[39;49m\u001b[43mminimize\u001b[49m\u001b[43m(\u001b[49m\n\u001b[1;32m    245\u001b[0m \u001b[43m        \u001b[49m\u001b[43mfun\u001b[49m\u001b[38;5;241;43m=\u001b[39;49m\u001b[43mevaluate_energy\u001b[49m\u001b[43m,\u001b[49m\u001b[43m \u001b[49m\u001b[43mx0\u001b[49m\u001b[38;5;241;43m=\u001b[39;49m\u001b[43minitial_point\u001b[49m\u001b[43m,\u001b[49m\u001b[43m \u001b[49m\u001b[43mjac\u001b[49m\u001b[38;5;241;43m=\u001b[39;49m\u001b[43mevaluate_gradient\u001b[49m\u001b[43m,\u001b[49m\u001b[43m \u001b[49m\u001b[43mbounds\u001b[49m\u001b[38;5;241;43m=\u001b[39;49m\u001b[43mbounds\u001b[49m\n\u001b[1;32m    246\u001b[0m \u001b[43m    \u001b[49m\u001b[43m)\u001b[49m\n\u001b[1;32m    248\u001b[0m     \u001b[38;5;66;03m# reset to original value\u001b[39;00m\n\u001b[1;32m    249\u001b[0m     \u001b[38;5;28;01mif\u001b[39;00m was_updated:\n",
      "File \u001b[0;32m~/.local/lib/python3.10/site-packages/qiskit_algorithms/optimizers/scipy_optimizer.py:148\u001b[0m, in \u001b[0;36mSciPyOptimizer.minimize\u001b[0;34m(self, fun, x0, jac, bounds)\u001b[0m\n\u001b[1;32m    145\u001b[0m     swapped_deprecated_args \u001b[38;5;241m=\u001b[39m \u001b[38;5;28;01mTrue\u001b[39;00m\n\u001b[1;32m    146\u001b[0m     \u001b[38;5;28mself\u001b[39m\u001b[38;5;241m.\u001b[39m_options[\u001b[38;5;124m\"\u001b[39m\u001b[38;5;124mmaxfun\u001b[39m\u001b[38;5;124m\"\u001b[39m] \u001b[38;5;241m=\u001b[39m \u001b[38;5;28mself\u001b[39m\u001b[38;5;241m.\u001b[39m_options\u001b[38;5;241m.\u001b[39mpop(\u001b[38;5;124m\"\u001b[39m\u001b[38;5;124mmaxiter\u001b[39m\u001b[38;5;124m\"\u001b[39m)\n\u001b[0;32m--> 148\u001b[0m raw_result \u001b[38;5;241m=\u001b[39m \u001b[43mminimize\u001b[49m\u001b[43m(\u001b[49m\n\u001b[1;32m    149\u001b[0m \u001b[43m    \u001b[49m\u001b[43mfun\u001b[49m\u001b[38;5;241;43m=\u001b[39;49m\u001b[43mfun\u001b[49m\u001b[43m,\u001b[49m\n\u001b[1;32m    150\u001b[0m \u001b[43m    \u001b[49m\u001b[43mx0\u001b[49m\u001b[38;5;241;43m=\u001b[39;49m\u001b[43mx0\u001b[49m\u001b[43m,\u001b[49m\n\u001b[1;32m    151\u001b[0m \u001b[43m    \u001b[49m\u001b[43mmethod\u001b[49m\u001b[38;5;241;43m=\u001b[39;49m\u001b[38;5;28;43mself\u001b[39;49m\u001b[38;5;241;43m.\u001b[39;49m\u001b[43m_method\u001b[49m\u001b[43m,\u001b[49m\n\u001b[1;32m    152\u001b[0m \u001b[43m    \u001b[49m\u001b[43mjac\u001b[49m\u001b[38;5;241;43m=\u001b[39;49m\u001b[43mjac\u001b[49m\u001b[43m,\u001b[49m\n\u001b[1;32m    153\u001b[0m \u001b[43m    \u001b[49m\u001b[43mbounds\u001b[49m\u001b[38;5;241;43m=\u001b[39;49m\u001b[43mbounds\u001b[49m\u001b[43m,\u001b[49m\n\u001b[1;32m    154\u001b[0m \u001b[43m    \u001b[49m\u001b[43moptions\u001b[49m\u001b[38;5;241;43m=\u001b[39;49m\u001b[38;5;28;43mself\u001b[39;49m\u001b[38;5;241;43m.\u001b[39;49m\u001b[43m_options\u001b[49m\u001b[43m,\u001b[49m\n\u001b[1;32m    155\u001b[0m \u001b[43m    \u001b[49m\u001b[38;5;241;43m*\u001b[39;49m\u001b[38;5;241;43m*\u001b[39;49m\u001b[38;5;28;43mself\u001b[39;49m\u001b[38;5;241;43m.\u001b[39;49m\u001b[43m_kwargs\u001b[49m\u001b[43m,\u001b[49m\n\u001b[1;32m    156\u001b[0m \u001b[43m\u001b[49m\u001b[43m)\u001b[49m\n\u001b[1;32m    157\u001b[0m \u001b[38;5;28;01mif\u001b[39;00m swapped_deprecated_args:\n\u001b[1;32m    158\u001b[0m     \u001b[38;5;28mself\u001b[39m\u001b[38;5;241m.\u001b[39m_options[\u001b[38;5;124m\"\u001b[39m\u001b[38;5;124mmaxiter\u001b[39m\u001b[38;5;124m\"\u001b[39m] \u001b[38;5;241m=\u001b[39m \u001b[38;5;28mself\u001b[39m\u001b[38;5;241m.\u001b[39m_options\u001b[38;5;241m.\u001b[39mpop(\u001b[38;5;124m\"\u001b[39m\u001b[38;5;124mmaxfun\u001b[39m\u001b[38;5;124m\"\u001b[39m)\n",
      "File \u001b[0;32m~/.local/lib/python3.10/site-packages/scipy/optimize/_minimize.py:702\u001b[0m, in \u001b[0;36mminimize\u001b[0;34m(fun, x0, args, method, jac, hess, hessp, bounds, constraints, tol, callback, options)\u001b[0m\n\u001b[1;32m    699\u001b[0m     res \u001b[38;5;241m=\u001b[39m _minimize_tnc(fun, x0, args, jac, bounds, callback\u001b[38;5;241m=\u001b[39mcallback,\n\u001b[1;32m    700\u001b[0m                         \u001b[38;5;241m*\u001b[39m\u001b[38;5;241m*\u001b[39moptions)\n\u001b[1;32m    701\u001b[0m \u001b[38;5;28;01melif\u001b[39;00m meth \u001b[38;5;241m==\u001b[39m \u001b[38;5;124m'\u001b[39m\u001b[38;5;124mcobyla\u001b[39m\u001b[38;5;124m'\u001b[39m:\n\u001b[0;32m--> 702\u001b[0m     res \u001b[38;5;241m=\u001b[39m \u001b[43m_minimize_cobyla\u001b[49m\u001b[43m(\u001b[49m\u001b[43mfun\u001b[49m\u001b[43m,\u001b[49m\u001b[43m \u001b[49m\u001b[43mx0\u001b[49m\u001b[43m,\u001b[49m\u001b[43m \u001b[49m\u001b[43margs\u001b[49m\u001b[43m,\u001b[49m\u001b[43m \u001b[49m\u001b[43mconstraints\u001b[49m\u001b[43m,\u001b[49m\u001b[43m \u001b[49m\u001b[43mcallback\u001b[49m\u001b[38;5;241;43m=\u001b[39;49m\u001b[43mcallback\u001b[49m\u001b[43m,\u001b[49m\n\u001b[1;32m    703\u001b[0m \u001b[43m                            \u001b[49m\u001b[38;5;241;43m*\u001b[39;49m\u001b[38;5;241;43m*\u001b[39;49m\u001b[43moptions\u001b[49m\u001b[43m)\u001b[49m\n\u001b[1;32m    704\u001b[0m \u001b[38;5;28;01melif\u001b[39;00m meth \u001b[38;5;241m==\u001b[39m \u001b[38;5;124m'\u001b[39m\u001b[38;5;124mslsqp\u001b[39m\u001b[38;5;124m'\u001b[39m:\n\u001b[1;32m    705\u001b[0m     res \u001b[38;5;241m=\u001b[39m _minimize_slsqp(fun, x0, args, jac, bounds,\n\u001b[1;32m    706\u001b[0m                           constraints, callback\u001b[38;5;241m=\u001b[39mcallback, \u001b[38;5;241m*\u001b[39m\u001b[38;5;241m*\u001b[39moptions)\n",
      "File \u001b[0;32m~/.local/lib/python3.10/site-packages/scipy/optimize/_cobyla_py.py:34\u001b[0m, in \u001b[0;36msynchronized.<locals>.wrapper\u001b[0;34m(*args, **kwargs)\u001b[0m\n\u001b[1;32m     31\u001b[0m \u001b[38;5;129m@functools\u001b[39m\u001b[38;5;241m.\u001b[39mwraps(func)\n\u001b[1;32m     32\u001b[0m \u001b[38;5;28;01mdef\u001b[39;00m \u001b[38;5;21mwrapper\u001b[39m(\u001b[38;5;241m*\u001b[39margs, \u001b[38;5;241m*\u001b[39m\u001b[38;5;241m*\u001b[39mkwargs):\n\u001b[1;32m     33\u001b[0m     \u001b[38;5;28;01mwith\u001b[39;00m _module_lock:\n\u001b[0;32m---> 34\u001b[0m         \u001b[38;5;28;01mreturn\u001b[39;00m \u001b[43mfunc\u001b[49m\u001b[43m(\u001b[49m\u001b[38;5;241;43m*\u001b[39;49m\u001b[43margs\u001b[49m\u001b[43m,\u001b[49m\u001b[43m \u001b[49m\u001b[38;5;241;43m*\u001b[39;49m\u001b[38;5;241;43m*\u001b[39;49m\u001b[43mkwargs\u001b[49m\u001b[43m)\u001b[49m\n",
      "File \u001b[0;32m~/.local/lib/python3.10/site-packages/scipy/optimize/_cobyla_py.py:270\u001b[0m, in \u001b[0;36m_minimize_cobyla\u001b[0;34m(fun, x0, args, constraints, rhobeg, tol, maxiter, disp, catol, callback, **unknown_options)\u001b[0m\n\u001b[1;32m    267\u001b[0m         callback(np\u001b[38;5;241m.\u001b[39mcopy(x))\n\u001b[1;32m    269\u001b[0m info \u001b[38;5;241m=\u001b[39m np\u001b[38;5;241m.\u001b[39mzeros(\u001b[38;5;241m4\u001b[39m, np\u001b[38;5;241m.\u001b[39mfloat64)\n\u001b[0;32m--> 270\u001b[0m xopt, info \u001b[38;5;241m=\u001b[39m \u001b[43mcobyla\u001b[49m\u001b[38;5;241;43m.\u001b[39;49m\u001b[43mminimize\u001b[49m\u001b[43m(\u001b[49m\u001b[43mcalcfc\u001b[49m\u001b[43m,\u001b[49m\u001b[43m \u001b[49m\u001b[43mm\u001b[49m\u001b[38;5;241;43m=\u001b[39;49m\u001b[43mm\u001b[49m\u001b[43m,\u001b[49m\u001b[43m \u001b[49m\u001b[43mx\u001b[49m\u001b[38;5;241;43m=\u001b[39;49m\u001b[43mnp\u001b[49m\u001b[38;5;241;43m.\u001b[39;49m\u001b[43mcopy\u001b[49m\u001b[43m(\u001b[49m\u001b[43mx0\u001b[49m\u001b[43m)\u001b[49m\u001b[43m,\u001b[49m\u001b[43m \u001b[49m\u001b[43mrhobeg\u001b[49m\u001b[38;5;241;43m=\u001b[39;49m\u001b[43mrhobeg\u001b[49m\u001b[43m,\u001b[49m\n\u001b[1;32m    271\u001b[0m \u001b[43m                              \u001b[49m\u001b[43mrhoend\u001b[49m\u001b[38;5;241;43m=\u001b[39;49m\u001b[43mrhoend\u001b[49m\u001b[43m,\u001b[49m\u001b[43m \u001b[49m\u001b[43miprint\u001b[49m\u001b[38;5;241;43m=\u001b[39;49m\u001b[43miprint\u001b[49m\u001b[43m,\u001b[49m\u001b[43m \u001b[49m\u001b[43mmaxfun\u001b[49m\u001b[38;5;241;43m=\u001b[39;49m\u001b[43mmaxfun\u001b[49m\u001b[43m,\u001b[49m\n\u001b[1;32m    272\u001b[0m \u001b[43m                              \u001b[49m\u001b[43mdinfo\u001b[49m\u001b[38;5;241;43m=\u001b[39;49m\u001b[43minfo\u001b[49m\u001b[43m,\u001b[49m\u001b[43m \u001b[49m\u001b[43mcallback\u001b[49m\u001b[38;5;241;43m=\u001b[39;49m\u001b[43mwrapped_callback\u001b[49m\u001b[43m)\u001b[49m\n\u001b[1;32m    274\u001b[0m \u001b[38;5;28;01mif\u001b[39;00m info[\u001b[38;5;241m3\u001b[39m] \u001b[38;5;241m>\u001b[39m catol:\n\u001b[1;32m    275\u001b[0m     \u001b[38;5;66;03m# Check constraint violation\u001b[39;00m\n\u001b[1;32m    276\u001b[0m     info[\u001b[38;5;241m0\u001b[39m] \u001b[38;5;241m=\u001b[39m \u001b[38;5;241m4\u001b[39m\n",
      "File \u001b[0;32m~/.local/lib/python3.10/site-packages/scipy/optimize/_cobyla_py.py:258\u001b[0m, in \u001b[0;36m_minimize_cobyla.<locals>.calcfc\u001b[0;34m(x, con)\u001b[0m\n\u001b[1;32m    257\u001b[0m \u001b[38;5;28;01mdef\u001b[39;00m \u001b[38;5;21mcalcfc\u001b[39m(x, con):\n\u001b[0;32m--> 258\u001b[0m     f \u001b[38;5;241m=\u001b[39m \u001b[43mfun\u001b[49m\u001b[43m(\u001b[49m\u001b[43mnp\u001b[49m\u001b[38;5;241;43m.\u001b[39;49m\u001b[43mcopy\u001b[49m\u001b[43m(\u001b[49m\u001b[43mx\u001b[49m\u001b[43m)\u001b[49m\u001b[43m,\u001b[49m\u001b[43m \u001b[49m\u001b[38;5;241;43m*\u001b[39;49m\u001b[43margs\u001b[49m\u001b[43m)\u001b[49m\n\u001b[1;32m    259\u001b[0m     i \u001b[38;5;241m=\u001b[39m \u001b[38;5;241m0\u001b[39m\n\u001b[1;32m    260\u001b[0m     \u001b[38;5;28;01mfor\u001b[39;00m size, c \u001b[38;5;129;01min\u001b[39;00m izip(cons_lengths, constraints):\n",
      "File \u001b[0;32m/mnt/c/Users/victoria.perrone/Documents/Projects/circuit-knitting-toolbox-modified/circuit_knitting/cutting/gate_and_wire_cutting/algorithms/cut_vqe.py:365\u001b[0m, in \u001b[0;36mCutVQE._get_evaluate_energy.<locals>.evaluate_energy_with_cutting\u001b[0;34m(parameters)\u001b[0m\n\u001b[1;32m    362\u001b[0m         simulated_expvals \u001b[38;5;241m=\u001b[39m reconstruct_expectation_values(\u001b[38;5;241m*\u001b[39mexperiment_results, \u001b[38;5;28mself\u001b[39m\u001b[38;5;241m.\u001b[39msubobservables)\n\u001b[1;32m    364\u001b[0m \u001b[38;5;28;01mexcept\u001b[39;00m \u001b[38;5;167;01mException\u001b[39;00m \u001b[38;5;28;01mas\u001b[39;00m exc:\n\u001b[0;32m--> 365\u001b[0m     \u001b[38;5;28;01mraise\u001b[39;00m AlgorithmError(\u001b[38;5;124m\"\u001b[39m\u001b[38;5;124mThe primitive job to evaluate the energy failed!\u001b[39m\u001b[38;5;124m\"\u001b[39m) \u001b[38;5;28;01mfrom\u001b[39;00m \u001b[38;5;21;01mexc\u001b[39;00m\n\u001b[1;32m    367\u001b[0m energy \u001b[38;5;241m=\u001b[39m \u001b[38;5;241m0\u001b[39m\n\u001b[1;32m    369\u001b[0m \u001b[38;5;28;01mfor\u001b[39;00m i \u001b[38;5;129;01min\u001b[39;00m \u001b[38;5;28mrange\u001b[39m(\u001b[38;5;241m0\u001b[39m, \u001b[38;5;28mlen\u001b[39m(operator)):\n",
      "\u001b[0;31mAlgorithmError\u001b[0m: 'The primitive job to evaluate the energy failed!'"
     ]
    }
   ],
   "source": [
    "with backend.open_session(name=\"Qiskit Session\") as session:\n",
    "    result = vqe.compute_minimum_eigenvalue(H2_op)\n",
    "\n",
    "print(result)"
   ]
  },
  {
   "cell_type": "code",
   "execution_count": 9,
   "id": "5eab6227925a4e03",
   "metadata": {},
   "outputs": [
    {
     "name": "stdout",
     "output_type": "stream",
     "text": [
      "Round num: 1, energy: -1.240001384480213, parameters: [3.4885308263206483, -4.763005819690338, 6.018909689556745, 4.580231825361526, 5.3376202835626945, 5.503375091367159, 3.201331239688919, -3.165938018064964]\n",
      "Round num: 2, energy: -1.098690457040345, parameters: [4.488530826320648, -4.763005819690338, 6.018909689556745, 4.580231825361526, 5.3376202835626945, 5.503375091367159, 3.201331239688919, -3.165938018064964]\n",
      "Round num: 3, energy: -1.56988136797976, parameters: [3.4885308263206483, -3.7630058196903384, 6.018909689556745, 4.580231825361526, 5.3376202835626945, 5.503375091367159, 3.201331239688919, -3.165938018064964]\n",
      "Round num: 4, energy: -1.5490028651010863, parameters: [3.4885308263206483, -3.7630058196903384, 7.018909689556745, 4.580231825361526, 5.3376202835626945, 5.503375091367159, 3.201331239688919, -3.165938018064964]\n",
      "Round num: 5, energy: -1.717301148184244, parameters: [3.4885308263206483, -3.7630058196903384, 6.018909689556745, 5.580231825361526, 5.3376202835626945, 5.503375091367159, 3.201331239688919, -3.165938018064964]\n",
      "Round num: 6, energy: -1.7975233490278528, parameters: [3.4885308263206483, -3.7630058196903384, 6.018909689556745, 5.580231825361526, 6.3376202835626945, 5.503375091367159, 3.201331239688919, -3.165938018064964]\n",
      "Round num: 7, energy: -1.7369749858510015, parameters: [3.4885308263206483, -3.7630058196903384, 6.018909689556745, 5.580231825361526, 6.3376202835626945, 6.503375091367159, 3.201331239688919, -3.165938018064964]\n",
      "Round num: 8, energy: -1.7706324484103633, parameters: [3.4885308263206483, -3.7630058196903384, 6.018909689556745, 5.580231825361526, 6.3376202835626945, 5.503375091367159, 4.201331239688919, -3.165938018064964]\n",
      "Round num: 9, energy: -1.766683905026321, parameters: [3.4885308263206483, -3.7630058196903384, 6.018909689556745, 5.580231825361526, 6.3376202835626945, 5.503375091367159, 3.201331239688919, -2.165938018064964]\n",
      "Round num: 10, energy: -1.5663356178926047, parameters: [3.1382336634720867, -2.945262815706487, 5.967153746435947, 5.945672288381372, 6.536483951518888, 5.353281109109483, 3.134671099787441, -3.2423862442091216]\n",
      "Round num: 11, energy: -1.668118984936539, parameters: [3.9762082761731774, -3.6666888868305114, 6.012813674458631, 5.623274816092684, 6.361043215292446, 5.485696441789789, 3.1934797506660377, -3.1749423857317094]\n",
      "Round num: 12, energy: -1.798877017727139, parameters: [3.4885308263206483, -3.778797025448344, 5.769408912362147, 5.580231825361526, 6.3376202835626945, 5.503375091367159, 3.201331239688919, -3.165938018064964]\n",
      "Round num: 13, energy: -1.7978249370182224, parameters: [3.3085900891000093, -4.21243702468494, 5.791800542642461, 5.71755628034004, 6.412348857928663, 5.446973087771923, 3.1762818313526977, -3.1946655730340217]\n",
      "Round num: 14, energy: -1.72763096656216, parameters: [3.352502697440878, -3.8514522165153346, 5.770186744880672, 5.110788056620748, 6.394112150284298, 5.460737392241127, 3.1823948709813514, -3.1876549211414478]\n",
      "Round num: 15, energy: -1.8001190235531417, parameters: [3.3145632904427185, -3.655670590387536, 5.758845264514762, 5.698097082160426, 6.378590050315964, 5.472452824331831, 3.187597959942186, -3.181687833131823]\n",
      "Round num: 16, energy: -1.7913583365900982, parameters: [3.3145632904427185, -3.655670590387536, 5.758845264514762, 5.698097082160426, 6.303286567600604, 5.372681157557453, 3.187597959942186, -3.181687833131823]\n",
      "Round num: 17, energy: -1.830641526018644, parameters: [3.25244984659314, -3.670620881582397, 5.758225368656528, 5.726934967404338, 6.200153478291007, 5.632475607391128, 3.1798356799271223, -3.1905898927264005]\n",
      "Round num: 18, energy: -1.8292840708170945, parameters: [3.2285485953660324, -3.6763737531609255, 5.757986832749903, 5.7380317847333275, 6.193058269152535, 5.647584037265319, 3.176848754823042, -2.9426283835428007]\n",
      "Round num: 19, energy: -1.8298321568052969, parameters: [3.239870226687077, -3.673105372932696, 5.758382615117071, 5.7258246752159625, 6.199549284723445, 5.63293162743512, 3.304168684549032, -3.190357625430104]\n",
      "Round num: 20, energy: -1.8441032202416987, parameters: [3.308729196847589, -3.6717769622852656, 5.751135012619005, 5.888884598955349, 6.132162475548678, 5.799728097775336, 3.1774627646218625, -3.2118393440940265]\n",
      "Round num: 21, energy: -1.8105612048180437, parameters: [3.200021183504212, -3.6789278533904883, 5.74268359748483, 5.822770284242686, 6.059923595232557, 5.998354899889741, 3.154036736178408, -3.2429691113190917]\n",
      "Round num: 22, energy: -1.846927554844682, parameters: [3.3540796938617348, -3.5637621861567426, 5.744298626881337, 5.8543075380252905, 6.111102246569492, 5.810849930478995, 3.183752859595719, -3.204625638816175]\n",
      "Round num: 23, energy: -1.8353398738418012, parameters: [3.3806663927737075, -3.5616888965750175, 5.7412262263437155, 5.933595125160123, 5.910770636404275, 5.686933128103643, 3.1831521588129785, -3.206723020230327]\n",
      "Round num: 24, energy: -1.8449722847350312, parameters: [3.3530338586746846, -3.5695678078622337, 5.6195944062759065, 5.855316991538419, 6.115734461572224, 5.806777926282289, 3.183735247386062, -3.2046458371264213]\n",
      "Round num: 25, energy: -1.8434013380091643, parameters: [3.317840596829894, -3.4444514455957616, 5.758096611043789, 6.022983421477994, 6.2406827793316255, 5.772588803028596, 3.179917171115824, -3.2109498902976434]\n",
      "Round num: 26, energy: -1.832789230118613, parameters: [3.5825762918194273, -3.6197956452105395, 5.761196366740912, 5.868441664216697, 6.187997699097502, 5.824501664001035, 3.2004666766642464, -3.187725433964573]\n",
      "Round num: 27, energy: -1.8449721345423902, parameters: [3.358704845762455, -3.5568267907711113, 5.747161392079582, 5.82168198981583, 6.128886589965669, 5.772914596196736, 3.0816830447815473, -3.252680470902583]\n",
      "Round num: 28, energy: -1.846030480003213, parameters: [3.3521549364380823, -3.5644758646518713, 5.7441490908002795, 5.858404459362179, 6.109088326251584, 5.815521102903864, 3.154431200925636, -3.1498570944467024]\n",
      "Round num: 29, energy: -1.8425367526185954, parameters: [3.32421049860673, -3.5522231860419193, 5.752972153680844, 5.788392654670293, 6.147918825710774, 5.735907648604183, 3.2310408428907187, -3.173453194896177]\n",
      "Round num: 30, energy: -1.8439388168540423, parameters: [3.2972313612421615, -3.530726565197944, 5.7561788365304185, 5.828458105312779, 6.095553500144546, 5.908870259598994, 3.1854671670525065, -3.2299217845134875]\n",
      "Round num: 31, energy: -1.8452188830343474, parameters: [3.351609531655072, -3.554163856033262, 5.748514949142324, 5.875107978847836, 6.057567329703788, 5.789757435089178, 3.1863116965010287, -3.2109625397778085]\n",
      "Round num: 32, energy: -1.8460301910880317, parameters: [3.366412245792816, -3.5786162933151973, 5.744066613948401, 5.834293173180118, 6.097930055015229, 5.816008459565382, 3.184827721099343, -3.2032381398769516]\n",
      "Round num: 33, energy: -1.8488615600605156, parameters: [3.396734750483206, -3.5520044997531404, 5.753660924648517, 5.883434815593835, 6.138838988288228, 5.822666168028757, 3.1920930440870756, -3.2104559946083273]\n",
      "Round num: 34, energy: -1.8482345705487981, parameters: [3.4045047224576037, -3.527985165373427, 5.767153692501405, 5.877246154091564, 6.176845740098927, 5.798990912017259, 3.223356725573004, -3.202322970233145]\n",
      "Round num: 35, energy: -1.8486958897287287, parameters: [3.3970787544125645, -3.5275661005265566, 5.751725121636959, 5.873106417305189, 6.133092987693712, 5.837932337994115, 3.1908501207140403, -3.211536889272765]\n",
      "Round num: 36, energy: -1.8505514870842505, parameters: [3.3836621683832475, -3.563584287756056, 5.766895106705179, 5.913963034394945, 6.1625970251956375, 5.862880602320574, 3.1943723799313224, -3.2279862534248553]\n",
      "Round num: 37, energy: -1.8507945928888465, parameters: [3.3923012568058293, -3.559315274687743, 5.776493045090908, 5.918853649333084, 6.187102137580118, 5.857607868736017, 3.149132713536697, -3.2599616107331517]\n",
      "Round num: 38, energy: -1.8502797446299, parameters: [3.392689961700908, -3.56275130628659, 5.749161076146981, 5.914169587926332, 6.2005188845706325, 5.8615405349115415, 3.1491106026106057, -3.2595708604374]\n",
      "Round num: 39, energy: -1.8519629732262093, parameters: [3.4017982745497735, -3.550444119242997, 5.7787708140053, 5.974629895304867, 6.172445883933737, 5.863901301640732, 3.15657267813529, -3.277608572715674]\n",
      "Round num: 40, energy: -1.8515813445387446, parameters: [3.4065393735524254, -3.5488498825150683, 5.7923617475097275, 6.0032233501430134, 6.1812744409743114, 5.8802585261945275, 3.1321511984537183, -3.233596979106261]\n",
      "Round num: 41, energy: -1.8511148148721415, parameters: [3.4294400503484517, -3.5585313252105446, 5.782309071337859, 5.969037268517129, 6.1721855466191204, 5.8730576749969865, 3.1608273784725984, -3.278742445494658]\n",
      "Round num: 42, energy: -1.852728806170222, parameters: [3.3564680727295926, -3.5548839199482374, 5.797810113219915, 5.998872681425329, 6.165979048607668, 5.872105527884492, 3.1616835592887447, -3.3049262041213288]\n",
      "Round num: 43, energy: -1.8526581916043954, parameters: [3.3541903181057116, -3.5373688576872664, 5.799849113056803, 6.013617655052332, 6.1575616801427655, 5.836934773330425, 3.123452522056353, -3.3294876858484357]\n",
      "Round num: 44, energy: -1.8530744563568138, parameters: [3.3579791178481178, -3.5708794499496705, 5.802673752041071, 6.006558604461014, 6.17993827735458, 5.853077256804358, 3.170086171573703, -3.3020705419545213]\n",
      "Round num: 45, energy: -1.8535774425735643, parameters: [3.3561480778187676, -3.5263814489196914, 5.81837817685468, 6.0117311253184615, 6.211873831249356, 5.8480786518760866, 3.194330898216314, -3.306165519638199]\n",
      "Round num: 46, energy: -1.8534482271977992, parameters: [3.356754841986084, -3.5222579249701313, 5.834656270737077, 6.008093037853272, 6.191750079041343, 5.837937505877634, 3.203112507156568, -3.296364807114959]\n",
      "Round num: 47, energy: -1.8528592554304268, parameters: [3.3322507716128986, -3.519024579800361, 5.782247831991946, 6.041234896657918, 6.209414289953891, 5.831808960809451, 3.2226232821666474, -3.3003380236637696]\n",
      "Round num: 48, energy: -1.852537566250911, parameters: [3.342217541569422, -3.524135943045161, 5.811703838631609, 5.98930980543022, 6.21780964369404, 5.837936072951893, 3.189781545257205, -3.297715928052342]\n",
      "Round num: 49, energy: -1.8547194840152106, parameters: [3.3551681216136884, -3.5406336488457137, 5.8582816602853, 6.0446761734768755, 6.2247290517654905, 5.867791590033853, 3.1978671613760885, -3.3275696900865315]\n",
      "Round num: 50, energy: -1.8549560075887657, parameters: [3.398723651284154, -3.5469470342959526, 5.8630810213300695, 6.046824749221497, 6.227448646472562, 5.866025297733909, 3.2205890128989885, -3.3651842914352788]\n",
      "Round num: 51, energy: -1.8548131031518316, parameters: [3.40135131742639, -3.5553528711672624, 5.861916869422777, 6.039726336054132, 6.232037335161206, 5.883516073692299, 3.2384431778947196, -3.3509891323034715]\n",
      "Round num: 52, energy: -1.8537996133001327, parameters: [3.4339058654989127, -3.539489720243938, 5.874334371925024, 6.0815885590639365, 6.241432666956992, 5.8679272634518345, 3.200205342366627, -3.3394350085553763]\n",
      "Round num: 53, energy: -1.8549194202381734, parameters: [3.4043425926986184, -3.534668515719715, 5.870307639063209, 6.03338763959319, 6.221346705996605, 5.884445444604531, 3.207744686328934, -3.3696492490592793]\n",
      "Round num: 54, energy: -1.8558384492247502, parameters: [3.376748766153861, -3.5305647929493302, 5.849537039333684, 6.078063175124613, 6.204540135976296, 5.888052450469131, 3.2399339599880044, -3.3899123241530953]\n",
      "Round num: 55, energy: -1.855318811888587, parameters: [3.340232581911603, -3.5356557652996696, 5.870855957959756, 6.0797608861288905, 6.214265835327462, 5.894475618483297, 3.253990254381666, -3.4318181238422274]\n",
      "Round num: 56, energy: -1.855767602898091, parameters: [3.3779040538822818, -3.5064684431221154, 5.85416146529951, 6.080946174526992, 6.220569964148325, 5.884305401816702, 3.248489097913878, -3.3853614358395543]\n",
      "Round num: 57, energy: -1.856114153249399, parameters: [3.395264712608282, -3.53038472543846, 5.85171678569667, 6.1323003181333124, 6.195181223433509, 5.9061901603063935, 3.226479781192998, -3.3855103203521804]\n",
      "Round num: 58, energy: -1.8557391294767946, parameters: [3.39673832813973, -3.530041579972606, 5.801541011227125, 6.134392934778048, 6.221796573130665, 5.920073508616894, 3.211585135163413, -3.4016037550463363]\n",
      "Round num: 59, energy: -1.855750870564543, parameters: [3.394987157534677, -3.532306133080043, 5.836025350649566, 6.122729337484034, 6.170893692909664, 5.902131149176948, 3.2317467973629945, -3.3864418147423794]\n",
      "Round num: 60, energy: -1.8563184520700862, parameters: [3.4085864960090064, -3.496012148579889, 5.876996832982398, 6.17398812918753, 6.204964545023679, 5.903165838376445, 3.23416513403487, -3.3829751451928747]\n",
      "Round num: 61, energy: -1.8568531378109239, parameters: [3.377034697988493, -3.511746567236085, 5.905623727844019, 6.189463191946769, 6.208948056136388, 5.916599588974118, 3.2404994299964387, -3.419957953539041]\n",
      "Round num: 62, energy: -1.8559983591163627, parameters: [3.3300787301050194, -3.502898240269824, 5.908642468804526, 6.202395672088263, 6.207291854859647, 5.923701944643497, 3.21926886286116, -3.389252759991068]\n",
      "Round num: 63, energy: -1.8568360255977487, parameters: [3.372243061811396, -3.525726293231427, 5.898334178044154, 6.2007198390722875, 6.215997447730334, 5.9030931918044125, 3.2573707217525394, -3.412111733354888]\n",
      "Round num: 64, energy: -1.8559927479461895, parameters: [3.3895438058665697, -3.520121608634616, 5.91606530851968, 6.185270767546964, 6.216225787105865, 5.964335320853775, 3.2738374517025814, -3.409472787117697]\n",
      "Round num: 65, energy: -1.8566796046817666, parameters: [3.384431628996227, -3.531238464836365, 5.919062914274872, 6.1852540297903085, 6.217140913019749, 5.914774195015539, 3.2262702167289334, -3.4115520279863714]\n",
      "Round num: 66, energy: -1.8565975149119145, parameters: [3.3892808076272334, -3.502118897556937, 5.913827245227507, 6.20365803864243, 6.2071371071228665, 5.883624738882299, 3.2403572148131494, -3.467959608771176]\n",
      "Round num: 67, energy: -1.8568482220540146, parameters: [3.383157752807863, -3.506932732396511, 5.909725486535764, 6.196560615294599, 6.208042581629627, 5.900112163928208, 3.240428322404794, -3.4439587811551085]\n",
      "Round num: 68, energy: -1.8568144385208678, parameters: [3.381233446234435, -3.5159718520516727, 5.901996569726587, 6.199521126842764, 6.201144842803506, 5.921101652314019, 3.236874903449329, -3.420167406845989]\n",
      "Round num: 69, energy: -1.8566998505754857, parameters: [3.385777207453749, -3.510922106858029, 5.913728320733394, 6.188575123711723, 6.21408090051112, 5.93353665406017, 3.261795715265434, -3.428096514276636]\n",
      "Round num: 70, energy: -1.8568164633134754, parameters: [3.3765821611017013, -3.5124179367595865, 5.9131130142884585, 6.186630185177871, 6.19745752470303, 5.912599928400739, 3.2449773178973875, -3.41659809012622]\n",
      "Round num: 71, energy: -1.8565371265758819, parameters: [3.3695102014840947, -3.5260532565471996, 5.8907774730585, 6.172976349309158, 6.201820914291628, 5.918302128629373, 3.240987001407339, -3.432961926545891]\n",
      "Round num: 72, energy: -1.8568420762755804, parameters: [3.3873167739455248, -3.505095973622908, 5.89964682846357, 6.187092298495264, 6.20955779320824, 5.911918217879319, 3.240953025370065, -3.414448696034004]\n",
      "Round num: 73, energy: -1.856891979252704, parameters: [3.369328053674769, -3.501516839435786, 5.907551308030385, 6.196197575914342, 6.211908476453189, 5.914971122715995, 3.237941215967416, -3.4163422952405136]\n",
      "Round num: 74, energy: -1.85676484232297, parameters: [3.359543634318866, -3.497958760660353, 5.897814082900275, 6.191652568749985, 6.210531121948717, 5.912838056641896, 3.2356996767910076, -3.4193093848499307]\n",
      "Round num: 75, energy: -1.856880193904265, parameters: [3.3690747750645933, -3.504375442896463, 5.908532657426495, 6.195571861109954, 6.212508607977592, 5.911204795141732, 3.232180285858523, -3.4144158659441812]\n",
      "Round num: 76, energy: -1.856910085553335, parameters: [3.373511647172573, -3.499504117628359, 5.917468089199065, 6.19981470927553, 6.221398816124451, 5.918922244199773, 3.239785850354921, -3.414899958666801]\n",
      "Round num: 77, energy: -1.8569746016240807, parameters: [3.3777477208619704, -3.500601995124067, 5.915820707540457, 6.212284891072355, 6.216357407159307, 5.924194786832189, 3.236237535073459, -3.413917300116601]\n",
      "Round num: 78, energy: -1.8570013373048273, parameters: [3.378436184918796, -3.4985511579945614, 5.9249457256762215, 6.215006700481983, 6.205975416984814, 5.922244810469572, 3.239948024866184, -3.4090767790113476]\n",
      "Round num: 79, energy: -1.8569937317894878, parameters: [3.3794483497681216, -3.4952742184551515, 5.926470646773038, 6.211900018434619, 6.2041125054705875, 5.925703456272383, 3.235738700116377, -3.411112559741054]\n",
      "Round num: 80, energy: -1.85703571593195, parameters: [3.3776218058100373, -3.4956427277030144, 5.925531782287084, 6.229173139622868, 6.203291288693885, 5.926682803255013, 3.241177127993866, -3.406715430778108]\n",
      "{   'aux_operators_evaluated': None,\n",
      "    'cost_function_evals': 80,\n",
      "    'eigenvalue': -1.85703571593195,\n",
      "    'optimal_circuit': <qiskit.circuit.quantumcircuit.QuantumCircuit object at 0x7f1fd7bcbeb0>,\n",
      "    'optimal_parameters': {   ParameterVectorElement(θ[6]): 3.241177127993866,\n",
      "                              ParameterVectorElement(θ[7]): -3.406715430778108,\n",
      "                              ParameterVectorElement(θ[4]): 6.203291288693885,\n",
      "                              ParameterVectorElement(θ[5]): 5.926682803255013,\n",
      "                              ParameterVectorElement(θ[0]): 3.3776218058100373,\n",
      "                              ParameterVectorElement(θ[1]): -3.4956427277030144,\n",
      "                              ParameterVectorElement(θ[2]): 5.925531782287084,\n",
      "                              ParameterVectorElement(θ[3]): 6.229173139622868},\n",
      "    'optimal_point': array([ 3.37762181, -3.49564273,  5.92553178,  6.22917314,  6.20329129,\n",
      "        5.9266828 ,  3.24117713, -3.40671543]),\n",
      "    'optimal_value': -1.85703571593195,\n",
      "    'optimizer_evals': None,\n",
      "    'optimizer_result': <qiskit_algorithms.optimizers.optimizer.OptimizerResult object at 0x7f1fd7c56350>,\n",
      "    'optimizer_time': 0.1939525604248047}\n"
     ]
    }
   ],
   "source": [
    "# Do the same thing to compare againt not cutting at all\n",
    "estimator = Estimator()\n",
    "optimizer = COBYLA(maxiter=80)\n",
    "no_cut_vqe = VQE(ansatz=circuit, optimizer=optimizer, estimator=estimator, callback=callback)\n",
    "no_cut_result = no_cut_vqe.compute_minimum_eigenvalue(H2_op)\n",
    "print(no_cut_result)"
   ]
  },
  {
   "cell_type": "code",
   "execution_count": null,
   "id": "df6dbf1e",
   "metadata": {},
   "outputs": [],
   "source": []
  }
 ],
 "metadata": {
  "kernelspec": {
   "display_name": "cutting",
   "language": "python",
   "name": "cutting"
  },
  "language_info": {
   "codemirror_mode": {
    "name": "ipython",
    "version": 3
   },
   "file_extension": ".py",
   "mimetype": "text/x-python",
   "name": "python",
   "nbconvert_exporter": "python",
   "pygments_lexer": "ipython3",
   "version": "3.10.6"
  }
 },
 "nbformat": 4,
 "nbformat_minor": 5
}
