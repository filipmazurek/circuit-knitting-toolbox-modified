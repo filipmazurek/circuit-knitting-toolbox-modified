{
 "cells": [
  {
   "cell_type": "markdown",
   "metadata": {},
   "source": [
    "# Circuit Decomposition \n",
    "Edge and gate decomposition with zero classical communication."
   ]
  },
  {
   "cell_type": "markdown",
   "metadata": {},
   "source": [
    "Prerequisites: \n",
    "\n",
    "1. Create a new Conda environment\n",
    "```shell\n",
    "conda env create -n knitting\n",
    "```\n",
    "\n",
    "1. Install everything needed to run the `circuit-knitting-toolbox` locally: \n",
    "```shell\n",
    "cd circuit-knitting-toolbox\n",
    "pip install -e .\n",
    "```\n"
   ]
  },
  {
   "cell_type": "code",
   "execution_count": 1,
   "metadata": {},
   "outputs": [],
   "source": [
    "# Prevent from overriding already run experiments\n",
    "# exit()"
   ]
  },
  {
   "cell_type": "code",
   "execution_count": 1,
   "metadata": {
    "ExecuteTime": {
     "end_time": "2024-02-29T01:11:36.651387Z",
     "start_time": "2024-02-29T01:11:20.866218Z"
    }
   },
   "outputs": [
    {
     "name": "stdout",
     "output_type": "stream",
     "text": [
      "global phase: 3.8832\n",
      "     ┌─────────────┐┌─────────────┐                    ┌─────────────┐»\n",
      "q_0: ┤ U3(0.8,0,0) ├┤ U3(0,0,0.8) ├────────────■───────┤ U3(0.8,0,0) ├»\n",
      "     ├─────────────┤├─────────────┤          ┌─┴─┐     ├─────────────┤»\n",
      "q_1: ┤ U3(0.8,0,0) ├┤ U3(0,0,0.8) ├──■───────┤ X ├─────┤ U3(0.8,0,0) ├»\n",
      "     ├─────────────┤├─────────────┤┌─┴─┐┌────┴───┴────┐├─────────────┤»\n",
      "q_2: ┤ U3(0.8,0,0) ├┤ U3(0,0,0.8) ├┤ X ├┤ U3(0.8,0,0) ├┤ U3(0,0,0.8) ├»\n",
      "     └─────────────┘└─────────────┘└───┘└─────────────┘└─────────────┘»\n",
      "«     ┌─────────────┐\n",
      "«q_0: ┤ U3(0,0,0.8) ├\n",
      "«     ├─────────────┤\n",
      "«q_1: ┤ U3(0,0,0.8) ├\n",
      "«     └─────────────┘\n",
      "«q_2: ───────────────\n",
      "«                    \n"
     ]
    }
   ],
   "source": [
    "from qiskit_nature.second_q.mappers import JordanWignerMapper\n",
    "from qiskit.circuit.library import EfficientSU2\n",
    "\n",
    "# Create a quantum circuit to cut. We create a simple ansatz\n",
    "mapper = JordanWignerMapper()\n",
    "ansatz = EfficientSU2(3, reps=1)\n",
    "# Decompose to the actual individual gates\n",
    "circuit = ansatz.decompose(reps=3)\n",
    "# Set some arbitrary parameters\n",
    "circuit.assign_parameters([0.8] * len(circuit.parameters), inplace=True)\n",
    "\n",
    "print(circuit)"
   ]
  },
  {
   "cell_type": "markdown",
   "metadata": {},
   "source": [
    "Create a list of observables to use, and automatically find cut locations."
   ]
  },
  {
   "cell_type": "code",
   "execution_count": 2,
   "metadata": {
    "ExecuteTime": {
     "end_time": "2024-02-29T01:11:45.646554Z",
     "start_time": "2024-02-29T01:11:36.643239Z"
    }
   },
   "outputs": [
    {
     "name": "stdout",
     "output_type": "stream",
     "text": [
      "Exporting as a LP file to let you check the model that will be solved :  inf <class 'float'>\n",
      "Version identifier: 22.1.1.0 | 2022-11-28 | 9160aff4d\n",
      "CPXPARAM_Read_DataCheck                          1\n",
      "CPXPARAM_TimeLimit                               300\n",
      "Warning:  Non-integral bounds for integer variables rounded.\n",
      "Tried aggregator 2 times.\n",
      "MIP Presolve eliminated 19 rows and 7 columns.\n",
      "MIP Presolve modified 3 coefficients.\n",
      "Aggregator did 24 substitutions.\n",
      "Reduced MIP has 11 rows, 8 columns, and 35 nonzeros.\n",
      "Reduced MIP has 5 binaries, 3 generals, 0 SOSs, and 0 indicators.\n",
      "Presolve time = 0.02 sec. (0.12 ticks)\n",
      "Found incumbent of value 2.000000 after 0.02 sec. (0.13 ticks)\n",
      "Probing time = 0.00 sec. (0.00 ticks)\n",
      "Tried aggregator 1 time.\n",
      "Detecting symmetries...\n",
      "Reduced MIP has 11 rows, 8 columns, and 35 nonzeros.\n",
      "Reduced MIP has 5 binaries, 3 generals, 0 SOSs, and 0 indicators.\n",
      "Presolve time = 0.00 sec. (0.02 ticks)\n",
      "Probing time = 0.00 sec. (0.00 ticks)\n",
      "Clique table members: 1.\n",
      "MIP emphasis: balance optimality and feasibility.\n",
      "MIP search method: dynamic search.\n",
      "Parallel mode: deterministic, using up to 8 threads.\n",
      "Root relaxation solution time = 0.00 sec. (0.02 ticks)\n",
      "\n",
      "        Nodes                                         Cuts/\n",
      "   Node  Left     Objective  IInf  Best Integer    Best Bound    ItCnt     Gap\n",
      "\n",
      "*     0+    0                            2.0000        0.0000           100.00%\n",
      "*     0     0      integral     0        1.0000        1.0000        3    0.00%\n",
      "Elapsed time = 0.06 sec. (0.20 ticks, tree = 0.00 MB, solutions = 2)\n",
      "\n",
      "Root node processing (before b&c):\n",
      "  Real time             =    0.06 sec. (0.20 ticks)\n",
      "Parallel b&c, 8 threads:\n",
      "  Real time             =    0.00 sec. (0.00 ticks)\n",
      "  Sync time (average)   =    0.00 sec.\n",
      "  Wait time (average)   =    0.00 sec.\n",
      "                          ------------\n",
      "Total (root+branch&cut) =    0.06 sec. (0.20 ticks)\n",
      "Warning: Relaxation of model `docplex_cutter` found one relaxed solution, but no relaxed constraints - check\n",
      "* number of relaxations: 0\n",
      "* total absolute relaxation: 0\n",
      "solution for: docplex_cutter\n",
      "objective: 1\n",
      "status: OPTIMAL_SOLUTION(2)\n",
      "bin_wire_cut_on_qubit_sc0_q1 = 1\n",
      "bin_wire_cut_on_qubit_sc0_q2 = 1\n",
      "bin_wire_cut_on_qubit_sc1_q0 = 1\n",
      "num_vertices_per_qubit_sc0_q1 = 1\n",
      "num_vertices_per_qubit_sc0_q2 = 2\n",
      "num_vertices_per_qubit_sc1_q0 = 1\n",
      "total_num_gate_cuts = 1\n",
      "weighted_total_cuts = 1\n",
      "bin_sc_0_vx_0 = 1\n",
      "bin_sc_0_vx_2 = 1\n",
      "bin_sc_0_vx_3 = 1\n",
      "bin_sc_1_vx_1 = 1\n",
      "bin_sc_0_edg_0 = 1\n",
      "bin_sc_1_edg_0 = 1\n",
      "num_cuts = 1\n",
      "d_0 = 2\n",
      "d_1 = 1\n",
      "MIP MODEL CUT EDGES:  [('q[1]0', 'q[2]0')]\n"
     ]
    }
   ],
   "source": [
    "from circuit_knitting.cutting.gate_and_wire_cutting.frontend import cut_wires_and_gates_to_subcircuits\n",
    "\n",
    "observables = [\"ZZI\", \"IZZ\", \"IIZ\", \"XIX\", \"ZIZ\", \"IXI\"]\n",
    "\n",
    "subcircuits, subobservables = cut_wires_and_gates_to_subcircuits(\n",
    "    circuit=circuit,\n",
    "    observables=observables,\n",
    "    method='automatic',\n",
    "    max_subcircuit_width=2,\n",
    "    max_cuts=9,\n",
    "    num_subcircuits=[2],\n",
    "    model='gurobi'\n",
    ")"
   ]
  },
  {
   "cell_type": "code",
   "execution_count": 4,
   "metadata": {
    "collapsed": false
   },
   "outputs": [
    {
     "name": "stdout",
     "output_type": "stream",
     "text": [
      "      ┌─────────────┐┌─────────────┐                 ┌─────────────┐»\n",
      "q1_0: ┤ U3(0.8,0,0) ├┤ U3(0,0,0.8) ├──────────────■──┤ U3(0.8,0,0) ├»\n",
      "      ├─────────────┤├─────────────┤┌──────────┐┌─┴─┐├─────────────┤»\n",
      "q1_1: ┤ U3(0.8,0,0) ├┤ U3(0,0,0.8) ├┤ cut_cx_0 ├┤ X ├┤ U3(0.8,0,0) ├»\n",
      "      └─────────────┘└─────────────┘└──────────┘└───┘└─────────────┘»\n",
      "«      ┌─────────────┐\n",
      "«q1_0: ┤ U3(0,0,0.8) ├\n",
      "«      ├─────────────┤\n",
      "«q1_1: ┤ U3(0,0,0.8) ├\n",
      "«      └─────────────┘\n",
      "    ┌─────────────┐┌─────────────┐┌──────────┐┌─────────────┐┌─────────────┐\n",
      "q2: ┤ U3(0.8,0,0) ├┤ U3(0,0,0.8) ├┤ cut_cx_0 ├┤ U3(0.8,0,0) ├┤ U3(0,0,0.8) ├\n",
      "    └─────────────┘└─────────────┘└──────────┘└─────────────┘└─────────────┘\n"
     ]
    }
   ],
   "source": [
    "# Visualize the subcircuits. Note the decomposed 2-qubit gates marked 'cut_cx_0'\n",
    "for key in subcircuits.keys():\n",
    "    print(subcircuits[key])"
   ]
  },
  {
   "cell_type": "code",
   "execution_count": 5,
   "metadata": {},
   "outputs": [],
   "source": [
    "from circuit_knitting.cutting.gate_and_wire_cutting.frontend import execute_simulation\n",
    "\n",
    "# Execute the subcircuits\n",
    "quasi_dists, coefficients = execute_simulation(subcircuits, subobservables)"
   ]
  },
  {
   "cell_type": "markdown",
   "metadata": {},
   "source": [
    "Now check the actual expectation values from the observables."
   ]
  },
  {
   "cell_type": "code",
   "execution_count": 6,
   "metadata": {},
   "outputs": [
    {
     "data": {
      "text/plain": [
       "[0.515217661857605,\n",
       " 0.5724585056304932,\n",
       " 0.39968442916870117,\n",
       " 0.09736669063568115,\n",
       " 0.19814372062683105,\n",
       " 0.24010205268859863]"
      ]
     },
     "execution_count": 6,
     "metadata": {},
     "output_type": "execute_result"
    }
   ],
   "source": [
    "from circuit_knitting.cutting.cutting_reconstruction import reconstruct_expectation_values\n",
    "\n",
    "simulation_expvals = reconstruct_expectation_values(quasi_dists, coefficients, subobservables)\n",
    "simulation_expvals"
   ]
  },
  {
   "cell_type": "code",
   "execution_count": 7,
   "metadata": {},
   "outputs": [
    {
     "data": {
      "text/plain": [
       "array([0.50390696, 0.57454157, 0.39584538, 0.09798816, 0.18481229,\n",
       "       0.23530298])"
      ]
     },
     "execution_count": 7,
     "metadata": {},
     "output_type": "execute_result"
    }
   ],
   "source": [
    "# Create ideal results\n",
    "from circuit_knitting.cutting.gate_and_wire_cutting.frontend import exact_observables\n",
    "\n",
    "ideal_expvals = exact_observables(circuit, observables)\n",
    "ideal_expvals"
   ]
  },
  {
   "cell_type": "code",
   "execution_count": 9,
   "metadata": {},
   "outputs": [
    {
     "name": "stdout",
     "output_type": "stream",
     "text": [
      "Simulated expectation values: [0.51521766, 0.57245851, 0.39968443, 0.09736669, 0.19814372, 0.24010205]\n",
      "Exact expectation values: [0.50390696, 0.57454157, 0.39584538, 0.09798816, 0.18481229, 0.23530298]\n",
      "Errors in estimation: [0.0113107, -0.00208307, 0.00383905, -0.00062147, 0.01333143, 0.00479908]\n",
      "Relative errors in estimation: [0.022446, -0.00362561, 0.00969835, -0.00634232, 0.07213496, 0.02039531]\n"
     ]
    }
   ],
   "source": [
    "# Compare the error between results\n",
    "from circuit_knitting.cutting.gate_and_wire_cutting.frontend import compare_results\n",
    "\n",
    "compare_results(simulation_expvals, ideal_expvals)"
   ]
  }
 ],
 "metadata": {
  "kernelspec": {
   "display_name": "azure",
   "language": "python",
   "name": "python3"
  },
  "language_info": {
   "codemirror_mode": {
    "name": "ipython",
    "version": 3
   },
   "file_extension": ".py",
   "mimetype": "text/x-python",
   "name": "python",
   "nbconvert_exporter": "python",
   "pygments_lexer": "ipython3",
   "version": "3.9.17"
  }
 },
 "nbformat": 4,
 "nbformat_minor": 2
}
